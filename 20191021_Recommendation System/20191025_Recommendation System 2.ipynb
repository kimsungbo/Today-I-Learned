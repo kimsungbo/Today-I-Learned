{
 "cells": [
  {
   "cell_type": "code",
   "execution_count": 1,
   "metadata": {},
   "outputs": [],
   "source": [
    "%matplotlib inline\n",
    "import pandas as pd"
   ]
  },
  {
   "cell_type": "code",
   "execution_count": 5,
   "metadata": {},
   "outputs": [],
   "source": [
    "# 데이터 불러오기 (valid는 20% uniform random sampling)\n",
    "metadata = pd.read_csv('metadata.csv')\n",
    "ratings_train = pd.read_csv('ratings-train.csv')\n",
    "ratings_valid = pd.read_csv('ratings-valid.csv').sample(frac=0.2, random_state=17)"
   ]
  },
  {
   "cell_type": "code",
   "execution_count": 6,
   "metadata": {},
   "outputs": [
    {
     "data": {
      "text/html": [
       "<div>\n",
       "<style scoped>\n",
       "    .dataframe tbody tr th:only-of-type {\n",
       "        vertical-align: middle;\n",
       "    }\n",
       "\n",
       "    .dataframe tbody tr th {\n",
       "        vertical-align: top;\n",
       "    }\n",
       "\n",
       "    .dataframe thead th {\n",
       "        text-align: right;\n",
       "    }\n",
       "</style>\n",
       "<table border=\"1\" class=\"dataframe\">\n",
       "  <thead>\n",
       "    <tr style=\"text-align: right;\">\n",
       "      <th></th>\n",
       "      <th>itemid</th>\n",
       "      <th>title</th>\n",
       "      <th>genres</th>\n",
       "      <th>country</th>\n",
       "      <th>running_min</th>\n",
       "    </tr>\n",
       "  </thead>\n",
       "  <tbody>\n",
       "    <tr>\n",
       "      <th>0</th>\n",
       "      <td>55396</td>\n",
       "      <td>시라노;연애조작단 (2010)</td>\n",
       "      <td>로맨스/멜로/코미디</td>\n",
       "      <td>한국</td>\n",
       "      <td>121</td>\n",
       "    </tr>\n",
       "    <tr>\n",
       "      <th>1</th>\n",
       "      <td>42858</td>\n",
       "      <td>본 얼티메이텀 (2007)</td>\n",
       "      <td>액션</td>\n",
       "      <td>미국</td>\n",
       "      <td>-1</td>\n",
       "    </tr>\n",
       "    <tr>\n",
       "      <th>2</th>\n",
       "      <td>121058</td>\n",
       "      <td>어느 가족 (2018)</td>\n",
       "      <td>드라마</td>\n",
       "      <td>일본</td>\n",
       "      <td>121</td>\n",
       "    </tr>\n",
       "    <tr>\n",
       "      <th>3</th>\n",
       "      <td>4285</td>\n",
       "      <td>펀치 드렁크 러브 (2002)</td>\n",
       "      <td>코미디</td>\n",
       "      <td>미국</td>\n",
       "      <td>95</td>\n",
       "    </tr>\n",
       "    <tr>\n",
       "      <th>4</th>\n",
       "      <td>36948</td>\n",
       "      <td>자토이치 (2003)</td>\n",
       "      <td>액션/시대극</td>\n",
       "      <td>일본</td>\n",
       "      <td>115</td>\n",
       "    </tr>\n",
       "  </tbody>\n",
       "</table>\n",
       "</div>"
      ],
      "text/plain": [
       "   itemid             title      genres country  running_min\n",
       "0   55396  시라노;연애조작단 (2010)  로맨스/멜로/코미디      한국          121\n",
       "1   42858    본 얼티메이텀 (2007)          액션      미국           -1\n",
       "2  121058      어느 가족 (2018)         드라마      일본          121\n",
       "3    4285  펀치 드렁크 러브 (2002)         코미디      미국           95\n",
       "4   36948       자토이치 (2003)      액션/시대극      일본          115"
      ]
     },
     "execution_count": 6,
     "metadata": {},
     "output_type": "execute_result"
    }
   ],
   "source": [
    "metadata.head()"
   ]
  },
  {
   "cell_type": "code",
   "execution_count": 18,
   "metadata": {},
   "outputs": [
    {
     "data": {
      "text/html": [
       "<div>\n",
       "<style scoped>\n",
       "    .dataframe tbody tr th:only-of-type {\n",
       "        vertical-align: middle;\n",
       "    }\n",
       "\n",
       "    .dataframe tbody tr th {\n",
       "        vertical-align: top;\n",
       "    }\n",
       "\n",
       "    .dataframe thead th {\n",
       "        text-align: right;\n",
       "    }\n",
       "</style>\n",
       "<table border=\"1\" class=\"dataframe\">\n",
       "  <thead>\n",
       "    <tr style=\"text-align: right;\">\n",
       "      <th></th>\n",
       "      <th>userid</th>\n",
       "      <th>itemid</th>\n",
       "      <th>rating</th>\n",
       "    </tr>\n",
       "  </thead>\n",
       "  <tbody>\n",
       "    <tr>\n",
       "      <th>0</th>\n",
       "      <td>MVdyRkY=</td>\n",
       "      <td>55396</td>\n",
       "      <td>9</td>\n",
       "    </tr>\n",
       "    <tr>\n",
       "      <th>1</th>\n",
       "      <td>TzZqVQ==</td>\n",
       "      <td>55396</td>\n",
       "      <td>7</td>\n",
       "    </tr>\n",
       "    <tr>\n",
       "      <th>2</th>\n",
       "      <td>REI4WTI=</td>\n",
       "      <td>55396</td>\n",
       "      <td>9</td>\n",
       "    </tr>\n",
       "    <tr>\n",
       "      <th>3</th>\n",
       "      <td>bDJ4aA==</td>\n",
       "      <td>55396</td>\n",
       "      <td>7</td>\n",
       "    </tr>\n",
       "    <tr>\n",
       "      <th>4</th>\n",
       "      <td>QktyMw==</td>\n",
       "      <td>55396</td>\n",
       "      <td>7</td>\n",
       "    </tr>\n",
       "  </tbody>\n",
       "</table>\n",
       "</div>"
      ],
      "text/plain": [
       "     userid  itemid  rating\n",
       "0  MVdyRkY=   55396       9\n",
       "1  TzZqVQ==   55396       7\n",
       "2  REI4WTI=   55396       9\n",
       "3  bDJ4aA==   55396       7\n",
       "4  QktyMw==   55396       7"
      ]
     },
     "execution_count": 18,
     "metadata": {},
     "output_type": "execute_result"
    }
   ],
   "source": [
    "ratings_train.head()"
   ]
  },
  {
   "cell_type": "code",
   "execution_count": 8,
   "metadata": {},
   "outputs": [],
   "source": [
    "# RMSE\n",
    "def rmse(expected, answer):\n",
    "    merged = pd.merge(answer, expected, on=['userid', 'itemid'], how='left')\n",
    "    merged['rating_y'] = merged['rating_y'].fillna(0)\n",
    "    merged['square_error'] = (merged['rating_x'] - merged['rating_y']) ** 2\n",
    "    return merged['square_error'].mean() ** 0.5"
   ]
  },
  {
   "cell_type": "code",
   "execution_count": 11,
   "metadata": {},
   "outputs": [],
   "source": [
    "# jaccard similarity\n",
    "# u, v => len(i_dict[u] & i_dict[v]) / len(i_dict[u] | i_dict[v])\n",
    "# u와 v가 둘다 평점을 남긴 영화의 수 / u나 v가 평점을 남긴 영화의 수\n",
    "\n",
    "all_users = ratings_train['userid'].unique()\n",
    "i_dict = { u: set(ratings_train[ratings_train['userid'] == u]['itemid']) for u in all_users }\n",
    "\n",
    "def sim(u,v):\n",
    "    i_u = i_dict[u]\n",
    "    i_v = i_dict[v]\n",
    "    \n",
    "    cup = i_dict[u] | i_dict[v]\n",
    "    cap = i_dict[u] & i_dict[v]\n",
    "    \n",
    "    # 합집합이 공집합일 경우 -> 같이 본영화가 없음 -> similarity = 0\n",
    "    if len(cup) == 0:\n",
    "        return 0.0\n",
    "    return len(cap) / len(cup)"
   ]
  },
  {
   "cell_type": "code",
   "execution_count": 13,
   "metadata": {},
   "outputs": [
    {
     "data": {
      "text/plain": [
       "0.08333333333333333"
      ]
     },
     "execution_count": 13,
     "metadata": {},
     "output_type": "execute_result"
    }
   ],
   "source": [
    "sim('TERhUA==', 'Q1ladXM=')"
   ]
  },
  {
   "cell_type": "code",
   "execution_count": 14,
   "metadata": {},
   "outputs": [],
   "source": [
    "def similar_users(u, k):\n",
    "    #모든 유저에 대한 jaccard similarity를 계산 (본인이 아닐경우에만)\n",
    "    sims = [(sim(u,v), v) for v in all_users if u != v]\n",
    "    \n",
    "    #유사도 내림차순으로 정렬해서 top-k명\n",
    "    sorted_sims = sorted(sims, reverse=True)\n",
    "    topk_sims = sorted_sims[:k]\n",
    "    topk_users = [v for s, v in topk_sims]\n",
    "    \n",
    "    return pd.DataFrame(topk_users, columns=['userid'])"
   ]
  },
  {
   "cell_type": "code",
   "execution_count": 15,
   "metadata": {},
   "outputs": [
    {
     "data": {
      "text/html": [
       "<div>\n",
       "<style scoped>\n",
       "    .dataframe tbody tr th:only-of-type {\n",
       "        vertical-align: middle;\n",
       "    }\n",
       "\n",
       "    .dataframe tbody tr th {\n",
       "        vertical-align: top;\n",
       "    }\n",
       "\n",
       "    .dataframe thead th {\n",
       "        text-align: right;\n",
       "    }\n",
       "</style>\n",
       "<table border=\"1\" class=\"dataframe\">\n",
       "  <thead>\n",
       "    <tr style=\"text-align: right;\">\n",
       "      <th></th>\n",
       "      <th>userid</th>\n",
       "    </tr>\n",
       "  </thead>\n",
       "  <tbody>\n",
       "    <tr>\n",
       "      <th>0</th>\n",
       "      <td>YzkyQQ==</td>\n",
       "    </tr>\n",
       "    <tr>\n",
       "      <th>1</th>\n",
       "      <td>NGdmcVQ=</td>\n",
       "    </tr>\n",
       "    <tr>\n",
       "      <th>2</th>\n",
       "      <td>M2hETGQ=</td>\n",
       "    </tr>\n",
       "    <tr>\n",
       "      <th>3</th>\n",
       "      <td>V0NyaQ==</td>\n",
       "    </tr>\n",
       "    <tr>\n",
       "      <th>4</th>\n",
       "      <td>QTB5d0E=</td>\n",
       "    </tr>\n",
       "  </tbody>\n",
       "</table>\n",
       "</div>"
      ],
      "text/plain": [
       "     userid\n",
       "0  YzkyQQ==\n",
       "1  NGdmcVQ=\n",
       "2  M2hETGQ=\n",
       "3  V0NyaQ==\n",
       "4  QTB5d0E="
      ]
     },
     "execution_count": 15,
     "metadata": {},
     "output_type": "execute_result"
    }
   ],
   "source": [
    "similar_users('TERhUA==', 5)"
   ]
  },
  {
   "cell_type": "code",
   "execution_count": 17,
   "metadata": {},
   "outputs": [
    {
     "data": {
      "text/plain": [
       "2.7423239390279464"
      ]
     },
     "execution_count": 17,
     "metadata": {},
     "output_type": "execute_result"
    }
   ],
   "source": [
    "def predict(u, i):\n",
    "    # return <expected rating of i given u>\n",
    "    return 8\n",
    "\n",
    "# rmse함수에 predict결과를 넣어 validation값이랑 비교\n",
    "expected = ratings_valid.copy()\n",
    "expected['rating'] = expected.apply(lambda x: predict(x['userid'], x['itemid']), axis = 1)\n",
    "rmse(expected, ratings_valid)"
   ]
  },
  {
   "cell_type": "code",
   "execution_count": 84,
   "metadata": {},
   "outputs": [
    {
     "name": "stderr",
     "output_type": "stream",
     "text": [
      "c:\\python37\\lib\\site-packages\\ipykernel_launcher.py:9: RuntimeWarning: invalid value encountered in double_scalars\n",
      "  if __name__ == '__main__':\n"
     ]
    },
    {
     "data": {
      "text/plain": [
       "4.304172132614776"
      ]
     },
     "execution_count": 84,
     "metadata": {},
     "output_type": "execute_result"
    }
   ],
   "source": [
    "def predict(u, i):\n",
    "    topk_users = similar_users(u, 5)\n",
    "    u_mean = ratings_train[ratings_train['userid'] == u]['rating'].mean()\n",
    "    topk_users['mean'] = topk_users.apply(lambda x: ratings_train[ratings_train['userid'] == x['userid']]['rating'].mean(), axis = 1)\n",
    "    topk_users['sim'] = topk_users.apply(lambda row: sim(u, row['userid']), axis=1)\n",
    "    i_ratings = ratings_train[ratings_train['itemid'] == i]\n",
    "    joined = pd.merge(topk_users, i_ratings, on='userid')\n",
    "    joined['weighted_rating'] = joined['sim'] * (joined['rating'] - joined['mean'])\n",
    "    return u_mean + (joined['weighted_rating'].sum() / joined['sim'].sum())\n",
    "\n",
    "expected = ratings_valid.copy()\n",
    "expected['rating'] = expected.apply(lambda x: predict(x['userid'], x['itemid']), axis = 1)\n",
    "rmse(expected, ratings_valid)"
   ]
  },
  {
   "cell_type": "code",
   "execution_count": 87,
   "metadata": {},
   "outputs": [],
   "source": [
    "from surprise import Reader, Dataset\n",
    "reader = Reader(rating_scale=(0,10))\n",
    "train_ds = Dataset.load_from_df(ratings_train, reader).build_full_trainset()"
   ]
  },
  {
   "cell_type": "code",
   "execution_count": 88,
   "metadata": {},
   "outputs": [
    {
     "name": "stdout",
     "output_type": "stream",
     "text": [
      "Computing the msd similarity matrix...\n",
      "Done computing similarity matrix.\n"
     ]
    },
    {
     "data": {
      "text/plain": [
       "<surprise.prediction_algorithms.knns.KNNBasic at 0x27877182948>"
      ]
     },
     "execution_count": 88,
     "metadata": {},
     "output_type": "execute_result"
    }
   ],
   "source": [
    "from surprise import KNNBasic\n",
    "\n",
    "model = KNNBasic (k = 5)\n",
    "model.fit(train_ds)"
   ]
  },
  {
   "cell_type": "code",
   "execution_count": 89,
   "metadata": {},
   "outputs": [
    {
     "data": {
      "text/plain": [
       "2.275156622021938"
      ]
     },
     "execution_count": 89,
     "metadata": {},
     "output_type": "execute_result"
    }
   ],
   "source": [
    "def predict(u, i):\n",
    "    return model.predict(u, i).est\n",
    "\n",
    "expected = ratings_valid.copy()\n",
    "expected['rating'] = expected.apply(lambda x: predict(x['userid'], x['itemid']), axis = 1)\n",
    "rmse(expected, ratings_valid)"
   ]
  },
  {
   "cell_type": "code",
   "execution_count": null,
   "metadata": {},
   "outputs": [],
   "source": [
    "r"
   ]
  }
 ],
 "metadata": {
  "kernelspec": {
   "display_name": "Python 3",
   "language": "python",
   "name": "python3"
  },
  "language_info": {
   "codemirror_mode": {
    "name": "ipython",
    "version": 3
   },
   "file_extension": ".py",
   "mimetype": "text/x-python",
   "name": "python",
   "nbconvert_exporter": "python",
   "pygments_lexer": "ipython3",
   "version": "3.7.4"
  }
 },
 "nbformat": 4,
 "nbformat_minor": 2
}
