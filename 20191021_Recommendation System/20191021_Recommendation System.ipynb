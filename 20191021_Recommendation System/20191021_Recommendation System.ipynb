{
 "cells": [
  {
   "cell_type": "code",
   "execution_count": 2,
   "metadata": {},
   "outputs": [],
   "source": [
    "%matplotlib inline\n",
    "import pandas as pd"
   ]
  },
  {
   "cell_type": "code",
   "execution_count": 3,
   "metadata": {},
   "outputs": [],
   "source": [
    "# 메타 데이터와 학습용 평점 정보 불러오기\n",
    "metadata = pd.read_csv('./metadata.csv')\n",
    "ratings = pd.read_csv('./ratings-train.csv')"
   ]
  },
  {
   "cell_type": "code",
   "execution_count": 4,
   "metadata": {},
   "outputs": [],
   "source": [
    "# validation용 평점 정보 불러오기\n",
    "# 데이터가 너무 크기 때문에 20%(frac = 0.2) 크기만 샘플링\n",
    "# 학습하는 모두가 같은 샘플 데이터를 갖도록 random_state를 같은 값(17)으로 고정\n",
    "ratings_valid = pd.read_csv('ratings-valid.csv').sample(random_state=17, frac=0.2)"
   ]
  },
  {
   "cell_type": "code",
   "execution_count": 5,
   "metadata": {},
   "outputs": [
    {
     "data": {
      "text/plain": [
       "<matplotlib.axes._subplots.AxesSubplot at 0x1bdd3de4d08>"
      ]
     },
     "execution_count": 5,
     "metadata": {},
     "output_type": "execute_result"
    },
    {
     "data": {
      "image/png": "[encoded data removed]",
      "text/plain": [
       "<Figure size 432x288 with 1 Axes>"
      ]
     },
     "metadata": {
      "needs_background": "light"
     },
     "output_type": "display_data"
    }
   ],
   "source": [
    "# 평점 정보의 분포 그려보기 (p. 20)\n",
    "ratings['rating'].hist()"
   ]
  },
  {
   "cell_type": "code",
   "execution_count": 6,
   "metadata": {},
   "outputs": [],
   "source": [
    "expected = ratings_valid[1:10]\n",
    "answer = ratings_valid[:10]"
   ]
  },
  {
   "cell_type": "code",
   "execution_count": 19,
   "metadata": {},
   "outputs": [
    {
     "data": {
      "text/html": [
       "<div>\n",
       "<style scoped>\n",
       "    .dataframe tbody tr th:only-of-type {\n",
       "        vertical-align: middle;\n",
       "    }\n",
       "\n",
       "    .dataframe tbody tr th {\n",
       "        vertical-align: top;\n",
       "    }\n",
       "\n",
       "    .dataframe thead th {\n",
       "        text-align: right;\n",
       "    }\n",
       "</style>\n",
       "<table border=\"1\" class=\"dataframe\">\n",
       "  <thead>\n",
       "    <tr style=\"text-align: right;\">\n",
       "      <th></th>\n",
       "      <th>itemid</th>\n",
       "      <th>title</th>\n",
       "      <th>genres</th>\n",
       "      <th>country</th>\n",
       "      <th>running_min</th>\n",
       "    </tr>\n",
       "  </thead>\n",
       "  <tbody>\n",
       "    <tr>\n",
       "      <th>0</th>\n",
       "      <td>55396</td>\n",
       "      <td>시라노;연애조작단 (2010)</td>\n",
       "      <td>로맨스/멜로/코미디</td>\n",
       "      <td>한국</td>\n",
       "      <td>121</td>\n",
       "    </tr>\n",
       "    <tr>\n",
       "      <th>1</th>\n",
       "      <td>42858</td>\n",
       "      <td>본 얼티메이텀 (2007)</td>\n",
       "      <td>액션</td>\n",
       "      <td>미국</td>\n",
       "      <td>-1</td>\n",
       "    </tr>\n",
       "    <tr>\n",
       "      <th>2</th>\n",
       "      <td>121058</td>\n",
       "      <td>어느 가족 (2018)</td>\n",
       "      <td>드라마</td>\n",
       "      <td>일본</td>\n",
       "      <td>121</td>\n",
       "    </tr>\n",
       "    <tr>\n",
       "      <th>3</th>\n",
       "      <td>4285</td>\n",
       "      <td>펀치 드렁크 러브 (2002)</td>\n",
       "      <td>코미디</td>\n",
       "      <td>미국</td>\n",
       "      <td>95</td>\n",
       "    </tr>\n",
       "    <tr>\n",
       "      <th>4</th>\n",
       "      <td>36948</td>\n",
       "      <td>자토이치 (2003)</td>\n",
       "      <td>액션/시대극</td>\n",
       "      <td>일본</td>\n",
       "      <td>115</td>\n",
       "    </tr>\n",
       "  </tbody>\n",
       "</table>\n",
       "</div>"
      ],
      "text/plain": [
       "   itemid             title      genres country  running_min\n",
       "0   55396  시라노;연애조작단 (2010)  로맨스/멜로/코미디      한국          121\n",
       "1   42858    본 얼티메이텀 (2007)          액션      미국           -1\n",
       "2  121058      어느 가족 (2018)         드라마      일본          121\n",
       "3    4285  펀치 드렁크 러브 (2002)         코미디      미국           95\n",
       "4   36948       자토이치 (2003)      액션/시대극      일본          115"
      ]
     },
     "execution_count": 19,
     "metadata": {},
     "output_type": "execute_result"
    }
   ],
   "source": [
    "metadata.head()"
   ]
  },
  {
   "cell_type": "code",
   "execution_count": 20,
   "metadata": {},
   "outputs": [
    {
     "data": {
      "text/html": [
       "<div>\n",
       "<style scoped>\n",
       "    .dataframe tbody tr th:only-of-type {\n",
       "        vertical-align: middle;\n",
       "    }\n",
       "\n",
       "    .dataframe tbody tr th {\n",
       "        vertical-align: top;\n",
       "    }\n",
       "\n",
       "    .dataframe thead th {\n",
       "        text-align: right;\n",
       "    }\n",
       "</style>\n",
       "<table border=\"1\" class=\"dataframe\">\n",
       "  <thead>\n",
       "    <tr style=\"text-align: right;\">\n",
       "      <th></th>\n",
       "      <th>userid</th>\n",
       "      <th>itemid</th>\n",
       "      <th>rating</th>\n",
       "    </tr>\n",
       "  </thead>\n",
       "  <tbody>\n",
       "    <tr>\n",
       "      <th>0</th>\n",
       "      <td>MVdyRkY=</td>\n",
       "      <td>55396</td>\n",
       "      <td>9</td>\n",
       "    </tr>\n",
       "    <tr>\n",
       "      <th>1</th>\n",
       "      <td>TzZqVQ==</td>\n",
       "      <td>55396</td>\n",
       "      <td>7</td>\n",
       "    </tr>\n",
       "    <tr>\n",
       "      <th>2</th>\n",
       "      <td>REI4WTI=</td>\n",
       "      <td>55396</td>\n",
       "      <td>9</td>\n",
       "    </tr>\n",
       "    <tr>\n",
       "      <th>3</th>\n",
       "      <td>bDJ4aA==</td>\n",
       "      <td>55396</td>\n",
       "      <td>7</td>\n",
       "    </tr>\n",
       "    <tr>\n",
       "      <th>4</th>\n",
       "      <td>QktyMw==</td>\n",
       "      <td>55396</td>\n",
       "      <td>7</td>\n",
       "    </tr>\n",
       "  </tbody>\n",
       "</table>\n",
       "</div>"
      ],
      "text/plain": [
       "     userid  itemid  rating\n",
       "0  MVdyRkY=   55396       9\n",
       "1  TzZqVQ==   55396       7\n",
       "2  REI4WTI=   55396       9\n",
       "3  bDJ4aA==   55396       7\n",
       "4  QktyMw==   55396       7"
      ]
     },
     "execution_count": 20,
     "metadata": {},
     "output_type": "execute_result"
    }
   ],
   "source": [
    "ratings.head()"
   ]
  },
  {
   "cell_type": "code",
   "execution_count": 21,
   "metadata": {},
   "outputs": [
    {
     "data": {
      "text/html": [
       "<div>\n",
       "<style scoped>\n",
       "    .dataframe tbody tr th:only-of-type {\n",
       "        vertical-align: middle;\n",
       "    }\n",
       "\n",
       "    .dataframe tbody tr th {\n",
       "        vertical-align: top;\n",
       "    }\n",
       "\n",
       "    .dataframe thead th {\n",
       "        text-align: right;\n",
       "    }\n",
       "</style>\n",
       "<table border=\"1\" class=\"dataframe\">\n",
       "  <thead>\n",
       "    <tr style=\"text-align: right;\">\n",
       "      <th></th>\n",
       "      <th>userid</th>\n",
       "      <th>itemid</th>\n",
       "      <th>rating</th>\n",
       "    </tr>\n",
       "  </thead>\n",
       "  <tbody>\n",
       "    <tr>\n",
       "      <th>1000</th>\n",
       "      <td>NEpQdHA=</td>\n",
       "      <td>53983</td>\n",
       "      <td>6.000000</td>\n",
       "    </tr>\n",
       "    <tr>\n",
       "      <th>3543</th>\n",
       "      <td>OTQzaFo=</td>\n",
       "      <td>108037</td>\n",
       "      <td>NaN</td>\n",
       "    </tr>\n",
       "    <tr>\n",
       "      <th>4826</th>\n",
       "      <td>M2p2QTk=</td>\n",
       "      <td>87427</td>\n",
       "      <td>6.000000</td>\n",
       "    </tr>\n",
       "    <tr>\n",
       "      <th>4330</th>\n",
       "      <td>REhkazM=</td>\n",
       "      <td>95755</td>\n",
       "      <td>5.601971</td>\n",
       "    </tr>\n",
       "    <tr>\n",
       "      <th>3635</th>\n",
       "      <td>MWNiOE0=</td>\n",
       "      <td>70107</td>\n",
       "      <td>2.319746</td>\n",
       "    </tr>\n",
       "    <tr>\n",
       "      <th>1685</th>\n",
       "      <td>NzZtTHg=</td>\n",
       "      <td>111292</td>\n",
       "      <td>0.000000</td>\n",
       "    </tr>\n",
       "    <tr>\n",
       "      <th>5242</th>\n",
       "      <td>MkpYaGk=</td>\n",
       "      <td>125049</td>\n",
       "      <td>4.785714</td>\n",
       "    </tr>\n",
       "    <tr>\n",
       "      <th>2034</th>\n",
       "      <td>RjVKVw==</td>\n",
       "      <td>48632</td>\n",
       "      <td>6.773692</td>\n",
       "    </tr>\n",
       "    <tr>\n",
       "      <th>1910</th>\n",
       "      <td>REI4WTI=</td>\n",
       "      <td>47519</td>\n",
       "      <td>4.854972</td>\n",
       "    </tr>\n",
       "    <tr>\n",
       "      <th>1975</th>\n",
       "      <td>M0szalc=</td>\n",
       "      <td>108035</td>\n",
       "      <td>NaN</td>\n",
       "    </tr>\n",
       "    <tr>\n",
       "      <th>3720</th>\n",
       "      <td>WFluZQ==</td>\n",
       "      <td>31272</td>\n",
       "      <td>NaN</td>\n",
       "    </tr>\n",
       "    <tr>\n",
       "      <th>764</th>\n",
       "      <td>V2dBRQ==</td>\n",
       "      <td>93251</td>\n",
       "      <td>NaN</td>\n",
       "    </tr>\n",
       "    <tr>\n",
       "      <th>318</th>\n",
       "      <td>QkNNWEw=</td>\n",
       "      <td>38754</td>\n",
       "      <td>NaN</td>\n",
       "    </tr>\n",
       "    <tr>\n",
       "      <th>4683</th>\n",
       "      <td>NGkxWVg=</td>\n",
       "      <td>118529</td>\n",
       "      <td>NaN</td>\n",
       "    </tr>\n",
       "    <tr>\n",
       "      <th>939</th>\n",
       "      <td>M2p2QTk=</td>\n",
       "      <td>41488</td>\n",
       "      <td>9.000000</td>\n",
       "    </tr>\n",
       "    <tr>\n",
       "      <th>2755</th>\n",
       "      <td>WDBL</td>\n",
       "      <td>85378</td>\n",
       "      <td>9.000000</td>\n",
       "    </tr>\n",
       "    <tr>\n",
       "      <th>4137</th>\n",
       "      <td>NThneA==</td>\n",
       "      <td>114542</td>\n",
       "      <td>NaN</td>\n",
       "    </tr>\n",
       "    <tr>\n",
       "      <th>1176</th>\n",
       "      <td>NDJLVVo=</td>\n",
       "      <td>43324</td>\n",
       "      <td>8.422464</td>\n",
       "    </tr>\n",
       "    <tr>\n",
       "      <th>3241</th>\n",
       "      <td>OWw4Um8=</td>\n",
       "      <td>44124</td>\n",
       "      <td>5.000000</td>\n",
       "    </tr>\n",
       "    <tr>\n",
       "      <th>3215</th>\n",
       "      <td>NWNsZG8=</td>\n",
       "      <td>80780</td>\n",
       "      <td>7.205994</td>\n",
       "    </tr>\n",
       "    <tr>\n",
       "      <th>4715</th>\n",
       "      <td>RFZub0E=</td>\n",
       "      <td>129040</td>\n",
       "      <td>7.384186</td>\n",
       "    </tr>\n",
       "    <tr>\n",
       "      <th>5044</th>\n",
       "      <td>OGZ4SEs=</td>\n",
       "      <td>93924</td>\n",
       "      <td>7.000000</td>\n",
       "    </tr>\n",
       "    <tr>\n",
       "      <th>4044</th>\n",
       "      <td>MkM2Mg==</td>\n",
       "      <td>96229</td>\n",
       "      <td>1.000000</td>\n",
       "    </tr>\n",
       "    <tr>\n",
       "      <th>4087</th>\n",
       "      <td>N3Y2WnA=</td>\n",
       "      <td>116230</td>\n",
       "      <td>6.000000</td>\n",
       "    </tr>\n",
       "    <tr>\n",
       "      <th>2289</th>\n",
       "      <td>MVIwSUY=</td>\n",
       "      <td>98115</td>\n",
       "      <td>NaN</td>\n",
       "    </tr>\n",
       "    <tr>\n",
       "      <th>3178</th>\n",
       "      <td>Q1huSkQ=</td>\n",
       "      <td>40464</td>\n",
       "      <td>7.000000</td>\n",
       "    </tr>\n",
       "    <tr>\n",
       "      <th>4840</th>\n",
       "      <td>MWNiOE0=</td>\n",
       "      <td>99820</td>\n",
       "      <td>3.000000</td>\n",
       "    </tr>\n",
       "    <tr>\n",
       "      <th>3609</th>\n",
       "      <td>Wlg5dw==</td>\n",
       "      <td>117615</td>\n",
       "      <td>7.000000</td>\n",
       "    </tr>\n",
       "    <tr>\n",
       "      <th>973</th>\n",
       "      <td>N3huTjE=</td>\n",
       "      <td>62730</td>\n",
       "      <td>6.663493</td>\n",
       "    </tr>\n",
       "    <tr>\n",
       "      <th>431</th>\n",
       "      <td>OEFmSGc=</td>\n",
       "      <td>41047</td>\n",
       "      <td>7.000000</td>\n",
       "    </tr>\n",
       "    <tr>\n",
       "      <th>...</th>\n",
       "      <td>...</td>\n",
       "      <td>...</td>\n",
       "      <td>...</td>\n",
       "    </tr>\n",
       "    <tr>\n",
       "      <th>2414</th>\n",
       "      <td>MmZIMWY=</td>\n",
       "      <td>79252</td>\n",
       "      <td>5.035615</td>\n",
       "    </tr>\n",
       "    <tr>\n",
       "      <th>983</th>\n",
       "      <td>TXBnYQ==</td>\n",
       "      <td>41442</td>\n",
       "      <td>NaN</td>\n",
       "    </tr>\n",
       "    <tr>\n",
       "      <th>4432</th>\n",
       "      <td>M3hKYUo=</td>\n",
       "      <td>106742</td>\n",
       "      <td>NaN</td>\n",
       "    </tr>\n",
       "    <tr>\n",
       "      <th>4907</th>\n",
       "      <td>MldoTVo=</td>\n",
       "      <td>83648</td>\n",
       "      <td>5.995261</td>\n",
       "    </tr>\n",
       "    <tr>\n",
       "      <th>3568</th>\n",
       "      <td>SXRQVA==</td>\n",
       "      <td>114124</td>\n",
       "      <td>NaN</td>\n",
       "    </tr>\n",
       "    <tr>\n",
       "      <th>2554</th>\n",
       "      <td>NHYxVUw=</td>\n",
       "      <td>3212</td>\n",
       "      <td>4.460639</td>\n",
       "    </tr>\n",
       "    <tr>\n",
       "      <th>5255</th>\n",
       "      <td>NHYxVUw=</td>\n",
       "      <td>104197</td>\n",
       "      <td>6.000000</td>\n",
       "    </tr>\n",
       "    <tr>\n",
       "      <th>1523</th>\n",
       "      <td>QkVabW8=</td>\n",
       "      <td>106812</td>\n",
       "      <td>5.000000</td>\n",
       "    </tr>\n",
       "    <tr>\n",
       "      <th>1633</th>\n",
       "      <td>OHNMcHU=</td>\n",
       "      <td>111293</td>\n",
       "      <td>8.071106</td>\n",
       "    </tr>\n",
       "    <tr>\n",
       "      <th>844</th>\n",
       "      <td>QVRCMXY=</td>\n",
       "      <td>1898</td>\n",
       "      <td>7.949405</td>\n",
       "    </tr>\n",
       "    <tr>\n",
       "      <th>2130</th>\n",
       "      <td>NEpQdHA=</td>\n",
       "      <td>108880</td>\n",
       "      <td>7.165265</td>\n",
       "    </tr>\n",
       "    <tr>\n",
       "      <th>3596</th>\n",
       "      <td>MXdBdVg=</td>\n",
       "      <td>3866</td>\n",
       "      <td>NaN</td>\n",
       "    </tr>\n",
       "    <tr>\n",
       "      <th>4337</th>\n",
       "      <td>WnVKeA==</td>\n",
       "      <td>87636</td>\n",
       "      <td>NaN</td>\n",
       "    </tr>\n",
       "    <tr>\n",
       "      <th>61</th>\n",
       "      <td>QlFPY2Y=</td>\n",
       "      <td>110973</td>\n",
       "      <td>9.000000</td>\n",
       "    </tr>\n",
       "    <tr>\n",
       "      <th>4392</th>\n",
       "      <td>SVBhbQ==</td>\n",
       "      <td>122541</td>\n",
       "      <td>4.000000</td>\n",
       "    </tr>\n",
       "    <tr>\n",
       "      <th>186</th>\n",
       "      <td>SjVnWQ==</td>\n",
       "      <td>94484</td>\n",
       "      <td>9.019608</td>\n",
       "    </tr>\n",
       "    <tr>\n",
       "      <th>3875</th>\n",
       "      <td>NnZnOWU=</td>\n",
       "      <td>59199</td>\n",
       "      <td>NaN</td>\n",
       "    </tr>\n",
       "    <tr>\n",
       "      <th>2965</th>\n",
       "      <td>TzZqVQ==</td>\n",
       "      <td>61819</td>\n",
       "      <td>NaN</td>\n",
       "    </tr>\n",
       "    <tr>\n",
       "      <th>2063</th>\n",
       "      <td>OXZuSEY=</td>\n",
       "      <td>89041</td>\n",
       "      <td>NaN</td>\n",
       "    </tr>\n",
       "    <tr>\n",
       "      <th>2832</th>\n",
       "      <td>SVdsYg==</td>\n",
       "      <td>70139</td>\n",
       "      <td>NaN</td>\n",
       "    </tr>\n",
       "    <tr>\n",
       "      <th>5272</th>\n",
       "      <td>M2p2QTk=</td>\n",
       "      <td>90946</td>\n",
       "      <td>NaN</td>\n",
       "    </tr>\n",
       "    <tr>\n",
       "      <th>671</th>\n",
       "      <td>RTdxZQ==</td>\n",
       "      <td>69063</td>\n",
       "      <td>7.879424</td>\n",
       "    </tr>\n",
       "    <tr>\n",
       "      <th>1585</th>\n",
       "      <td>MVduZmk=</td>\n",
       "      <td>110556</td>\n",
       "      <td>7.682534</td>\n",
       "    </tr>\n",
       "    <tr>\n",
       "      <th>2120</th>\n",
       "      <td>MmZIMWY=</td>\n",
       "      <td>98033</td>\n",
       "      <td>5.427689</td>\n",
       "    </tr>\n",
       "    <tr>\n",
       "      <th>4110</th>\n",
       "      <td>RjVKVw==</td>\n",
       "      <td>70586</td>\n",
       "      <td>5.000000</td>\n",
       "    </tr>\n",
       "    <tr>\n",
       "      <th>2276</th>\n",
       "      <td>MmZIMWY=</td>\n",
       "      <td>107295</td>\n",
       "      <td>6.499042</td>\n",
       "    </tr>\n",
       "    <tr>\n",
       "      <th>2086</th>\n",
       "      <td>NEpQdHA=</td>\n",
       "      <td>102301</td>\n",
       "      <td>8.000000</td>\n",
       "    </tr>\n",
       "    <tr>\n",
       "      <th>4787</th>\n",
       "      <td>NEpQdHA=</td>\n",
       "      <td>124290</td>\n",
       "      <td>7.000000</td>\n",
       "    </tr>\n",
       "    <tr>\n",
       "      <th>4187</th>\n",
       "      <td>OG12cnE=</td>\n",
       "      <td>118159</td>\n",
       "      <td>NaN</td>\n",
       "    </tr>\n",
       "    <tr>\n",
       "      <th>1640</th>\n",
       "      <td>MWNiOE0=</td>\n",
       "      <td>60319</td>\n",
       "      <td>4.704644</td>\n",
       "    </tr>\n",
       "  </tbody>\n",
       "</table>\n",
       "<p>1057 rows × 3 columns</p>\n",
       "</div>"
      ],
      "text/plain": [
       "        userid  itemid    rating\n",
       "1000  NEpQdHA=   53983  6.000000\n",
       "3543  OTQzaFo=  108037       NaN\n",
       "4826  M2p2QTk=   87427  6.000000\n",
       "4330  REhkazM=   95755  5.601971\n",
       "3635  MWNiOE0=   70107  2.319746\n",
       "...        ...     ...       ...\n",
       "2276  MmZIMWY=  107295  6.499042\n",
       "2086  NEpQdHA=  102301  8.000000\n",
       "4787  NEpQdHA=  124290  7.000000\n",
       "4187  OG12cnE=  118159       NaN\n",
       "1640  MWNiOE0=   60319  4.704644\n",
       "\n",
       "[1057 rows x 3 columns]"
      ]
     },
     "execution_count": 21,
     "metadata": {},
     "output_type": "execute_result"
    }
   ],
   "source": [
    "expected"
   ]
  },
  {
   "cell_type": "code",
   "execution_count": 22,
   "metadata": {},
   "outputs": [
    {
     "data": {
      "text/html": [
       "<div>\n",
       "<style scoped>\n",
       "    .dataframe tbody tr th:only-of-type {\n",
       "        vertical-align: middle;\n",
       "    }\n",
       "\n",
       "    .dataframe tbody tr th {\n",
       "        vertical-align: top;\n",
       "    }\n",
       "\n",
       "    .dataframe thead th {\n",
       "        text-align: right;\n",
       "    }\n",
       "</style>\n",
       "<table border=\"1\" class=\"dataframe\">\n",
       "  <thead>\n",
       "    <tr style=\"text-align: right;\">\n",
       "      <th></th>\n",
       "      <th>userid</th>\n",
       "      <th>itemid</th>\n",
       "      <th>rating</th>\n",
       "    </tr>\n",
       "  </thead>\n",
       "  <tbody>\n",
       "    <tr>\n",
       "      <th>1000</th>\n",
       "      <td>NEpQdHA=</td>\n",
       "      <td>53983</td>\n",
       "      <td>9</td>\n",
       "    </tr>\n",
       "    <tr>\n",
       "      <th>3543</th>\n",
       "      <td>OTQzaFo=</td>\n",
       "      <td>108037</td>\n",
       "      <td>8</td>\n",
       "    </tr>\n",
       "    <tr>\n",
       "      <th>4826</th>\n",
       "      <td>M2p2QTk=</td>\n",
       "      <td>87427</td>\n",
       "      <td>7</td>\n",
       "    </tr>\n",
       "    <tr>\n",
       "      <th>4330</th>\n",
       "      <td>REhkazM=</td>\n",
       "      <td>95755</td>\n",
       "      <td>3</td>\n",
       "    </tr>\n",
       "    <tr>\n",
       "      <th>3635</th>\n",
       "      <td>MWNiOE0=</td>\n",
       "      <td>70107</td>\n",
       "      <td>7</td>\n",
       "    </tr>\n",
       "  </tbody>\n",
       "</table>\n",
       "</div>"
      ],
      "text/plain": [
       "        userid  itemid  rating\n",
       "1000  NEpQdHA=   53983       9\n",
       "3543  OTQzaFo=  108037       8\n",
       "4826  M2p2QTk=   87427       7\n",
       "4330  REhkazM=   95755       3\n",
       "3635  MWNiOE0=   70107       7"
      ]
     },
     "execution_count": 22,
     "metadata": {},
     "output_type": "execute_result"
    }
   ],
   "source": [
    "answer.head()"
   ]
  },
  {
   "cell_type": "code",
   "execution_count": 7,
   "metadata": {},
   "outputs": [],
   "source": [
    "# RMSE (Root Mean Square Error) 계산하는 함수 만들기 (p. 23)\n",
    "\n",
    "import numpy as np\n",
    "def rmse(expected, answer):\n",
    "    joined = pd.merge(answer, expected, on=['userid', 'itemid'], how='left')\n",
    "    joined['rating_y'] = joined['rating_y'].fillna(0)\n",
    "    joined['square_error'] = (joined['rating_x'] - joined['rating_y']) ** 2\n",
    "    return np.sqrt(joined['square_error'].mean())"
   ]
  },
  {
   "cell_type": "code",
   "execution_count": 8,
   "metadata": {},
   "outputs": [
    {
     "data": {
      "text/plain": [
       "2.8460498941515415"
      ]
     },
     "execution_count": 8,
     "metadata": {},
     "output_type": "execute_result"
    }
   ],
   "source": [
    "rmse(expected, answer)"
   ]
  },
  {
   "cell_type": "code",
   "execution_count": 9,
   "metadata": {},
   "outputs": [
    {
     "data": {
      "text/plain": [
       "2.7423239390279464"
      ]
     },
     "execution_count": 9,
     "metadata": {},
     "output_type": "execute_result"
    }
   ],
   "source": [
    "# 모든 예측을 8점으로 하는 추천 로직\n",
    "def predict(u, i):\n",
    "    return 8.0\n",
    "\n",
    "expected = ratings_valid.copy()\n",
    "expected['rating'] = expected.apply(\n",
    "    lambda row: predict(row['userid'], row['itemid']), axis=1)\n",
    "\n",
    "rmse(expected, ratings_valid)"
   ]
  },
  {
   "cell_type": "code",
   "execution_count": 10,
   "metadata": {},
   "outputs": [
    {
     "data": {
      "text/plain": [
       "2.418031954051125"
      ]
     },
     "execution_count": 10,
     "metadata": {},
     "output_type": "execute_result"
    }
   ],
   "source": [
    "# 모든 예측을 전체 평점의 평균으로 계산하는 추천 로직 (p. 24)\n",
    "r_mean = ratings['rating'].mean()\n",
    "def predict(u, i):\n",
    "    return r_mean\n",
    "\n",
    "expected = ratings_valid.copy()\n",
    "expected['rating'] = expected.apply(\n",
    "    lambda row: predict(row['userid'], row['itemid']), axis=1)\n",
    "\n",
    "rmse(expected, ratings_valid)"
   ]
  },
  {
   "cell_type": "code",
   "execution_count": 11,
   "metadata": {},
   "outputs": [
    {
     "data": {
      "text/plain": [
       "2.1909154513519242"
      ]
     },
     "execution_count": 11,
     "metadata": {},
     "output_type": "execute_result"
    }
   ],
   "source": [
    "# 모든 예측을 주어진 사용자의 평균 평점으로 계산하는 추천 로직 (p. 25)\n",
    "def predict(u, i):\n",
    "    return ratings[ratings['userid'] == u]['rating'].mean()\n",
    "\n",
    "expected = ratings_valid.copy()\n",
    "expected['rating'] = expected.apply(\n",
    "    lambda row: predict(row['userid'], row['itemid']), axis=1)\n",
    "\n",
    "rmse(expected, ratings_valid)"
   ]
  },
  {
   "cell_type": "code",
   "execution_count": 12,
   "metadata": {},
   "outputs": [
    {
     "data": {
      "text/plain": [
       "2.237838086446809"
      ]
     },
     "execution_count": 12,
     "metadata": {},
     "output_type": "execute_result"
    }
   ],
   "source": [
    "# 모든 예측을 주어진 영화의 평균 평점으로 계산하는 추천 로직 (p. 25)\n",
    "def predict(u, i):\n",
    "    return ratings[ratings['itemid'] == i]['rating'].mean()\n",
    "\n",
    "expected = ratings_valid.copy()\n",
    "expected['rating'] = expected.apply(\n",
    "    lambda row: predict(row['userid'], row['itemid']), axis=1)\n",
    "\n",
    "rmse(expected, ratings_valid)"
   ]
  },
  {
   "cell_type": "code",
   "execution_count": 13,
   "metadata": {},
   "outputs": [],
   "source": [
    "# 서로 다른 사용자 u, v에 대해 jaccard similarity 계산하는 함수 (p. 28)\n",
    "all_users = ratings['userid'].unique()\n",
    "i_dict = {u: set(ratings[ratings['userid'] == u]['itemid']) for u in all_users}\n",
    "def sim(u, v):\n",
    "    # i_u = 소비자 u가 평점을 남긴 영화 집합\n",
    "    # i_v = 소비자 v가 평점을 남긴 영화 집합\n",
    "    i_u = i_dict[u]\n",
    "    i_v = i_dict[v]\n",
    "    \n",
    "    cup = i_u | i_v\n",
    "    if len(cup) == 0:\n",
    "        return 0.0\n",
    "    cap = i_u & i_v\n",
    "    return len(cap) / len(cup)"
   ]
  },
  {
   "cell_type": "code",
   "execution_count": 14,
   "metadata": {},
   "outputs": [
    {
     "data": {
      "text/plain": [
       "0.08333333333333333"
      ]
     },
     "execution_count": 14,
     "metadata": {},
     "output_type": "execute_result"
    }
   ],
   "source": [
    "sim('TERhUA==', 'Q1ladXM=')"
   ]
  },
  {
   "cell_type": "code",
   "execution_count": 15,
   "metadata": {},
   "outputs": [],
   "source": [
    "# 비슷한 영화를 소비한 k명의 사용자 집합 U_u를 계산하는 similar_users(u, k) 함수 (p. 29)\n",
    "def similar_users(u, k):\n",
    "    sims = sorted([(sim(u, v), v) for v in all_users if u != v], reverse=True)\n",
    "    topk_users = [v for s, v in sims][:k]\n",
    "    return pd.DataFrame(topk_users, columns=['userid'])"
   ]
  },
  {
   "cell_type": "code",
   "execution_count": 16,
   "metadata": {},
   "outputs": [
    {
     "data": {
      "text/html": [
       "<div>\n",
       "<style scoped>\n",
       "    .dataframe tbody tr th:only-of-type {\n",
       "        vertical-align: middle;\n",
       "    }\n",
       "\n",
       "    .dataframe tbody tr th {\n",
       "        vertical-align: top;\n",
       "    }\n",
       "\n",
       "    .dataframe thead th {\n",
       "        text-align: right;\n",
       "    }\n",
       "</style>\n",
       "<table border=\"1\" class=\"dataframe\">\n",
       "  <thead>\n",
       "    <tr style=\"text-align: right;\">\n",
       "      <th></th>\n",
       "      <th>userid</th>\n",
       "    </tr>\n",
       "  </thead>\n",
       "  <tbody>\n",
       "    <tr>\n",
       "      <th>0</th>\n",
       "      <td>YzkyQQ==</td>\n",
       "    </tr>\n",
       "    <tr>\n",
       "      <th>1</th>\n",
       "      <td>NGdmcVQ=</td>\n",
       "    </tr>\n",
       "    <tr>\n",
       "      <th>2</th>\n",
       "      <td>M2hETGQ=</td>\n",
       "    </tr>\n",
       "    <tr>\n",
       "      <th>3</th>\n",
       "      <td>V0NyaQ==</td>\n",
       "    </tr>\n",
       "    <tr>\n",
       "      <th>4</th>\n",
       "      <td>QTB5d0E=</td>\n",
       "    </tr>\n",
       "  </tbody>\n",
       "</table>\n",
       "</div>"
      ],
      "text/plain": [
       "     userid\n",
       "0  YzkyQQ==\n",
       "1  NGdmcVQ=\n",
       "2  M2hETGQ=\n",
       "3  V0NyaQ==\n",
       "4  QTB5d0E="
      ]
     },
     "execution_count": 16,
     "metadata": {},
     "output_type": "execute_result"
    }
   ],
   "source": [
    "similar_users('TERhUA==', 5)"
   ]
  },
  {
   "cell_type": "code",
   "execution_count": 23,
   "metadata": {},
   "outputs": [],
   "source": [
    "def predict(u, i):\n",
    "    topk_users = similar_users(u, 5)\n",
    "    topk_users['sim'] = topk_users.apply(lambda row: sim(u, row['userid']), axis=1)\n",
    "    i_ratings = ratings[ratings['itemid'] == i]\n",
    "    joined = pd.merge(topk_users, i_ratings, on='userid')\n",
    "    joined['weighted_rating'] = joined['sim'] * joined['rating']\n",
    "    return joined['weighted_rating'].sum() / joined['sim'].sum()"
   ]
  },
  {
   "cell_type": "code",
   "execution_count": 24,
   "metadata": {},
   "outputs": [
    {
     "name": "stderr",
     "output_type": "stream",
     "text": [
      "c:\\python37\\lib\\site-packages\\ipykernel_launcher.py:7: RuntimeWarning: invalid value encountered in double_scalars\n",
      "  import sys\n"
     ]
    },
    {
     "data": {
      "text/plain": [
       "4.4360709881776135"
      ]
     },
     "execution_count": 24,
     "metadata": {},
     "output_type": "execute_result"
    }
   ],
   "source": [
    "expected = ratings_valid.copy()\n",
    "expected['rating'] = expected.apply(\n",
    "    lambda row: predict(row['userid'], row['itemid']), axis=1)\n",
    "\n",
    "rmse(expected, ratings_valid)"
   ]
  },
  {
   "cell_type": "code",
   "execution_count": null,
   "metadata": {},
   "outputs": [],
   "source": []
  }
 ],
 "metadata": {
  "kernelspec": {
   "display_name": "Python 3",
   "language": "python",
   "name": "python3"
  },
  "language_info": {
   "codemirror_mode": {
    "name": "ipython",
    "version": 3
   },
   "file_extension": ".py",
   "mimetype": "text/x-python",
   "name": "python",
   "nbconvert_exporter": "python",
   "pygments_lexer": "ipython3",
   "version": "3.7.4"
  }
 },
 "nbformat": 4,
 "nbformat_minor": 2
}
