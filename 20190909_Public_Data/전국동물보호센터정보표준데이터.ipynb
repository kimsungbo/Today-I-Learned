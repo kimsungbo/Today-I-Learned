{
 "cells": [
  {
   "cell_type": "code",
   "execution_count": 3,
   "metadata": {},
   "outputs": [
    {
     "data": {
      "text/plain": [
       "'3.1.0'"
      ]
     },
     "execution_count": 3,
     "metadata": {},
     "output_type": "execute_result"
    }
   ],
   "source": [
    "import matplotlib\n",
    "import matplotlib.pyplot as plt\n",
    "\n",
    "matplotlib.__version__"
   ]
  },
  {
   "cell_type": "code",
   "execution_count": 5,
   "metadata": {},
   "outputs": [
    {
     "data": {
      "text/plain": [
       "'0.25.0'"
      ]
     },
     "execution_count": 5,
     "metadata": {},
     "output_type": "execute_result"
    }
   ],
   "source": [
    "import pandas as pd\n",
    "\n",
    "pd.__version__"
   ]
  },
  {
   "cell_type": "code",
   "execution_count": 7,
   "metadata": {},
   "outputs": [
    {
     "data": {
      "text/plain": [
       "'0.10.0'"
      ]
     },
     "execution_count": 7,
     "metadata": {},
     "output_type": "execute_result"
    }
   ],
   "source": [
    "import folium\n",
    "from folium import Map\n",
    "from folium.plugins import HeatMap\n",
    "\n",
    "folium.__version__"
   ]
  },
  {
   "cell_type": "code",
   "execution_count": 17,
   "metadata": {},
   "outputs": [
    {
     "data": {
      "text/plain": [
       "[<Font 'Malgun Gothic' (malgun.ttf) normal normal 400 normal>,\n",
       " <Font 'Malgun Gothic' (malgunbd.ttf) normal normal bold normal>]"
      ]
     },
     "execution_count": 17,
     "metadata": {},
     "output_type": "execute_result"
    }
   ],
   "source": [
    "import matplotlib.font_manager as fm\n",
    "[font for font in fm.fontManager.ttflist if 'Malgun Gothic' in font.name]"
   ]
  },
  {
   "cell_type": "code",
   "execution_count": 18,
   "metadata": {},
   "outputs": [],
   "source": [
    "plt.rcParams['font.family'] = 'MAlgun Gothic'"
   ]
  },
  {
   "cell_type": "code",
   "execution_count": 19,
   "metadata": {},
   "outputs": [
    {
     "data": {
      "text/plain": [
       "Index(['동물보호센터명', '관리기관명', '동물보호센터유형', '구조대상동물', '소재지도로명주소', '소재지지번주소', '위도',\n",
       "       '경도', '동물보호센터지정일자', '평일운영시작시각', '평일운영종료시각', '평일분양시작시각', '평일분양종료시각',\n",
       "       '주말운영시작시각', '주말운영종료시각', '주말분양시작시각', '주말분양종료시각', '휴무일', '수의사인원수',\n",
       "       '사양관리사인원수', '진료실수', '사육실수', '격리실수', '사료보관실수', '구조운반용차량보유대수', '전화번호',\n",
       "       '데이터기준일자', '제공기관코드', '제공기관명', 'Unnamed: 29'],\n",
       "      dtype='object')"
      ]
     },
     "execution_count": 19,
     "metadata": {},
     "output_type": "execute_result"
    }
   ],
   "source": [
    "df = pd.read_csv('./animal.csv', encoding='euc-kr')\n",
    "df.columns"
   ]
  },
  {
   "cell_type": "code",
   "execution_count": 20,
   "metadata": {},
   "outputs": [
    {
     "data": {
      "text/plain": [
       "(188, 30)"
      ]
     },
     "execution_count": 20,
     "metadata": {},
     "output_type": "execute_result"
    }
   ],
   "source": [
    "df.shape"
   ]
  },
  {
   "cell_type": "code",
   "execution_count": 21,
   "metadata": {},
   "outputs": [
    {
     "data": {
      "text/html": [
       "<div>\n",
       "<style scoped>\n",
       "    .dataframe tbody tr th:only-of-type {\n",
       "        vertical-align: middle;\n",
       "    }\n",
       "\n",
       "    .dataframe tbody tr th {\n",
       "        vertical-align: top;\n",
       "    }\n",
       "\n",
       "    .dataframe thead th {\n",
       "        text-align: right;\n",
       "    }\n",
       "</style>\n",
       "<table border=\"1\" class=\"dataframe\">\n",
       "  <thead>\n",
       "    <tr style=\"text-align: right;\">\n",
       "      <th></th>\n",
       "      <th>동물보호센터명</th>\n",
       "      <th>관리기관명</th>\n",
       "      <th>동물보호센터유형</th>\n",
       "      <th>구조대상동물</th>\n",
       "      <th>소재지도로명주소</th>\n",
       "      <th>소재지지번주소</th>\n",
       "      <th>위도</th>\n",
       "      <th>경도</th>\n",
       "      <th>동물보호센터지정일자</th>\n",
       "      <th>평일운영시작시각</th>\n",
       "      <th>...</th>\n",
       "      <th>진료실수</th>\n",
       "      <th>사육실수</th>\n",
       "      <th>격리실수</th>\n",
       "      <th>사료보관실수</th>\n",
       "      <th>구조운반용차량보유대수</th>\n",
       "      <th>전화번호</th>\n",
       "      <th>데이터기준일자</th>\n",
       "      <th>제공기관코드</th>\n",
       "      <th>제공기관명</th>\n",
       "      <th>Unnamed: 29</th>\n",
       "    </tr>\n",
       "  </thead>\n",
       "  <tbody>\n",
       "    <tr>\n",
       "      <th>0</th>\n",
       "      <td>인천수의사회 유기동물보호소</td>\n",
       "      <td>인천수의사회</td>\n",
       "      <td>법인</td>\n",
       "      <td>「동물보호법」에 따른 유실·유기동물</td>\n",
       "      <td>인천광역시 계양구 다남로165번길 56(다남동)</td>\n",
       "      <td>NaN</td>\n",
       "      <td>37.566196</td>\n",
       "      <td>126.719630</td>\n",
       "      <td>2006-10-18</td>\n",
       "      <td>09:00</td>\n",
       "      <td>...</td>\n",
       "      <td>NaN</td>\n",
       "      <td>NaN</td>\n",
       "      <td>NaN</td>\n",
       "      <td>NaN</td>\n",
       "      <td>NaN</td>\n",
       "      <td>032-515-7567</td>\n",
       "      <td>2018-08-13</td>\n",
       "      <td>3520000</td>\n",
       "      <td>인천광역시 연수구</td>\n",
       "      <td>NaN</td>\n",
       "    </tr>\n",
       "    <tr>\n",
       "      <th>1</th>\n",
       "      <td>사단법인 한국동물구조관리협회</td>\n",
       "      <td>도봉구청</td>\n",
       "      <td>법인</td>\n",
       "      <td>유실·유기 및 피학대동물</td>\n",
       "      <td>경기도 양주시 남면 감악산로 63-37</td>\n",
       "      <td>NaN</td>\n",
       "      <td>37.870072</td>\n",
       "      <td>126.983225</td>\n",
       "      <td>2014-06-10</td>\n",
       "      <td>09:00</td>\n",
       "      <td>...</td>\n",
       "      <td>1.0</td>\n",
       "      <td>6.0</td>\n",
       "      <td>2.0</td>\n",
       "      <td>1.0</td>\n",
       "      <td>5.0</td>\n",
       "      <td>031-867-9119</td>\n",
       "      <td>2018-01-02</td>\n",
       "      <td>3090000</td>\n",
       "      <td>서울특별시 도봉구</td>\n",
       "      <td>NaN</td>\n",
       "    </tr>\n",
       "    <tr>\n",
       "      <th>2</th>\n",
       "      <td>수성동물병원</td>\n",
       "      <td>화성시</td>\n",
       "      <td>개인</td>\n",
       "      <td>개, 고양이</td>\n",
       "      <td>경기도 화성시 남양읍 남양성지로34</td>\n",
       "      <td>경기도 화성시 남양읍 남양리 465-3번지</td>\n",
       "      <td>37.205577</td>\n",
       "      <td>126.807191</td>\n",
       "      <td>2016-12-31</td>\n",
       "      <td>09:00</td>\n",
       "      <td>...</td>\n",
       "      <td>1.0</td>\n",
       "      <td>2.0</td>\n",
       "      <td>1.0</td>\n",
       "      <td>1.0</td>\n",
       "      <td>2.0</td>\n",
       "      <td>031-355-5883</td>\n",
       "      <td>2017-11-17</td>\n",
       "      <td>5530000</td>\n",
       "      <td>경기도 화성시</td>\n",
       "      <td>NaN</td>\n",
       "    </tr>\n",
       "    <tr>\n",
       "      <th>3</th>\n",
       "      <td>청산동물병원</td>\n",
       "      <td>화성시</td>\n",
       "      <td>개인</td>\n",
       "      <td>개, 고양이</td>\n",
       "      <td>경기도 화성시 우정읍 3.1만세로29</td>\n",
       "      <td>경기도 화성시 우정읍 조암리 348번지</td>\n",
       "      <td>37.082177</td>\n",
       "      <td>126.817192</td>\n",
       "      <td>2016-12-31</td>\n",
       "      <td>09:00</td>\n",
       "      <td>...</td>\n",
       "      <td>1.0</td>\n",
       "      <td>1.0</td>\n",
       "      <td>1.0</td>\n",
       "      <td>1.0</td>\n",
       "      <td>1.0</td>\n",
       "      <td>031-358-4358</td>\n",
       "      <td>2017-11-17</td>\n",
       "      <td>5530000</td>\n",
       "      <td>경기도 화성시</td>\n",
       "      <td>NaN</td>\n",
       "    </tr>\n",
       "    <tr>\n",
       "      <th>4</th>\n",
       "      <td>인천광역시수의사회유기동물보호소</td>\n",
       "      <td>인천시수의사회</td>\n",
       "      <td>단체</td>\n",
       "      <td>유기, 유실동물</td>\n",
       "      <td>인천광역시 계양구 다남로165번길 56(다남동)</td>\n",
       "      <td>인천광역시 계양구 다남동 35-8</td>\n",
       "      <td>37.566196</td>\n",
       "      <td>126.719630</td>\n",
       "      <td>2007-01-01</td>\n",
       "      <td>09:00</td>\n",
       "      <td>...</td>\n",
       "      <td>1.0</td>\n",
       "      <td>22.0</td>\n",
       "      <td>1.0</td>\n",
       "      <td>2.0</td>\n",
       "      <td>2.0</td>\n",
       "      <td>032-515-7567</td>\n",
       "      <td>2018-08-08</td>\n",
       "      <td>3530000</td>\n",
       "      <td>인천광역시 남동구</td>\n",
       "      <td>NaN</td>\n",
       "    </tr>\n",
       "  </tbody>\n",
       "</table>\n",
       "<p>5 rows × 30 columns</p>\n",
       "</div>"
      ],
      "text/plain": [
       "            동물보호센터명    관리기관명 동물보호센터유형               구조대상동물  \\\n",
       "0    인천수의사회 유기동물보호소   인천수의사회       법인  「동물보호법」에 따른 유실·유기동물   \n",
       "1   사단법인 한국동물구조관리협회     도봉구청       법인        유실·유기 및 피학대동물   \n",
       "2            수성동물병원      화성시       개인               개, 고양이   \n",
       "3            청산동물병원      화성시       개인               개, 고양이   \n",
       "4  인천광역시수의사회유기동물보호소  인천시수의사회       단체             유기, 유실동물   \n",
       "\n",
       "                     소재지도로명주소                  소재지지번주소         위도          경도  \\\n",
       "0  인천광역시 계양구 다남로165번길 56(다남동)                      NaN  37.566196  126.719630   \n",
       "1       경기도 양주시 남면 감악산로 63-37                      NaN  37.870072  126.983225   \n",
       "2         경기도 화성시 남양읍 남양성지로34  경기도 화성시 남양읍 남양리 465-3번지  37.205577  126.807191   \n",
       "3        경기도 화성시 우정읍 3.1만세로29    경기도 화성시 우정읍 조암리 348번지  37.082177  126.817192   \n",
       "4  인천광역시 계양구 다남로165번길 56(다남동)       인천광역시 계양구 다남동 35-8  37.566196  126.719630   \n",
       "\n",
       "   동물보호센터지정일자 평일운영시작시각  ... 진료실수  사육실수 격리실수 사료보관실수 구조운반용차량보유대수          전화번호  \\\n",
       "0  2006-10-18    09:00  ...  NaN   NaN  NaN    NaN         NaN  032-515-7567   \n",
       "1  2014-06-10    09:00  ...  1.0   6.0  2.0    1.0         5.0  031-867-9119   \n",
       "2  2016-12-31    09:00  ...  1.0   2.0  1.0    1.0         2.0  031-355-5883   \n",
       "3  2016-12-31    09:00  ...  1.0   1.0  1.0    1.0         1.0  031-358-4358   \n",
       "4  2007-01-01    09:00  ...  1.0  22.0  1.0    2.0         2.0  032-515-7567   \n",
       "\n",
       "      데이터기준일자   제공기관코드      제공기관명  Unnamed: 29  \n",
       "0  2018-08-13  3520000  인천광역시 연수구          NaN  \n",
       "1  2018-01-02  3090000  서울특별시 도봉구          NaN  \n",
       "2  2017-11-17  5530000    경기도 화성시          NaN  \n",
       "3  2017-11-17  5530000    경기도 화성시          NaN  \n",
       "4  2018-08-08  3530000  인천광역시 남동구          NaN  \n",
       "\n",
       "[5 rows x 30 columns]"
      ]
     },
     "execution_count": 21,
     "metadata": {},
     "output_type": "execute_result"
    }
   ],
   "source": [
    "df.head()"
   ]
  },
  {
   "cell_type": "code",
   "execution_count": 22,
   "metadata": {},
   "outputs": [
    {
     "data": {
      "text/html": [
       "<div>\n",
       "<style scoped>\n",
       "    .dataframe tbody tr th:only-of-type {\n",
       "        vertical-align: middle;\n",
       "    }\n",
       "\n",
       "    .dataframe tbody tr th {\n",
       "        vertical-align: top;\n",
       "    }\n",
       "\n",
       "    .dataframe thead th {\n",
       "        text-align: right;\n",
       "    }\n",
       "</style>\n",
       "<table border=\"1\" class=\"dataframe\">\n",
       "  <thead>\n",
       "    <tr style=\"text-align: right;\">\n",
       "      <th></th>\n",
       "      <th>동물보호센터명</th>\n",
       "      <th>관리기관명</th>\n",
       "      <th>동물보호센터유형</th>\n",
       "      <th>구조대상동물</th>\n",
       "      <th>소재지도로명주소</th>\n",
       "      <th>위도</th>\n",
       "      <th>경도</th>\n",
       "      <th>휴무일</th>\n",
       "      <th>수의사인원수</th>\n",
       "      <th>사양관리사인원수</th>\n",
       "    </tr>\n",
       "  </thead>\n",
       "  <tbody>\n",
       "    <tr>\n",
       "      <th>0</th>\n",
       "      <td>인천수의사회 유기동물보호소</td>\n",
       "      <td>인천수의사회</td>\n",
       "      <td>법인</td>\n",
       "      <td>「동물보호법」에 따른 유실·유기동물</td>\n",
       "      <td>인천광역시 계양구 다남로165번길 56(다남동)</td>\n",
       "      <td>37.566196</td>\n",
       "      <td>126.719630</td>\n",
       "      <td>연중무휴</td>\n",
       "      <td>1</td>\n",
       "      <td>3</td>\n",
       "    </tr>\n",
       "    <tr>\n",
       "      <th>1</th>\n",
       "      <td>사단법인 한국동물구조관리협회</td>\n",
       "      <td>도봉구청</td>\n",
       "      <td>법인</td>\n",
       "      <td>유실·유기 및 피학대동물</td>\n",
       "      <td>경기도 양주시 남면 감악산로 63-37</td>\n",
       "      <td>37.870072</td>\n",
       "      <td>126.983225</td>\n",
       "      <td>연중무휴</td>\n",
       "      <td>1</td>\n",
       "      <td>6</td>\n",
       "    </tr>\n",
       "    <tr>\n",
       "      <th>2</th>\n",
       "      <td>수성동물병원</td>\n",
       "      <td>화성시</td>\n",
       "      <td>개인</td>\n",
       "      <td>개, 고양이</td>\n",
       "      <td>경기도 화성시 남양읍 남양성지로34</td>\n",
       "      <td>37.205577</td>\n",
       "      <td>126.807191</td>\n",
       "      <td>일요일</td>\n",
       "      <td>1</td>\n",
       "      <td>1</td>\n",
       "    </tr>\n",
       "    <tr>\n",
       "      <th>3</th>\n",
       "      <td>청산동물병원</td>\n",
       "      <td>화성시</td>\n",
       "      <td>개인</td>\n",
       "      <td>개, 고양이</td>\n",
       "      <td>경기도 화성시 우정읍 3.1만세로29</td>\n",
       "      <td>37.082177</td>\n",
       "      <td>126.817192</td>\n",
       "      <td>일요일</td>\n",
       "      <td>1</td>\n",
       "      <td>2</td>\n",
       "    </tr>\n",
       "    <tr>\n",
       "      <th>4</th>\n",
       "      <td>인천광역시수의사회유기동물보호소</td>\n",
       "      <td>인천시수의사회</td>\n",
       "      <td>단체</td>\n",
       "      <td>유기, 유실동물</td>\n",
       "      <td>인천광역시 계양구 다남로165번길 56(다남동)</td>\n",
       "      <td>37.566196</td>\n",
       "      <td>126.719630</td>\n",
       "      <td>없음</td>\n",
       "      <td>1</td>\n",
       "      <td>3</td>\n",
       "    </tr>\n",
       "  </tbody>\n",
       "</table>\n",
       "</div>"
      ],
      "text/plain": [
       "            동물보호센터명    관리기관명 동물보호센터유형               구조대상동물  \\\n",
       "0    인천수의사회 유기동물보호소   인천수의사회       법인  「동물보호법」에 따른 유실·유기동물   \n",
       "1   사단법인 한국동물구조관리협회     도봉구청       법인        유실·유기 및 피학대동물   \n",
       "2            수성동물병원      화성시       개인               개, 고양이   \n",
       "3            청산동물병원      화성시       개인               개, 고양이   \n",
       "4  인천광역시수의사회유기동물보호소  인천시수의사회       단체             유기, 유실동물   \n",
       "\n",
       "                     소재지도로명주소         위도          경도   휴무일  수의사인원수  사양관리사인원수  \n",
       "0  인천광역시 계양구 다남로165번길 56(다남동)  37.566196  126.719630  연중무휴       1         3  \n",
       "1       경기도 양주시 남면 감악산로 63-37  37.870072  126.983225  연중무휴       1         6  \n",
       "2         경기도 화성시 남양읍 남양성지로34  37.205577  126.807191   일요일       1         1  \n",
       "3        경기도 화성시 우정읍 3.1만세로29  37.082177  126.817192   일요일       1         2  \n",
       "4  인천광역시 계양구 다남로165번길 56(다남동)  37.566196  126.719630    없음       1         3  "
      ]
     },
     "execution_count": 22,
     "metadata": {},
     "output_type": "execute_result"
    }
   ],
   "source": [
    "simple_df = df.drop(columns=[\n",
    "    '소재지지번주소', '동물보호센터지정일자',\n",
    "    '평일운영시작시각', '평일운영종료시각', '평일분양시작시각', '평일분양종료시각',\n",
    "    '주말운영시작시각', '주말운영종료시각', '주말분양시작시각', '주말분양종료시각',\n",
    "    '진료실수', '사육실수', '격리실수', '사료보관실수', '구조운반용차량보유대수', '전화번호',\n",
    "    '데이터기준일자', '제공기관코드', '제공기관명', 'Unnamed: 29'\n",
    "])\n",
    "\n",
    "simple_df.head()"
   ]
  },
  {
   "cell_type": "code",
   "execution_count": 23,
   "metadata": {},
   "outputs": [
    {
     "data": {
      "text/html": [
       "<div>\n",
       "<style scoped>\n",
       "    .dataframe tbody tr th:only-of-type {\n",
       "        vertical-align: middle;\n",
       "    }\n",
       "\n",
       "    .dataframe tbody tr th {\n",
       "        vertical-align: top;\n",
       "    }\n",
       "\n",
       "    .dataframe thead th {\n",
       "        text-align: right;\n",
       "    }\n",
       "</style>\n",
       "<table border=\"1\" class=\"dataframe\">\n",
       "  <thead>\n",
       "    <tr style=\"text-align: right;\">\n",
       "      <th></th>\n",
       "      <th>동물보호센터유형</th>\n",
       "    </tr>\n",
       "  </thead>\n",
       "  <tbody>\n",
       "    <tr>\n",
       "      <th>동물병원</th>\n",
       "      <td>85</td>\n",
       "    </tr>\n",
       "    <tr>\n",
       "      <th>법인</th>\n",
       "      <td>44</td>\n",
       "    </tr>\n",
       "    <tr>\n",
       "      <th>개인</th>\n",
       "      <td>32</td>\n",
       "    </tr>\n",
       "    <tr>\n",
       "      <th>단체</th>\n",
       "      <td>27</td>\n",
       "    </tr>\n",
       "  </tbody>\n",
       "</table>\n",
       "</div>"
      ],
      "text/plain": [
       "      동물보호센터유형\n",
       "동물병원        85\n",
       "법인          44\n",
       "개인          32\n",
       "단체          27"
      ]
     },
     "execution_count": 23,
     "metadata": {},
     "output_type": "execute_result"
    }
   ],
   "source": [
    "data = simple_df['동물보호센터유형'].value_counts()\n",
    "\n",
    "pd.DataFrame(data)"
   ]
  },
  {
   "cell_type": "code",
   "execution_count": 24,
   "metadata": {},
   "outputs": [
    {
     "data": {
      "image/png": "[encoded data removed]",
      "text/plain": [
       "<Figure size 432x288 with 1 Axes>"
      ]
     },
     "metadata": {},
     "output_type": "display_data"
    }
   ],
   "source": [
    "data = simple_df['동물보호센터유형'].value_counts()\n",
    "\n",
    "data.plot.pie()\n",
    "\n",
    "plt.show()"
   ]
  },
  {
   "cell_type": "code",
   "execution_count": 25,
   "metadata": {},
   "outputs": [
    {
     "data": {
      "text/html": [
       "<div>\n",
       "<style scoped>\n",
       "    .dataframe tbody tr th:only-of-type {\n",
       "        vertical-align: middle;\n",
       "    }\n",
       "\n",
       "    .dataframe tbody tr th {\n",
       "        vertical-align: top;\n",
       "    }\n",
       "\n",
       "    .dataframe thead th {\n",
       "        text-align: right;\n",
       "    }\n",
       "</style>\n",
       "<table border=\"1\" class=\"dataframe\">\n",
       "  <thead>\n",
       "    <tr style=\"text-align: right;\">\n",
       "      <th></th>\n",
       "      <th>휴무일</th>\n",
       "    </tr>\n",
       "  </thead>\n",
       "  <tbody>\n",
       "    <tr>\n",
       "      <th>연중무휴</th>\n",
       "      <td>39</td>\n",
       "    </tr>\n",
       "    <tr>\n",
       "      <th>일요일</th>\n",
       "      <td>32</td>\n",
       "    </tr>\n",
       "    <tr>\n",
       "      <th>없음</th>\n",
       "      <td>22</td>\n",
       "    </tr>\n",
       "    <tr>\n",
       "      <th>공휴일</th>\n",
       "      <td>18</td>\n",
       "    </tr>\n",
       "    <tr>\n",
       "      <th>매주 일요일</th>\n",
       "      <td>6</td>\n",
       "    </tr>\n",
       "    <tr>\n",
       "      <th>토요일+일요일</th>\n",
       "      <td>6</td>\n",
       "    </tr>\n",
       "    <tr>\n",
       "      <th>일요일+공휴일</th>\n",
       "      <td>5</td>\n",
       "    </tr>\n",
       "    <tr>\n",
       "      <th>토요일+일요일+공휴일</th>\n",
       "      <td>4</td>\n",
       "    </tr>\n",
       "    <tr>\n",
       "      <th>주말+공휴일</th>\n",
       "      <td>4</td>\n",
       "    </tr>\n",
       "    <tr>\n",
       "      <th>주말 및 공휴일</th>\n",
       "      <td>3</td>\n",
       "    </tr>\n",
       "  </tbody>\n",
       "</table>\n",
       "</div>"
      ],
      "text/plain": [
       "             휴무일\n",
       "연중무휴          39\n",
       "일요일           32\n",
       "없음            22\n",
       "공휴일           18\n",
       "매주 일요일         6\n",
       "토요일+일요일        6\n",
       "일요일+공휴일        5\n",
       "토요일+일요일+공휴일    4\n",
       "주말+공휴일         4\n",
       "주말 및 공휴일       3"
      ]
     },
     "execution_count": 25,
     "metadata": {},
     "output_type": "execute_result"
    }
   ],
   "source": [
    "data = simple_df['휴무일'].value_counts().nlargest(10)\n",
    "\n",
    "pd.DataFrame(data)"
   ]
  },
  {
   "cell_type": "code",
   "execution_count": 26,
   "metadata": {},
   "outputs": [
    {
     "data": {
      "image/png": "[encoded data removed]",
      "text/plain": [
       "<Figure size 432x288 with 1 Axes>"
      ]
     },
     "metadata": {},
     "output_type": "display_data"
    }
   ],
   "source": [
    "data = simple_df['휴무일'].value_counts().nlargest(10)\n",
    "\n",
    "data.plot.pie()\n",
    "\n",
    "plt.show()"
   ]
  },
  {
   "cell_type": "code",
   "execution_count": 27,
   "metadata": {},
   "outputs": [
    {
     "data": {
      "text/html": [
       "<div>\n",
       "<style scoped>\n",
       "    .dataframe tbody tr th:only-of-type {\n",
       "        vertical-align: middle;\n",
       "    }\n",
       "\n",
       "    .dataframe tbody tr th {\n",
       "        vertical-align: top;\n",
       "    }\n",
       "\n",
       "    .dataframe thead th {\n",
       "        text-align: right;\n",
       "    }\n",
       "</style>\n",
       "<table border=\"1\" class=\"dataframe\">\n",
       "  <thead>\n",
       "    <tr style=\"text-align: right;\">\n",
       "      <th></th>\n",
       "      <th>수의사인원수</th>\n",
       "    </tr>\n",
       "  </thead>\n",
       "  <tbody>\n",
       "    <tr>\n",
       "      <th>1</th>\n",
       "      <td>124</td>\n",
       "    </tr>\n",
       "    <tr>\n",
       "      <th>0</th>\n",
       "      <td>37</td>\n",
       "    </tr>\n",
       "    <tr>\n",
       "      <th>2</th>\n",
       "      <td>18</td>\n",
       "    </tr>\n",
       "    <tr>\n",
       "      <th>3</th>\n",
       "      <td>3</td>\n",
       "    </tr>\n",
       "    <tr>\n",
       "      <th>5</th>\n",
       "      <td>2</td>\n",
       "    </tr>\n",
       "    <tr>\n",
       "      <th>21</th>\n",
       "      <td>1</td>\n",
       "    </tr>\n",
       "    <tr>\n",
       "      <th>20</th>\n",
       "      <td>1</td>\n",
       "    </tr>\n",
       "    <tr>\n",
       "      <th>7</th>\n",
       "      <td>1</td>\n",
       "    </tr>\n",
       "    <tr>\n",
       "      <th>6</th>\n",
       "      <td>1</td>\n",
       "    </tr>\n",
       "  </tbody>\n",
       "</table>\n",
       "</div>"
      ],
      "text/plain": [
       "    수의사인원수\n",
       "1      124\n",
       "0       37\n",
       "2       18\n",
       "3        3\n",
       "5        2\n",
       "21       1\n",
       "20       1\n",
       "7        1\n",
       "6        1"
      ]
     },
     "execution_count": 27,
     "metadata": {},
     "output_type": "execute_result"
    }
   ],
   "source": [
    "data = simple_df['수의사인원수'].value_counts()\n",
    "\n",
    "pd.DataFrame(data)"
   ]
  },
  {
   "cell_type": "code",
   "execution_count": 28,
   "metadata": {},
   "outputs": [
    {
     "data": {
      "image/png": "[encoded data removed]",
      "text/plain": [
       "<Figure size 432x288 with 1 Axes>"
      ]
     },
     "metadata": {
      "needs_background": "light"
     },
     "output_type": "display_data"
    }
   ],
   "source": [
    "simple_df[['동물보호센터명', '수의사인원수']].plot.hist(bins=100, rwidth=10)\n",
    "\n",
    "plt.show()"
   ]
  },
  {
   "cell_type": "code",
   "execution_count": 29,
   "metadata": {},
   "outputs": [
    {
     "data": {
      "text/html": [
       "<div>\n",
       "<style scoped>\n",
       "    .dataframe tbody tr th:only-of-type {\n",
       "        vertical-align: middle;\n",
       "    }\n",
       "\n",
       "    .dataframe tbody tr th {\n",
       "        vertical-align: top;\n",
       "    }\n",
       "\n",
       "    .dataframe thead th {\n",
       "        text-align: right;\n",
       "    }\n",
       "</style>\n",
       "<table border=\"1\" class=\"dataframe\">\n",
       "  <thead>\n",
       "    <tr style=\"text-align: right;\">\n",
       "      <th></th>\n",
       "      <th>사양관리사인원수</th>\n",
       "    </tr>\n",
       "  </thead>\n",
       "  <tbody>\n",
       "    <tr>\n",
       "      <th>1</th>\n",
       "      <td>73</td>\n",
       "    </tr>\n",
       "    <tr>\n",
       "      <th>2</th>\n",
       "      <td>32</td>\n",
       "    </tr>\n",
       "    <tr>\n",
       "      <th>3</th>\n",
       "      <td>19</td>\n",
       "    </tr>\n",
       "    <tr>\n",
       "      <th>0</th>\n",
       "      <td>17</td>\n",
       "    </tr>\n",
       "    <tr>\n",
       "      <th>5</th>\n",
       "      <td>13</td>\n",
       "    </tr>\n",
       "    <tr>\n",
       "      <th>4</th>\n",
       "      <td>11</td>\n",
       "    </tr>\n",
       "    <tr>\n",
       "      <th>6</th>\n",
       "      <td>8</td>\n",
       "    </tr>\n",
       "    <tr>\n",
       "      <th>7</th>\n",
       "      <td>7</td>\n",
       "    </tr>\n",
       "    <tr>\n",
       "      <th>8</th>\n",
       "      <td>4</td>\n",
       "    </tr>\n",
       "    <tr>\n",
       "      <th>29</th>\n",
       "      <td>1</td>\n",
       "    </tr>\n",
       "    <tr>\n",
       "      <th>20</th>\n",
       "      <td>1</td>\n",
       "    </tr>\n",
       "    <tr>\n",
       "      <th>14</th>\n",
       "      <td>1</td>\n",
       "    </tr>\n",
       "    <tr>\n",
       "      <th>9</th>\n",
       "      <td>1</td>\n",
       "    </tr>\n",
       "  </tbody>\n",
       "</table>\n",
       "</div>"
      ],
      "text/plain": [
       "    사양관리사인원수\n",
       "1         73\n",
       "2         32\n",
       "3         19\n",
       "0         17\n",
       "5         13\n",
       "4         11\n",
       "6          8\n",
       "7          7\n",
       "8          4\n",
       "29         1\n",
       "20         1\n",
       "14         1\n",
       "9          1"
      ]
     },
     "execution_count": 29,
     "metadata": {},
     "output_type": "execute_result"
    }
   ],
   "source": [
    "data = simple_df['사양관리사인원수'].value_counts()\n",
    "\n",
    "pd.DataFrame(data)"
   ]
  },
  {
   "cell_type": "code",
   "execution_count": 30,
   "metadata": {},
   "outputs": [
    {
     "data": {
      "text/plain": [
       "((188, 10), (184, 10))"
      ]
     },
     "execution_count": 30,
     "metadata": {},
     "output_type": "execute_result"
    }
   ],
   "source": [
    "address_df = simple_df[simple_df['소재지도로명주소'].notnull()]\n",
    "\n",
    "simple_df.shape, address_df.shape"
   ]
  },
  {
   "cell_type": "code",
   "execution_count": 31,
   "metadata": {},
   "outputs": [
    {
     "data": {
      "text/html": [
       "<div>\n",
       "<style scoped>\n",
       "    .dataframe tbody tr th:only-of-type {\n",
       "        vertical-align: middle;\n",
       "    }\n",
       "\n",
       "    .dataframe tbody tr th {\n",
       "        vertical-align: top;\n",
       "    }\n",
       "\n",
       "    .dataframe thead th {\n",
       "        text-align: right;\n",
       "    }\n",
       "</style>\n",
       "<table border=\"1\" class=\"dataframe\">\n",
       "  <thead>\n",
       "    <tr style=\"text-align: right;\">\n",
       "      <th></th>\n",
       "      <th>동물보호센터명</th>\n",
       "      <th>관리기관명</th>\n",
       "      <th>동물보호센터유형</th>\n",
       "      <th>구조대상동물</th>\n",
       "      <th>소재지도로명주소</th>\n",
       "      <th>위도</th>\n",
       "      <th>경도</th>\n",
       "      <th>휴무일</th>\n",
       "      <th>수의사인원수</th>\n",
       "      <th>사양관리사인원수</th>\n",
       "    </tr>\n",
       "  </thead>\n",
       "  <tbody>\n",
       "    <tr>\n",
       "      <th>34</th>\n",
       "      <td>서초동물사랑센터</td>\n",
       "      <td>서초구청 지역경제과</td>\n",
       "      <td>법인</td>\n",
       "      <td>개</td>\n",
       "      <td>서울특별시 서초구  양재천로19길 22 (양재동)</td>\n",
       "      <td>37.476332</td>\n",
       "      <td>127.038124</td>\n",
       "      <td>매주월요일, 법정공휴일(일요일제외)</td>\n",
       "      <td>0</td>\n",
       "      <td>5</td>\n",
       "    </tr>\n",
       "    <tr>\n",
       "      <th>121</th>\n",
       "      <td>러브펫종합동물병원</td>\n",
       "      <td>서울특별시 관악구청</td>\n",
       "      <td>동물병원</td>\n",
       "      <td>개+고양이+기타유기동물</td>\n",
       "      <td>서울특별시 관악구 남부순환로 1451</td>\n",
       "      <td>37.481566</td>\n",
       "      <td>126.912010</td>\n",
       "      <td>연중무휴</td>\n",
       "      <td>2</td>\n",
       "      <td>5</td>\n",
       "    </tr>\n",
       "    <tr>\n",
       "      <th>173</th>\n",
       "      <td>강현림동물병원</td>\n",
       "      <td>서울특별시 양천구청</td>\n",
       "      <td>동물병원</td>\n",
       "      <td>반려동물</td>\n",
       "      <td>서울특별시 양천구 등촌로 160</td>\n",
       "      <td>37.543980</td>\n",
       "      <td>126.862417</td>\n",
       "      <td>매주일요일</td>\n",
       "      <td>1</td>\n",
       "      <td>2</td>\n",
       "    </tr>\n",
       "  </tbody>\n",
       "</table>\n",
       "</div>"
      ],
      "text/plain": [
       "       동물보호센터명       관리기관명 동물보호센터유형        구조대상동물  \\\n",
       "34    서초동물사랑센터  서초구청 지역경제과       법인             개   \n",
       "121  러브펫종합동물병원  서울특별시 관악구청     동물병원  개+고양이+기타유기동물   \n",
       "173    강현림동물병원  서울특별시 양천구청     동물병원          반려동물   \n",
       "\n",
       "                        소재지도로명주소         위도          경도                  휴무일  \\\n",
       "34   서울특별시 서초구  양재천로19길 22 (양재동)  37.476332  127.038124  매주월요일, 법정공휴일(일요일제외)   \n",
       "121         서울특별시 관악구 남부순환로 1451  37.481566  126.912010                 연중무휴   \n",
       "173            서울특별시 양천구 등촌로 160  37.543980  126.862417                매주일요일   \n",
       "\n",
       "     수의사인원수  사양관리사인원수  \n",
       "34        0         5  \n",
       "121       2         5  \n",
       "173       1         2  "
      ]
     },
     "execution_count": 31,
     "metadata": {},
     "output_type": "execute_result"
    }
   ],
   "source": [
    "address_df[address_df['소재지도로명주소'].str.contains('서울')]"
   ]
  },
  {
   "cell_type": "code",
   "execution_count": 35,
   "metadata": {},
   "outputs": [
    {
     "data": {
      "text/html": [
       "<div style=\"width:100%;\"><div style=\"position:relative;width:100%;height:0;padding-bottom:60%;\"><iframe src=\"data:text/html;charset=utf-8;base64,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\" style=\"position:absolute;width:100%;height:100%;left:0;top:0;border:none !important;\" allowfullscreen webkitallowfullscreen mozallowfullscreen></iframe></div></div>"
      ],
      "text/plain": [
       "<folium.folium.Map at 0xc9d3b07c08>"
      ]
     },
     "execution_count": 35,
     "metadata": {},
     "output_type": "execute_result"
    }
   ],
   "source": [
    "map = Map(location=[36.5, 127.5], zoom_start=7)\n",
    "\n",
    "data = simple_df[['위도', '경도']].groupby(['위도', '경도']).sum().reset_index().values.tolist()\n",
    "\n",
    "HeatMap(data=data, radius=20).add_to(map)\n",
    "\n",
    "for lat, lng in data:\n",
    "    marker = folium.Circle(\n",
    "        location=[lat, lng],\n",
    "        radius=500,\n",
    "        weight=1,\n",
    "        fill_color='#F00',\n",
    "        fill_opacity=0.3,\n",
    "    )\n",
    "    marker.add_to(map)\n",
    "\n",
    "map"
   ]
  },
  {
   "cell_type": "code",
   "execution_count": null,
   "metadata": {},
   "outputs": [],
   "source": []
  }
 ],
 "metadata": {
  "kernelspec": {
   "display_name": "Python 3",
   "language": "python",
   "name": "python3"
  },
  "language_info": {
   "codemirror_mode": {
    "name": "ipython",
    "version": 3
   },
   "file_extension": ".py",
   "mimetype": "text/x-python",
   "name": "python",
   "nbconvert_exporter": "python",
   "pygments_lexer": "ipython3",
   "version": "3.7.4"
  }
 },
 "nbformat": 4,
 "nbformat_minor": 2
}
