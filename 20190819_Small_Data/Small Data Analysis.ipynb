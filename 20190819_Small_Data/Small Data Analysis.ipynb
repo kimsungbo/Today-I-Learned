{
 "cells": [
  {
   "cell_type": "code",
   "execution_count": 1,
   "metadata": {},
   "outputs": [],
   "source": [
    "import pandas as pd\n",
    "import seaborn as sns\n",
    "import numpy as np\n",
    "import matplotlib.pyplot as plt"
   ]
  },
  {
   "cell_type": "code",
   "execution_count": 2,
   "metadata": {},
   "outputs": [],
   "source": [
    "data = pd.read_csv('./smalldata.csv')"
   ]
  },
  {
   "cell_type": "code",
   "execution_count": 3,
   "metadata": {},
   "outputs": [],
   "source": [
    "data = data.replace('X', 0)\n",
    "data = data.replace('x', 0)\n",
    "data = data.replace('O', 1)"
   ]
  },
  {
   "cell_type": "code",
   "execution_count": 4,
   "metadata": {},
   "outputs": [
    {
     "data": {
      "text/html": [
       "<div>\n",
       "<style scoped>\n",
       "    .dataframe tbody tr th:only-of-type {\n",
       "        vertical-align: middle;\n",
       "    }\n",
       "\n",
       "    .dataframe tbody tr th {\n",
       "        vertical-align: top;\n",
       "    }\n",
       "\n",
       "    .dataframe thead th {\n",
       "        text-align: right;\n",
       "    }\n",
       "</style>\n",
       "<table border=\"1\" class=\"dataframe\">\n",
       "  <thead>\n",
       "    <tr style=\"text-align: right;\">\n",
       "      <th></th>\n",
       "      <th>date</th>\n",
       "      <th>day</th>\n",
       "      <th>total_sleep_hour</th>\n",
       "      <th>bed_time</th>\n",
       "      <th>quality_written</th>\n",
       "      <th>quality_app</th>\n",
       "      <th>last_meal</th>\n",
       "      <th>last_meal_menu</th>\n",
       "      <th>last_meal_heaviness</th>\n",
       "      <th>phone_before_bed</th>\n",
       "      <th>...</th>\n",
       "      <th>exercise_type</th>\n",
       "      <th>exercise_time</th>\n",
       "      <th>exercise_strength</th>\n",
       "      <th>tiredness</th>\n",
       "      <th>min_taken_since_first_alarm</th>\n",
       "      <th>num_of_alarm</th>\n",
       "      <th>nap_next_day</th>\n",
       "      <th>drowsiness</th>\n",
       "      <th>online_game</th>\n",
       "      <th>etc</th>\n",
       "    </tr>\n",
       "  </thead>\n",
       "  <tbody>\n",
       "    <tr>\n",
       "      <th>0</th>\n",
       "      <td>8/2</td>\n",
       "      <td>금</td>\n",
       "      <td>300</td>\n",
       "      <td>29:54:00</td>\n",
       "      <td>10</td>\n",
       "      <td>31.0</td>\n",
       "      <td>54</td>\n",
       "      <td>NaN</td>\n",
       "      <td>2</td>\n",
       "      <td>1</td>\n",
       "      <td>...</td>\n",
       "      <td>0</td>\n",
       "      <td>0</td>\n",
       "      <td>0</td>\n",
       "      <td>8</td>\n",
       "      <td>120</td>\n",
       "      <td>4</td>\n",
       "      <td>0</td>\n",
       "      <td>1</td>\n",
       "      <td>0.0</td>\n",
       "      <td>NaN</td>\n",
       "    </tr>\n",
       "    <tr>\n",
       "      <th>1</th>\n",
       "      <td>8/3</td>\n",
       "      <td>토</td>\n",
       "      <td>744</td>\n",
       "      <td>28:26:00</td>\n",
       "      <td>5</td>\n",
       "      <td>NaN</td>\n",
       "      <td>11</td>\n",
       "      <td>롯데리아 하바네로, 감자튀김, 콜라</td>\n",
       "      <td>3</td>\n",
       "      <td>1</td>\n",
       "      <td>...</td>\n",
       "      <td>0</td>\n",
       "      <td>0</td>\n",
       "      <td>0</td>\n",
       "      <td>2</td>\n",
       "      <td>0</td>\n",
       "      <td>0</td>\n",
       "      <td>0</td>\n",
       "      <td>0</td>\n",
       "      <td>290.0</td>\n",
       "      <td>불, 티비 켜놓고 잠</td>\n",
       "    </tr>\n",
       "    <tr>\n",
       "      <th>2</th>\n",
       "      <td>8/4</td>\n",
       "      <td>일</td>\n",
       "      <td>208</td>\n",
       "      <td>29:14:00</td>\n",
       "      <td>8</td>\n",
       "      <td>76.0</td>\n",
       "      <td>269</td>\n",
       "      <td>BBQ 황금올리브치킨</td>\n",
       "      <td>3</td>\n",
       "      <td>1</td>\n",
       "      <td>...</td>\n",
       "      <td>0</td>\n",
       "      <td>0</td>\n",
       "      <td>0</td>\n",
       "      <td>6</td>\n",
       "      <td>42</td>\n",
       "      <td>5</td>\n",
       "      <td>1</td>\n",
       "      <td>0</td>\n",
       "      <td>208.0</td>\n",
       "      <td>NaN</td>\n",
       "    </tr>\n",
       "    <tr>\n",
       "      <th>3</th>\n",
       "      <td>8/5</td>\n",
       "      <td>월</td>\n",
       "      <td>670</td>\n",
       "      <td>28:15:00</td>\n",
       "      <td>8</td>\n",
       "      <td>NaN</td>\n",
       "      <td>25</td>\n",
       "      <td>홈런볼, 봉봉</td>\n",
       "      <td>1</td>\n",
       "      <td>1</td>\n",
       "      <td>...</td>\n",
       "      <td>0</td>\n",
       "      <td>0</td>\n",
       "      <td>0</td>\n",
       "      <td>3</td>\n",
       "      <td>270</td>\n",
       "      <td>4</td>\n",
       "      <td>0</td>\n",
       "      <td>0</td>\n",
       "      <td>363.0</td>\n",
       "      <td>NaN</td>\n",
       "    </tr>\n",
       "    <tr>\n",
       "      <th>4</th>\n",
       "      <td>8/6</td>\n",
       "      <td>화</td>\n",
       "      <td>181</td>\n",
       "      <td>29:34:00</td>\n",
       "      <td>6</td>\n",
       "      <td>25.0</td>\n",
       "      <td>269</td>\n",
       "      <td>베라</td>\n",
       "      <td>1</td>\n",
       "      <td>1</td>\n",
       "      <td>...</td>\n",
       "      <td>0</td>\n",
       "      <td>0</td>\n",
       "      <td>0</td>\n",
       "      <td>8</td>\n",
       "      <td>40</td>\n",
       "      <td>4</td>\n",
       "      <td>0</td>\n",
       "      <td>1</td>\n",
       "      <td>0.0</td>\n",
       "      <td>NaN</td>\n",
       "    </tr>\n",
       "    <tr>\n",
       "      <th>5</th>\n",
       "      <td>8/7</td>\n",
       "      <td>수</td>\n",
       "      <td>486</td>\n",
       "      <td>25:46:00</td>\n",
       "      <td>8</td>\n",
       "      <td>64.0</td>\n",
       "      <td>286</td>\n",
       "      <td>리조또, 립아이 스테이크, 티라미슈</td>\n",
       "      <td>2</td>\n",
       "      <td>1</td>\n",
       "      <td>...</td>\n",
       "      <td>0</td>\n",
       "      <td>0</td>\n",
       "      <td>0</td>\n",
       "      <td>3</td>\n",
       "      <td>25</td>\n",
       "      <td>4</td>\n",
       "      <td>1</td>\n",
       "      <td>0</td>\n",
       "      <td>0.0</td>\n",
       "      <td>NaN</td>\n",
       "    </tr>\n",
       "    <tr>\n",
       "      <th>6</th>\n",
       "      <td>8/8</td>\n",
       "      <td>목</td>\n",
       "      <td>351</td>\n",
       "      <td>26:49:00</td>\n",
       "      <td>2</td>\n",
       "      <td>57.0</td>\n",
       "      <td>289</td>\n",
       "      <td>곱창</td>\n",
       "      <td>2</td>\n",
       "      <td>0</td>\n",
       "      <td>...</td>\n",
       "      <td>0</td>\n",
       "      <td>0</td>\n",
       "      <td>0</td>\n",
       "      <td>10</td>\n",
       "      <td>40</td>\n",
       "      <td>4</td>\n",
       "      <td>0</td>\n",
       "      <td>0</td>\n",
       "      <td>95.0</td>\n",
       "      <td>NaN</td>\n",
       "    </tr>\n",
       "    <tr>\n",
       "      <th>7</th>\n",
       "      <td>8/9</td>\n",
       "      <td>금</td>\n",
       "      <td>820</td>\n",
       "      <td>20:20:00</td>\n",
       "      <td>10</td>\n",
       "      <td>95.0</td>\n",
       "      <td>25</td>\n",
       "      <td>짬뽕밥</td>\n",
       "      <td>3</td>\n",
       "      <td>1</td>\n",
       "      <td>...</td>\n",
       "      <td>0</td>\n",
       "      <td>0</td>\n",
       "      <td>0</td>\n",
       "      <td>0</td>\n",
       "      <td>0</td>\n",
       "      <td>0</td>\n",
       "      <td>1</td>\n",
       "      <td>0</td>\n",
       "      <td>0.0</td>\n",
       "      <td>NaN</td>\n",
       "    </tr>\n",
       "    <tr>\n",
       "      <th>8</th>\n",
       "      <td>8/10</td>\n",
       "      <td>토</td>\n",
       "      <td>256</td>\n",
       "      <td>30:26:00</td>\n",
       "      <td>5</td>\n",
       "      <td>39.0</td>\n",
       "      <td>201</td>\n",
       "      <td>짜장밥</td>\n",
       "      <td>3</td>\n",
       "      <td>1</td>\n",
       "      <td>...</td>\n",
       "      <td>0</td>\n",
       "      <td>0</td>\n",
       "      <td>0</td>\n",
       "      <td>6</td>\n",
       "      <td>10</td>\n",
       "      <td>3</td>\n",
       "      <td>0</td>\n",
       "      <td>0</td>\n",
       "      <td>154.0</td>\n",
       "      <td>NaN</td>\n",
       "    </tr>\n",
       "    <tr>\n",
       "      <th>9</th>\n",
       "      <td>8/11</td>\n",
       "      <td>일</td>\n",
       "      <td>255</td>\n",
       "      <td>25:25:00</td>\n",
       "      <td>5</td>\n",
       "      <td>NaN</td>\n",
       "      <td>240</td>\n",
       "      <td>벌집핏자, 아이스티</td>\n",
       "      <td>1</td>\n",
       "      <td>1</td>\n",
       "      <td>...</td>\n",
       "      <td>수영</td>\n",
       "      <td>240</td>\n",
       "      <td>7.5</td>\n",
       "      <td>8</td>\n",
       "      <td>10</td>\n",
       "      <td>3</td>\n",
       "      <td>1</td>\n",
       "      <td>0</td>\n",
       "      <td>99.0</td>\n",
       "      <td>NaN</td>\n",
       "    </tr>\n",
       "    <tr>\n",
       "      <th>10</th>\n",
       "      <td>8/12</td>\n",
       "      <td>월</td>\n",
       "      <td>396</td>\n",
       "      <td>25:50:00</td>\n",
       "      <td>7</td>\n",
       "      <td>37.0</td>\n",
       "      <td>72</td>\n",
       "      <td>칸쵸, 아이스티</td>\n",
       "      <td>1</td>\n",
       "      <td>1</td>\n",
       "      <td>...</td>\n",
       "      <td>0</td>\n",
       "      <td>0</td>\n",
       "      <td>0</td>\n",
       "      <td>10</td>\n",
       "      <td>26</td>\n",
       "      <td>3</td>\n",
       "      <td>0</td>\n",
       "      <td>1</td>\n",
       "      <td>179.0</td>\n",
       "      <td>NaN</td>\n",
       "    </tr>\n",
       "    <tr>\n",
       "      <th>11</th>\n",
       "      <td>8/13</td>\n",
       "      <td>화</td>\n",
       "      <td>362</td>\n",
       "      <td>26:28:00</td>\n",
       "      <td>7</td>\n",
       "      <td>69.0</td>\n",
       "      <td>378</td>\n",
       "      <td>돼지갈비, 김, 김치</td>\n",
       "      <td>2</td>\n",
       "      <td>1</td>\n",
       "      <td>...</td>\n",
       "      <td>0</td>\n",
       "      <td>0</td>\n",
       "      <td>0</td>\n",
       "      <td>5</td>\n",
       "      <td>30</td>\n",
       "      <td>4</td>\n",
       "      <td>0</td>\n",
       "      <td>0</td>\n",
       "      <td>NaN</td>\n",
       "      <td>NaN</td>\n",
       "    </tr>\n",
       "    <tr>\n",
       "      <th>12</th>\n",
       "      <td>8/14</td>\n",
       "      <td>수</td>\n",
       "      <td>311</td>\n",
       "      <td>27:15:00</td>\n",
       "      <td>8</td>\n",
       "      <td>NaN</td>\n",
       "      <td>80</td>\n",
       "      <td>짜빠게티, 웰치스 청포도</td>\n",
       "      <td>2</td>\n",
       "      <td>1</td>\n",
       "      <td>...</td>\n",
       "      <td>0</td>\n",
       "      <td>0</td>\n",
       "      <td>0</td>\n",
       "      <td>3</td>\n",
       "      <td>0</td>\n",
       "      <td>0</td>\n",
       "      <td>1</td>\n",
       "      <td>0</td>\n",
       "      <td>292.0</td>\n",
       "      <td>NaN</td>\n",
       "    </tr>\n",
       "    <tr>\n",
       "      <th>13</th>\n",
       "      <td>8/15</td>\n",
       "      <td>목</td>\n",
       "      <td>242</td>\n",
       "      <td>28:24:00</td>\n",
       "      <td>5</td>\n",
       "      <td>39.0</td>\n",
       "      <td>14</td>\n",
       "      <td>알리오 올리오, 족발, 막국수, 연어초밥, 연어 사시미, 환타 오렌지, 환타 파인에...</td>\n",
       "      <td>3</td>\n",
       "      <td>1</td>\n",
       "      <td>...</td>\n",
       "      <td>수영</td>\n",
       "      <td>240</td>\n",
       "      <td>4</td>\n",
       "      <td>7</td>\n",
       "      <td>26</td>\n",
       "      <td>4</td>\n",
       "      <td>1</td>\n",
       "      <td>0</td>\n",
       "      <td>NaN</td>\n",
       "      <td>NaN</td>\n",
       "    </tr>\n",
       "    <tr>\n",
       "      <th>14</th>\n",
       "      <td>8/16</td>\n",
       "      <td>금</td>\n",
       "      <td>435</td>\n",
       "      <td>27:06:00</td>\n",
       "      <td>8</td>\n",
       "      <td>NaN</td>\n",
       "      <td>486</td>\n",
       "      <td>연어덮밥</td>\n",
       "      <td>2</td>\n",
       "      <td>1</td>\n",
       "      <td>...</td>\n",
       "      <td>0</td>\n",
       "      <td>0</td>\n",
       "      <td>0</td>\n",
       "      <td>9</td>\n",
       "      <td>45</td>\n",
       "      <td>3</td>\n",
       "      <td>0</td>\n",
       "      <td>0</td>\n",
       "      <td>179.0</td>\n",
       "      <td>NaN</td>\n",
       "    </tr>\n",
       "    <tr>\n",
       "      <th>15</th>\n",
       "      <td>8/17</td>\n",
       "      <td>토</td>\n",
       "      <td>353</td>\n",
       "      <td>22:20:00</td>\n",
       "      <td>4</td>\n",
       "      <td>NaN</td>\n",
       "      <td>190</td>\n",
       "      <td>묵은지돼지김치찜, 아이스티</td>\n",
       "      <td>2</td>\n",
       "      <td>1</td>\n",
       "      <td>...</td>\n",
       "      <td>0</td>\n",
       "      <td>0</td>\n",
       "      <td>0</td>\n",
       "      <td>3</td>\n",
       "      <td>0</td>\n",
       "      <td>0</td>\n",
       "      <td>0</td>\n",
       "      <td>0</td>\n",
       "      <td>93.0</td>\n",
       "      <td>NaN</td>\n",
       "    </tr>\n",
       "    <tr>\n",
       "      <th>16</th>\n",
       "      <td>8/18</td>\n",
       "      <td>일</td>\n",
       "      <td>338</td>\n",
       "      <td>26:50:00</td>\n",
       "      <td>8</td>\n",
       "      <td>NaN</td>\n",
       "      <td>50</td>\n",
       "      <td>짜빠게티, 선키스트 자몽</td>\n",
       "      <td>2</td>\n",
       "      <td>1</td>\n",
       "      <td>...</td>\n",
       "      <td>0</td>\n",
       "      <td>0</td>\n",
       "      <td>0</td>\n",
       "      <td>3</td>\n",
       "      <td>26</td>\n",
       "      <td>5</td>\n",
       "      <td>0</td>\n",
       "      <td>0</td>\n",
       "      <td>641.0</td>\n",
       "      <td>NaN</td>\n",
       "    </tr>\n",
       "    <tr>\n",
       "      <th>17</th>\n",
       "      <td>8/19</td>\n",
       "      <td>월</td>\n",
       "      <td>474</td>\n",
       "      <td>0:28</td>\n",
       "      <td>6</td>\n",
       "      <td>80.0</td>\n",
       "      <td>258</td>\n",
       "      <td>마라샹궈</td>\n",
       "      <td>3</td>\n",
       "      <td>1</td>\n",
       "      <td>...</td>\n",
       "      <td>0</td>\n",
       "      <td>0</td>\n",
       "      <td>0</td>\n",
       "      <td>5</td>\n",
       "      <td>22</td>\n",
       "      <td>4</td>\n",
       "      <td>0</td>\n",
       "      <td>0</td>\n",
       "      <td>NaN</td>\n",
       "      <td>NaN</td>\n",
       "    </tr>\n",
       "  </tbody>\n",
       "</table>\n",
       "<p>18 rows × 28 columns</p>\n",
       "</div>"
      ],
      "text/plain": [
       "    date day  total_sleep_hour  bed_time  quality_written  quality_app  \\\n",
       "0    8/2   금               300  29:54:00               10         31.0   \n",
       "1    8/3   토               744  28:26:00                5          NaN   \n",
       "2    8/4   일               208  29:14:00                8         76.0   \n",
       "3    8/5   월               670  28:15:00                8          NaN   \n",
       "4    8/6   화               181  29:34:00                6         25.0   \n",
       "5    8/7   수               486  25:46:00                8         64.0   \n",
       "6    8/8   목               351  26:49:00                2         57.0   \n",
       "7    8/9   금               820  20:20:00               10         95.0   \n",
       "8   8/10   토               256  30:26:00                5         39.0   \n",
       "9   8/11   일               255  25:25:00                5          NaN   \n",
       "10  8/12   월               396  25:50:00                7         37.0   \n",
       "11  8/13   화               362  26:28:00                7         69.0   \n",
       "12  8/14   수               311  27:15:00                8          NaN   \n",
       "13  8/15   목               242  28:24:00                5         39.0   \n",
       "14  8/16   금               435  27:06:00                8          NaN   \n",
       "15  8/17   토               353  22:20:00                4          NaN   \n",
       "16  8/18   일               338  26:50:00                8          NaN   \n",
       "17  8/19   월               474      0:28                6         80.0   \n",
       "\n",
       "    last_meal                                     last_meal_menu  \\\n",
       "0          54                                                NaN   \n",
       "1          11                                롯데리아 하바네로, 감자튀김, 콜라   \n",
       "2         269                                        BBQ 황금올리브치킨   \n",
       "3          25                                            홈런볼, 봉봉   \n",
       "4         269                                                 베라   \n",
       "5         286                                리조또, 립아이 스테이크, 티라미슈   \n",
       "6         289                                                 곱창   \n",
       "7          25                                                짬뽕밥   \n",
       "8         201                                                짜장밥   \n",
       "9         240                                         벌집핏자, 아이스티   \n",
       "10         72                                           칸쵸, 아이스티   \n",
       "11        378                                        돼지갈비, 김, 김치   \n",
       "12         80                                      짜빠게티, 웰치스 청포도   \n",
       "13         14  알리오 올리오, 족발, 막국수, 연어초밥, 연어 사시미, 환타 오렌지, 환타 파인에...   \n",
       "14        486                                               연어덮밥   \n",
       "15        190                                     묵은지돼지김치찜, 아이스티   \n",
       "16         50                                      짜빠게티, 선키스트 자몽   \n",
       "17        258                                               마라샹궈   \n",
       "\n",
       "    last_meal_heaviness  phone_before_bed  ... exercise_type  exercise_time  \\\n",
       "0                     2                 1  ...             0              0   \n",
       "1                     3                 1  ...             0              0   \n",
       "2                     3                 1  ...             0              0   \n",
       "3                     1                 1  ...             0              0   \n",
       "4                     1                 1  ...             0              0   \n",
       "5                     2                 1  ...             0              0   \n",
       "6                     2                 0  ...             0              0   \n",
       "7                     3                 1  ...             0              0   \n",
       "8                     3                 1  ...             0              0   \n",
       "9                     1                 1  ...            수영            240   \n",
       "10                    1                 1  ...             0              0   \n",
       "11                    2                 1  ...             0              0   \n",
       "12                    2                 1  ...             0              0   \n",
       "13                    3                 1  ...            수영            240   \n",
       "14                    2                 1  ...             0              0   \n",
       "15                    2                 1  ...             0              0   \n",
       "16                    2                 1  ...             0              0   \n",
       "17                    3                 1  ...             0              0   \n",
       "\n",
       "   exercise_strength  tiredness  min_taken_since_first_alarm num_of_alarm  \\\n",
       "0                  0          8                          120            4   \n",
       "1                  0          2                            0            0   \n",
       "2                  0          6                           42            5   \n",
       "3                  0          3                          270            4   \n",
       "4                  0          8                           40            4   \n",
       "5                  0          3                           25            4   \n",
       "6                  0         10                           40            4   \n",
       "7                  0          0                            0            0   \n",
       "8                  0          6                           10            3   \n",
       "9                7.5          8                           10            3   \n",
       "10                 0         10                           26            3   \n",
       "11                 0          5                           30            4   \n",
       "12                 0          3                            0            0   \n",
       "13                 4          7                           26            4   \n",
       "14                 0          9                           45            3   \n",
       "15                 0          3                            0            0   \n",
       "16                 0          3                           26            5   \n",
       "17                 0          5                           22            4   \n",
       "\n",
       "    nap_next_day  drowsiness online_game          etc  \n",
       "0              0           1         0.0          NaN  \n",
       "1              0           0       290.0  불, 티비 켜놓고 잠  \n",
       "2              1           0       208.0          NaN  \n",
       "3              0           0       363.0          NaN  \n",
       "4              0           1         0.0          NaN  \n",
       "5              1           0         0.0          NaN  \n",
       "6              0           0        95.0          NaN  \n",
       "7              1           0         0.0          NaN  \n",
       "8              0           0       154.0          NaN  \n",
       "9              1           0        99.0          NaN  \n",
       "10             0           1       179.0          NaN  \n",
       "11             0           0         NaN          NaN  \n",
       "12             1           0       292.0          NaN  \n",
       "13             1           0         NaN          NaN  \n",
       "14             0           0       179.0          NaN  \n",
       "15             0           0        93.0          NaN  \n",
       "16             0           0       641.0          NaN  \n",
       "17             0           0         NaN          NaN  \n",
       "\n",
       "[18 rows x 28 columns]"
      ]
     },
     "execution_count": 4,
     "metadata": {},
     "output_type": "execute_result"
    }
   ],
   "source": [
    "data"
   ]
  },
  {
   "cell_type": "code",
   "execution_count": 5,
   "metadata": {},
   "outputs": [],
   "source": [
    "#data = data.drop(columns=\"Unnamed: 21\")"
   ]
  },
  {
   "cell_type": "code",
   "execution_count": 6,
   "metadata": {},
   "outputs": [],
   "source": [
    "data = data.drop(columns=[\"last_meal_menu\", \"etc\", \"stress_cause\", \"exercise_type\"])"
   ]
  },
  {
   "cell_type": "code",
   "execution_count": 7,
   "metadata": {},
   "outputs": [
    {
     "data": {
      "text/plain": [
       "date                            object\n",
       "day                             object\n",
       "total_sleep_hour                 int64\n",
       "bed_time                        object\n",
       "quality_written                  int64\n",
       "quality_app                    float64\n",
       "last_meal                        int64\n",
       "last_meal_heaviness              int64\n",
       "phone_before_bed                 int64\n",
       "phone_usage_time                object\n",
       "nap                              int64\n",
       "stress_strength                  int64\n",
       "alcohol                          int64\n",
       "caffein_coffee                  object\n",
       "caffein_etc                      int64\n",
       "exercise                         int64\n",
       "exercise_time                   object\n",
       "exercise_strength               object\n",
       "tiredness                        int64\n",
       "min_taken_since_first_alarm     object\n",
       "num_of_alarm                    object\n",
       "nap_next_day                     int64\n",
       "drowsiness                       int64\n",
       "online_game                    float64\n",
       "dtype: object"
      ]
     },
     "execution_count": 7,
     "metadata": {},
     "output_type": "execute_result"
    }
   ],
   "source": [
    "data.dtypes"
   ]
  },
  {
   "cell_type": "code",
   "execution_count": 8,
   "metadata": {},
   "outputs": [
    {
     "data": {
      "text/plain": [
       "0     120\n",
       "1       0\n",
       "2      42\n",
       "3     270\n",
       "4      40\n",
       "5      25\n",
       "6      40\n",
       "7       0\n",
       "8      10\n",
       "9      10\n",
       "10     26\n",
       "11     30\n",
       "12      0\n",
       "13     26\n",
       "14     45\n",
       "15      0\n",
       "16     26\n",
       "17     22\n",
       "Name: min_taken_since_first_alarm, dtype: int32"
      ]
     },
     "execution_count": 8,
     "metadata": {},
     "output_type": "execute_result"
    }
   ],
   "source": [
    "data['phone_usage_time'].astype(str).astype(int)\n",
    "data['caffein_coffee'].astype(str).astype(int)\n",
    "data['exercise_time'].astype(str).astype(int)\n",
    "data['exercise_strength'].astype(str).astype(float)\n",
    "data['num_of_alarm'].astype(str).astype(int)\n",
    "data['min_taken_since_first_alarm'].astype(str).astype(int)"
   ]
  },
  {
   "cell_type": "code",
   "execution_count": 9,
   "metadata": {},
   "outputs": [
    {
     "data": {
      "text/html": [
       "<div>\n",
       "<style scoped>\n",
       "    .dataframe tbody tr th:only-of-type {\n",
       "        vertical-align: middle;\n",
       "    }\n",
       "\n",
       "    .dataframe tbody tr th {\n",
       "        vertical-align: top;\n",
       "    }\n",
       "\n",
       "    .dataframe thead th {\n",
       "        text-align: right;\n",
       "    }\n",
       "</style>\n",
       "<table border=\"1\" class=\"dataframe\">\n",
       "  <thead>\n",
       "    <tr style=\"text-align: right;\">\n",
       "      <th></th>\n",
       "      <th>date</th>\n",
       "      <th>day</th>\n",
       "      <th>total_sleep_hour</th>\n",
       "      <th>bed_time</th>\n",
       "      <th>quality_written</th>\n",
       "      <th>quality_app</th>\n",
       "      <th>last_meal</th>\n",
       "      <th>last_meal_heaviness</th>\n",
       "      <th>phone_before_bed</th>\n",
       "      <th>phone_usage_time</th>\n",
       "      <th>...</th>\n",
       "      <th>caffein_etc</th>\n",
       "      <th>exercise</th>\n",
       "      <th>exercise_time</th>\n",
       "      <th>exercise_strength</th>\n",
       "      <th>tiredness</th>\n",
       "      <th>min_taken_since_first_alarm</th>\n",
       "      <th>num_of_alarm</th>\n",
       "      <th>nap_next_day</th>\n",
       "      <th>drowsiness</th>\n",
       "      <th>online_game</th>\n",
       "    </tr>\n",
       "  </thead>\n",
       "  <tbody>\n",
       "    <tr>\n",
       "      <th>0</th>\n",
       "      <td>8/2</td>\n",
       "      <td>금</td>\n",
       "      <td>300</td>\n",
       "      <td>29:54:00</td>\n",
       "      <td>10</td>\n",
       "      <td>31.0</td>\n",
       "      <td>54</td>\n",
       "      <td>2</td>\n",
       "      <td>1</td>\n",
       "      <td>10</td>\n",
       "      <td>...</td>\n",
       "      <td>0</td>\n",
       "      <td>0</td>\n",
       "      <td>0</td>\n",
       "      <td>0</td>\n",
       "      <td>8</td>\n",
       "      <td>120</td>\n",
       "      <td>4</td>\n",
       "      <td>0</td>\n",
       "      <td>1</td>\n",
       "      <td>0.0</td>\n",
       "    </tr>\n",
       "    <tr>\n",
       "      <th>1</th>\n",
       "      <td>8/3</td>\n",
       "      <td>토</td>\n",
       "      <td>744</td>\n",
       "      <td>28:26:00</td>\n",
       "      <td>5</td>\n",
       "      <td>NaN</td>\n",
       "      <td>11</td>\n",
       "      <td>3</td>\n",
       "      <td>1</td>\n",
       "      <td>5</td>\n",
       "      <td>...</td>\n",
       "      <td>0</td>\n",
       "      <td>0</td>\n",
       "      <td>0</td>\n",
       "      <td>0</td>\n",
       "      <td>2</td>\n",
       "      <td>0</td>\n",
       "      <td>0</td>\n",
       "      <td>0</td>\n",
       "      <td>0</td>\n",
       "      <td>290.0</td>\n",
       "    </tr>\n",
       "    <tr>\n",
       "      <th>2</th>\n",
       "      <td>8/4</td>\n",
       "      <td>일</td>\n",
       "      <td>208</td>\n",
       "      <td>29:14:00</td>\n",
       "      <td>8</td>\n",
       "      <td>76.0</td>\n",
       "      <td>269</td>\n",
       "      <td>3</td>\n",
       "      <td>1</td>\n",
       "      <td>4</td>\n",
       "      <td>...</td>\n",
       "      <td>0</td>\n",
       "      <td>0</td>\n",
       "      <td>0</td>\n",
       "      <td>0</td>\n",
       "      <td>6</td>\n",
       "      <td>42</td>\n",
       "      <td>5</td>\n",
       "      <td>1</td>\n",
       "      <td>0</td>\n",
       "      <td>208.0</td>\n",
       "    </tr>\n",
       "    <tr>\n",
       "      <th>3</th>\n",
       "      <td>8/5</td>\n",
       "      <td>월</td>\n",
       "      <td>670</td>\n",
       "      <td>28:15:00</td>\n",
       "      <td>8</td>\n",
       "      <td>NaN</td>\n",
       "      <td>25</td>\n",
       "      <td>1</td>\n",
       "      <td>1</td>\n",
       "      <td>5</td>\n",
       "      <td>...</td>\n",
       "      <td>0</td>\n",
       "      <td>0</td>\n",
       "      <td>0</td>\n",
       "      <td>0</td>\n",
       "      <td>3</td>\n",
       "      <td>270</td>\n",
       "      <td>4</td>\n",
       "      <td>0</td>\n",
       "      <td>0</td>\n",
       "      <td>363.0</td>\n",
       "    </tr>\n",
       "    <tr>\n",
       "      <th>4</th>\n",
       "      <td>8/6</td>\n",
       "      <td>화</td>\n",
       "      <td>181</td>\n",
       "      <td>29:34:00</td>\n",
       "      <td>6</td>\n",
       "      <td>25.0</td>\n",
       "      <td>269</td>\n",
       "      <td>1</td>\n",
       "      <td>1</td>\n",
       "      <td>300</td>\n",
       "      <td>...</td>\n",
       "      <td>0</td>\n",
       "      <td>0</td>\n",
       "      <td>0</td>\n",
       "      <td>0</td>\n",
       "      <td>8</td>\n",
       "      <td>40</td>\n",
       "      <td>4</td>\n",
       "      <td>0</td>\n",
       "      <td>1</td>\n",
       "      <td>0.0</td>\n",
       "    </tr>\n",
       "    <tr>\n",
       "      <th>5</th>\n",
       "      <td>8/7</td>\n",
       "      <td>수</td>\n",
       "      <td>486</td>\n",
       "      <td>25:46:00</td>\n",
       "      <td>8</td>\n",
       "      <td>64.0</td>\n",
       "      <td>286</td>\n",
       "      <td>2</td>\n",
       "      <td>1</td>\n",
       "      <td>5</td>\n",
       "      <td>...</td>\n",
       "      <td>0</td>\n",
       "      <td>0</td>\n",
       "      <td>0</td>\n",
       "      <td>0</td>\n",
       "      <td>3</td>\n",
       "      <td>25</td>\n",
       "      <td>4</td>\n",
       "      <td>1</td>\n",
       "      <td>0</td>\n",
       "      <td>0.0</td>\n",
       "    </tr>\n",
       "    <tr>\n",
       "      <th>6</th>\n",
       "      <td>8/8</td>\n",
       "      <td>목</td>\n",
       "      <td>351</td>\n",
       "      <td>26:49:00</td>\n",
       "      <td>2</td>\n",
       "      <td>57.0</td>\n",
       "      <td>289</td>\n",
       "      <td>2</td>\n",
       "      <td>0</td>\n",
       "      <td>0</td>\n",
       "      <td>...</td>\n",
       "      <td>0</td>\n",
       "      <td>0</td>\n",
       "      <td>0</td>\n",
       "      <td>0</td>\n",
       "      <td>10</td>\n",
       "      <td>40</td>\n",
       "      <td>4</td>\n",
       "      <td>0</td>\n",
       "      <td>0</td>\n",
       "      <td>95.0</td>\n",
       "    </tr>\n",
       "    <tr>\n",
       "      <th>7</th>\n",
       "      <td>8/9</td>\n",
       "      <td>금</td>\n",
       "      <td>820</td>\n",
       "      <td>20:20:00</td>\n",
       "      <td>10</td>\n",
       "      <td>95.0</td>\n",
       "      <td>25</td>\n",
       "      <td>3</td>\n",
       "      <td>1</td>\n",
       "      <td>3</td>\n",
       "      <td>...</td>\n",
       "      <td>0</td>\n",
       "      <td>0</td>\n",
       "      <td>0</td>\n",
       "      <td>0</td>\n",
       "      <td>0</td>\n",
       "      <td>0</td>\n",
       "      <td>0</td>\n",
       "      <td>1</td>\n",
       "      <td>0</td>\n",
       "      <td>0.0</td>\n",
       "    </tr>\n",
       "    <tr>\n",
       "      <th>8</th>\n",
       "      <td>8/10</td>\n",
       "      <td>토</td>\n",
       "      <td>256</td>\n",
       "      <td>30:26:00</td>\n",
       "      <td>5</td>\n",
       "      <td>39.0</td>\n",
       "      <td>201</td>\n",
       "      <td>3</td>\n",
       "      <td>1</td>\n",
       "      <td>20</td>\n",
       "      <td>...</td>\n",
       "      <td>0</td>\n",
       "      <td>0</td>\n",
       "      <td>0</td>\n",
       "      <td>0</td>\n",
       "      <td>6</td>\n",
       "      <td>10</td>\n",
       "      <td>3</td>\n",
       "      <td>0</td>\n",
       "      <td>0</td>\n",
       "      <td>154.0</td>\n",
       "    </tr>\n",
       "    <tr>\n",
       "      <th>9</th>\n",
       "      <td>8/11</td>\n",
       "      <td>일</td>\n",
       "      <td>255</td>\n",
       "      <td>25:25:00</td>\n",
       "      <td>5</td>\n",
       "      <td>NaN</td>\n",
       "      <td>240</td>\n",
       "      <td>1</td>\n",
       "      <td>1</td>\n",
       "      <td>60</td>\n",
       "      <td>...</td>\n",
       "      <td>0</td>\n",
       "      <td>1</td>\n",
       "      <td>240</td>\n",
       "      <td>7.5</td>\n",
       "      <td>8</td>\n",
       "      <td>10</td>\n",
       "      <td>3</td>\n",
       "      <td>1</td>\n",
       "      <td>0</td>\n",
       "      <td>99.0</td>\n",
       "    </tr>\n",
       "  </tbody>\n",
       "</table>\n",
       "<p>10 rows × 24 columns</p>\n",
       "</div>"
      ],
      "text/plain": [
       "   date day  total_sleep_hour  bed_time  quality_written  quality_app  \\\n",
       "0   8/2   금               300  29:54:00               10         31.0   \n",
       "1   8/3   토               744  28:26:00                5          NaN   \n",
       "2   8/4   일               208  29:14:00                8         76.0   \n",
       "3   8/5   월               670  28:15:00                8          NaN   \n",
       "4   8/6   화               181  29:34:00                6         25.0   \n",
       "5   8/7   수               486  25:46:00                8         64.0   \n",
       "6   8/8   목               351  26:49:00                2         57.0   \n",
       "7   8/9   금               820  20:20:00               10         95.0   \n",
       "8  8/10   토               256  30:26:00                5         39.0   \n",
       "9  8/11   일               255  25:25:00                5          NaN   \n",
       "\n",
       "   last_meal  last_meal_heaviness  phone_before_bed phone_usage_time  ...  \\\n",
       "0         54                    2                 1               10  ...   \n",
       "1         11                    3                 1                5  ...   \n",
       "2        269                    3                 1                4  ...   \n",
       "3         25                    1                 1                5  ...   \n",
       "4        269                    1                 1              300  ...   \n",
       "5        286                    2                 1                5  ...   \n",
       "6        289                    2                 0                0  ...   \n",
       "7         25                    3                 1                3  ...   \n",
       "8        201                    3                 1               20  ...   \n",
       "9        240                    1                 1               60  ...   \n",
       "\n",
       "   caffein_etc  exercise  exercise_time exercise_strength  tiredness  \\\n",
       "0            0         0              0                 0          8   \n",
       "1            0         0              0                 0          2   \n",
       "2            0         0              0                 0          6   \n",
       "3            0         0              0                 0          3   \n",
       "4            0         0              0                 0          8   \n",
       "5            0         0              0                 0          3   \n",
       "6            0         0              0                 0         10   \n",
       "7            0         0              0                 0          0   \n",
       "8            0         0              0                 0          6   \n",
       "9            0         1            240               7.5          8   \n",
       "\n",
       "   min_taken_since_first_alarm num_of_alarm nap_next_day  drowsiness  \\\n",
       "0                          120            4            0           1   \n",
       "1                            0            0            0           0   \n",
       "2                           42            5            1           0   \n",
       "3                          270            4            0           0   \n",
       "4                           40            4            0           1   \n",
       "5                           25            4            1           0   \n",
       "6                           40            4            0           0   \n",
       "7                            0            0            1           0   \n",
       "8                           10            3            0           0   \n",
       "9                           10            3            1           0   \n",
       "\n",
       "  online_game  \n",
       "0         0.0  \n",
       "1       290.0  \n",
       "2       208.0  \n",
       "3       363.0  \n",
       "4         0.0  \n",
       "5         0.0  \n",
       "6        95.0  \n",
       "7         0.0  \n",
       "8       154.0  \n",
       "9        99.0  \n",
       "\n",
       "[10 rows x 24 columns]"
      ]
     },
     "execution_count": 9,
     "metadata": {},
     "output_type": "execute_result"
    }
   ],
   "source": [
    "data.head(10)"
   ]
  },
  {
   "cell_type": "code",
   "execution_count": 10,
   "metadata": {},
   "outputs": [
    {
     "data": {
      "text/plain": [
       "Index(['date', 'day', 'total_sleep_hour', 'bed_time', 'quality_written',\n",
       "       'quality_app', 'last_meal', 'last_meal_heaviness', 'phone_before_bed',\n",
       "       'phone_usage_time', 'nap', 'stress_strength', 'alcohol',\n",
       "       'caffein_coffee', 'caffein_etc', 'exercise', 'exercise_time',\n",
       "       'exercise_strength', 'tiredness', 'min_taken_since_first_alarm',\n",
       "       'num_of_alarm', 'nap_next_day', 'drowsiness', 'online_game'],\n",
       "      dtype='object')"
      ]
     },
     "execution_count": 10,
     "metadata": {},
     "output_type": "execute_result"
    }
   ],
   "source": [
    "data.columns"
   ]
  },
  {
   "cell_type": "code",
   "execution_count": 184,
   "metadata": {},
   "outputs": [],
   "source": [
    "#0.27\n",
    "data2 = data[['quality_written', 'total_sleep_hour']]"
   ]
  },
  {
   "cell_type": "code",
   "execution_count": 51,
   "metadata": {},
   "outputs": [],
   "source": [
    "#-0.19\n",
    "data2 = data[['quality_written', 'last_meal']]"
   ]
  },
  {
   "cell_type": "code",
   "execution_count": 53,
   "metadata": {},
   "outputs": [],
   "source": [
    "#0.0\n",
    "data2 = data[['quality_written', 'last_meal_heaviness']]"
   ]
  },
  {
   "cell_type": "code",
   "execution_count": 55,
   "metadata": {},
   "outputs": [],
   "source": [
    "#0.56\n",
    "data2 = data[['quality_written', 'phone_before_bed']]"
   ]
  },
  {
   "cell_type": "code",
   "execution_count": 103,
   "metadata": {},
   "outputs": [],
   "source": [
    "#-0.11\n",
    "data2 = data[['quality_written', 'phone_usage_time']].astype(str).astype(int)"
   ]
  },
  {
   "cell_type": "code",
   "execution_count": 63,
   "metadata": {},
   "outputs": [],
   "source": [
    "#0.0\n",
    "data2 = data[['quality_written', 'stress_strength']]"
   ]
  },
  {
   "cell_type": "code",
   "execution_count": 70,
   "metadata": {},
   "outputs": [],
   "source": [
    "#-0.29\n",
    "data2 = data[['quality_written', 'exercise']]"
   ]
  },
  {
   "cell_type": "code",
   "execution_count": 99,
   "metadata": {},
   "outputs": [],
   "source": [
    "#-0.29\n",
    "data2 = data[['quality_written', 'exercise_time']].astype(str).astype(int)"
   ]
  },
  {
   "cell_type": "code",
   "execution_count": 97,
   "metadata": {},
   "outputs": [],
   "source": [
    "#-0.28\n",
    "data2 = data[['quality_written', 'exercise_strength']].astype(str).astype(float)"
   ]
  },
  {
   "cell_type": "code",
   "execution_count": 75,
   "metadata": {},
   "outputs": [],
   "source": [
    "#-0.32\n",
    "data2 = data[['quality_written', 'tiredness']]"
   ]
  },
  {
   "cell_type": "code",
   "execution_count": 77,
   "metadata": {},
   "outputs": [],
   "source": [
    "#0.22\n",
    "data2 = data[['quality_written', 'drowsiness']]"
   ]
  },
  {
   "cell_type": "code",
   "execution_count": 83,
   "metadata": {},
   "outputs": [],
   "source": [
    "#0.23\n",
    "data2 = data[['quality_written', 'nap_next_day']]"
   ]
  },
  {
   "cell_type": "code",
   "execution_count": 61,
   "metadata": {},
   "outputs": [],
   "source": [
    "#-0.37\n",
    "data2 = data[['quality_written', 'nap']]"
   ]
  },
  {
   "cell_type": "code",
   "execution_count": 65,
   "metadata": {},
   "outputs": [],
   "source": [
    "#-0.59\n",
    "data2 = data[['quality_written', 'alcohol']]"
   ]
  },
  {
   "cell_type": "code",
   "execution_count": 94,
   "metadata": {},
   "outputs": [],
   "source": [
    "#0.29\n",
    "data2 = data[['quality_written', 'min_taken_since_first_alarm' ]].astype(str).astype(int)"
   ]
  },
  {
   "cell_type": "code",
   "execution_count": 92,
   "metadata": {},
   "outputs": [],
   "source": [
    "#0.05\n",
    "data2 = data[['quality_written', 'num_of_alarm' ]].astype(str).astype(int)"
   ]
  },
  {
   "cell_type": "code",
   "execution_count": 90,
   "metadata": {},
   "outputs": [],
   "source": [
    "#0.19\n",
    "data2 = data[['quality_written', 'caffein_coffee' ]].astype(str).astype(int)"
   ]
  },
  {
   "cell_type": "code",
   "execution_count": 105,
   "metadata": {},
   "outputs": [],
   "source": [
    "#0.07\n",
    "data2 = data[['quality_written', 'online_game' ]]"
   ]
  },
  {
   "cell_type": "code",
   "execution_count": 106,
   "metadata": {},
   "outputs": [
    {
     "data": {
      "image/png": "[encoded data removed]",
      "text/plain": [
       "<Figure size 432x288 with 2 Axes>"
      ]
     },
     "metadata": {
      "needs_background": "light"
     },
     "output_type": "display_data"
    }
   ],
   "source": [
    "sns.heatmap(data2.corr(), annot=True, fmt = '.2f', linewidths=0.2)\n",
    "plt.show()"
   ]
  },
  {
   "cell_type": "code",
   "execution_count": 194,
   "metadata": {},
   "outputs": [
    {
     "data": {
      "image/png": "[encoded data removed]",
      "text/plain": [
       "<Figure size 432x288 with 1 Axes>"
      ]
     },
     "metadata": {
      "needs_background": "light"
     },
     "output_type": "display_data"
    }
   ],
   "source": [
    "ax1 = data.plot.scatter(x='drowsiness', y='quality_written',c='DarkBlue')"
   ]
  },
  {
   "cell_type": "code",
   "execution_count": 108,
   "metadata": {},
   "outputs": [],
   "source": [
    "data3 = data[['quality_written', 'tiredness', 'nap' ,'total_sleep_hour' , 'phone_before_bed', 'alcohol']]"
   ]
  },
  {
   "cell_type": "code",
   "execution_count": 110,
   "metadata": {},
   "outputs": [
    {
     "data": {
      "image/png": "[encoded data removed]",
      "text/plain": [
       "<Figure size 432x288 with 2 Axes>"
      ]
     },
     "metadata": {
      "needs_background": "light"
     },
     "output_type": "display_data"
    }
   ],
   "source": [
    "sns.heatmap(data3.corr(), annot=True, cmap='RdYlGn_r', fmt = '.2f', linewidths=0.2)\n",
    "plt.show()"
   ]
  },
  {
   "cell_type": "code",
   "execution_count": 128,
   "metadata": {},
   "outputs": [],
   "source": [
    "#-0.61\n",
    "data4 = data[['tiredness', 'total_sleep_hour']]"
   ]
  },
  {
   "cell_type": "code",
   "execution_count": 126,
   "metadata": {},
   "outputs": [],
   "source": [
    "#0.41\n",
    "data4 = data[['tiredness', 'last_meal']]"
   ]
  },
  {
   "cell_type": "code",
   "execution_count": 124,
   "metadata": {},
   "outputs": [],
   "source": [
    "#-0.37\n",
    "data4 = data[['tiredness', 'last_meal_heaviness']]"
   ]
  },
  {
   "cell_type": "code",
   "execution_count": 122,
   "metadata": {},
   "outputs": [],
   "source": [
    "#0.27\n",
    "data4 = data[['tiredness', 'phone_usage_time']].astype(str).astype(int)"
   ]
  },
  {
   "cell_type": "code",
   "execution_count": 120,
   "metadata": {},
   "outputs": [],
   "source": [
    "#0.28\n",
    "data4 = data[['tiredness', 'stress_strength']]"
   ]
  },
  {
   "cell_type": "code",
   "execution_count": 131,
   "metadata": {},
   "outputs": [],
   "source": [
    "#0.49\n",
    "data4 = data[['tiredness', 'drowsiness']]"
   ]
  },
  {
   "cell_type": "code",
   "execution_count": 136,
   "metadata": {},
   "outputs": [],
   "source": [
    "#-0.25\n",
    "data4 = data[['tiredness', 'nap_next_day']]"
   ]
  },
  {
   "cell_type": "code",
   "execution_count": 138,
   "metadata": {},
   "outputs": [],
   "source": [
    "#0.25\n",
    "data4 = data[['tiredness', 'exercise']]"
   ]
  },
  {
   "cell_type": "code",
   "execution_count": 143,
   "metadata": {},
   "outputs": [],
   "source": [
    "#0.25\n",
    "data4 = data[['tiredness', 'exercise_time']].astype(str).astype(int)"
   ]
  },
  {
   "cell_type": "code",
   "execution_count": 146,
   "metadata": {},
   "outputs": [],
   "source": [
    "#0.58\n",
    "data4 = data[['tiredness', 'nap']]"
   ]
  },
  {
   "cell_type": "code",
   "execution_count": 148,
   "metadata": {},
   "outputs": [],
   "source": [
    "#-0.59\n",
    "data4= data[['quality_written', 'alcohol']]"
   ]
  },
  {
   "cell_type": "code",
   "execution_count": 150,
   "metadata": {},
   "outputs": [],
   "source": [
    "#0.04\n",
    "data4 = data[['tiredness', 'min_taken_since_first_alarm' ]].astype(str).astype(int)"
   ]
  },
  {
   "cell_type": "code",
   "execution_count": 152,
   "metadata": {},
   "outputs": [],
   "source": [
    "#0.49\n",
    "data4 = data[['tiredness', 'num_of_alarm' ]].astype(str).astype(int)"
   ]
  },
  {
   "cell_type": "code",
   "execution_count": 154,
   "metadata": {},
   "outputs": [],
   "source": [
    "#-0.27\n",
    "data4 = data[['tiredness', 'online_game' ]]"
   ]
  },
  {
   "cell_type": "code",
   "execution_count": null,
   "metadata": {},
   "outputs": [],
   "source": [
    "sns.heatmap(data4.corr(), annot=True, cmap='RdYlGn_r', fmt = '.2f', linewidths=0.2)\n",
    "plt.show()"
   ]
  },
  {
   "cell_type": "code",
   "execution_count": 156,
   "metadata": {},
   "outputs": [],
   "source": [
    "data5 = data[['tiredness','total_sleep_hour','drowsiness', 'nap', 'alcohol', 'last_meal', 'last_meal_heaviness']]"
   ]
  },
  {
   "cell_type": "code",
   "execution_count": 157,
   "metadata": {},
   "outputs": [
    {
     "data": {
      "image/png": "[encoded data removed]",
      "text/plain": [
       "<Figure size 432x288 with 2 Axes>"
      ]
     },
     "metadata": {
      "needs_background": "light"
     },
     "output_type": "display_data"
    }
   ],
   "source": [
    "sns.heatmap(data5.corr(), annot=True, cmap='RdYlGn_r', fmt = '.2f', linewidths=0.2)\n",
    "plt.show()"
   ]
  },
  {
   "cell_type": "code",
   "execution_count": 159,
   "metadata": {},
   "outputs": [],
   "source": [
    "from sklearn.tree import DecisionTreeClassifier, export_graphviz"
   ]
  },
  {
   "cell_type": "code",
   "execution_count": 173,
   "metadata": {
    "scrolled": true
   },
   "outputs": [
    {
     "data": {
      "image/png": "[encoded data removed]",
      "text/plain": [
       "<Figure size 432x288 with 2 Axes>"
      ]
     },
     "metadata": {
      "needs_background": "light"
     },
     "output_type": "display_data"
    }
   ],
   "source": [
    "sns.heatmap(data.corr(), annot=True,annot_kws={\"size\": 5} ,cmap='RdYlGn_r', fmt = '.2f', linewidths=0.2)\n",
    "plt.show()"
   ]
  },
  {
   "cell_type": "code",
   "execution_count": 174,
   "metadata": {},
   "outputs": [
    {
     "data": {
      "text/plain": [
       "0     0\n",
       "1     0\n",
       "2     0\n",
       "3     0\n",
       "4     0\n",
       "5     0\n",
       "6     0\n",
       "7     0\n",
       "8     0\n",
       "9     0\n",
       "10    0\n",
       "11    0\n",
       "12    0\n",
       "13    0\n",
       "14    0\n",
       "15    0\n",
       "16    0\n",
       "17    0\n",
       "Name: caffein_etc, dtype: int64"
      ]
     },
     "execution_count": 174,
     "metadata": {},
     "output_type": "execute_result"
    }
   ],
   "source": [
    "data['caffein_etc']"
   ]
  },
  {
   "cell_type": "code",
   "execution_count": 11,
   "metadata": {},
   "outputs": [],
   "source": [
    "import sklearn.datasets as datasets\n",
    "y=data['quality_written']"
   ]
  },
  {
   "cell_type": "code",
   "execution_count": 1,
   "metadata": {},
   "outputs": [],
   "source": [
    "from sklearn.tree import DecisionTreeClassifier\n",
    "dtree=DecisionTreeClassifier()"
   ]
  },
  {
   "cell_type": "code",
   "execution_count": 2,
   "metadata": {},
   "outputs": [
    {
     "ename": "NameError",
     "evalue": "name 'data' is not defined",
     "output_type": "error",
     "traceback": [
      "\u001b[1;31m---------------------------------------------------------------------------\u001b[0m",
      "\u001b[1;31mNameError\u001b[0m                                 Traceback (most recent call last)",
      "\u001b[1;32m<ipython-input-2-068ca8edfffc>\u001b[0m in \u001b[0;36m<module>\u001b[1;34m\u001b[0m\n\u001b[1;32m----> 1\u001b[1;33m \u001b[0mdata6\u001b[0m \u001b[1;33m=\u001b[0m \u001b[0mdata\u001b[0m\u001b[1;33m.\u001b[0m\u001b[0mdrop\u001b[0m\u001b[1;33m(\u001b[0m\u001b[0mcolumns\u001b[0m\u001b[1;33m=\u001b[0m\u001b[1;33m[\u001b[0m\u001b[1;34m'date'\u001b[0m\u001b[1;33m,\u001b[0m \u001b[1;34m'day'\u001b[0m\u001b[1;33m,\u001b[0m\u001b[1;34m'bed_time'\u001b[0m\u001b[1;33m]\u001b[0m\u001b[1;33m)\u001b[0m\u001b[1;33m\u001b[0m\u001b[1;33m\u001b[0m\u001b[0m\n\u001b[0m",
      "\u001b[1;31mNameError\u001b[0m: name 'data' is not defined"
     ]
    }
   ],
   "source": [
    "data6 = data.drop(columns=['date', 'day','bed_time'])"
   ]
  },
  {
   "cell_type": "code",
   "execution_count": null,
   "metadata": {},
   "outputs": [],
   "source": [
    "data6"
   ]
  },
  {
   "cell_type": "code",
   "execution_count": 3,
   "metadata": {},
   "outputs": [
    {
     "ename": "NameError",
     "evalue": "name 'data6' is not defined",
     "output_type": "error",
     "traceback": [
      "\u001b[1;31m---------------------------------------------------------------------------\u001b[0m",
      "\u001b[1;31mNameError\u001b[0m                                 Traceback (most recent call last)",
      "\u001b[1;32m<ipython-input-3-1b050e771c76>\u001b[0m in \u001b[0;36m<module>\u001b[1;34m\u001b[0m\n\u001b[1;32m----> 1\u001b[1;33m \u001b[0mdata6\u001b[0m \u001b[1;33m=\u001b[0m \u001b[0mdata6\u001b[0m\u001b[1;33m.\u001b[0m\u001b[0mfillna\u001b[0m\u001b[1;33m(\u001b[0m\u001b[1;36m0\u001b[0m\u001b[1;33m)\u001b[0m\u001b[1;33m\u001b[0m\u001b[1;33m\u001b[0m\u001b[0m\n\u001b[0m",
      "\u001b[1;31mNameError\u001b[0m: name 'data6' is not defined"
     ]
    }
   ],
   "source": [
    "data6 = data6.fillna(0)"
   ]
  },
  {
   "cell_type": "code",
   "execution_count": 16,
   "metadata": {},
   "outputs": [
    {
     "data": {
      "text/plain": [
       "DecisionTreeClassifier(class_weight=None, criterion='gini', max_depth=None,\n",
       "                       max_features=None, max_leaf_nodes=None,\n",
       "                       min_impurity_decrease=0.0, min_impurity_split=None,\n",
       "                       min_samples_leaf=1, min_samples_split=2,\n",
       "                       min_weight_fraction_leaf=0.0, presort=False,\n",
       "                       random_state=None, splitter='best')"
      ]
     },
     "execution_count": 16,
     "metadata": {},
     "output_type": "execute_result"
    }
   ],
   "source": [
    "dtree.fit(data6,y)"
   ]
  },
  {
   "cell_type": "code",
   "execution_count": 17,
   "metadata": {},
   "outputs": [
    {
     "name": "stderr",
     "output_type": "stream",
     "text": [
      "c:\\python37\\lib\\site-packages\\sklearn\\externals\\six.py:31: DeprecationWarning: The module is deprecated in version 0.21 and will be removed in version 0.23 since we've dropped support for Python 2.7. Please rely on the official version of six (https://pypi.org/project/six/).\n",
      "  \"(https://pypi.org/project/six/).\", DeprecationWarning)\n"
     ]
    }
   ],
   "source": [
    "from sklearn.externals.six import StringIO  \n",
    "from IPython.display import Image  \n",
    "from sklearn.tree import export_graphviz\n",
    "import pydotplus"
   ]
  },
  {
   "cell_type": "code",
   "execution_count": 18,
   "metadata": {},
   "outputs": [],
   "source": [
    "dot_data = StringIO()\n",
    "export_graphviz(dtree, out_file=dot_data,  \n",
    "                filled=True, rounded=True,\n",
    "                feature_names=[''],\n",
    "                special_characters=True)\n",
    "graph = pydotplus.graph_from_dot_data(dot_data.getvalue())  \n"
   ]
  },
  {
   "cell_type": "code",
   "execution_count": 19,
   "metadata": {},
   "outputs": [
    {
     "data": {
      "image/png": "[encoded data removed]",
      "text/plain": [
       "<IPython.core.display.Image object>"
      ]
     },
     "execution_count": 19,
     "metadata": {},
     "output_type": "execute_result"
    }
   ],
   "source": [
    "Image(graph.create_png())"
   ]
  },
  {
   "cell_type": "code",
   "execution_count": null,
   "metadata": {},
   "outputs": [],
   "source": []
  }
 ],
 "metadata": {
  "kernelspec": {
   "display_name": "Python 3",
   "language": "python",
   "name": "python3"
  },
  "language_info": {
   "codemirror_mode": {
    "name": "ipython",
    "version": 3
   },
   "file_extension": ".py",
   "mimetype": "text/x-python",
   "name": "python",
   "nbconvert_exporter": "python",
   "pygments_lexer": "ipython3",
   "version": "3.7.4"
  }
 },
 "nbformat": 4,
 "nbformat_minor": 2
}
