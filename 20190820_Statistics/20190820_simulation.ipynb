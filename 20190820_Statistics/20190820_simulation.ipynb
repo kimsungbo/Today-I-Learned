{
 "cells": [
  {
   "cell_type": "markdown",
   "metadata": {},
   "source": [
    "## 통계학의 필요성\n",
    "\n",
    "불확실한 상황에서 의사결정 -> 불확실성을 줄이기 위해 필요"
   ]
  },
  {
   "cell_type": "markdown",
   "metadata": {},
   "source": [
    "## 대표값"
   ]
  },
  {
   "cell_type": "code",
   "execution_count": 1,
   "metadata": {},
   "outputs": [],
   "source": [
    "import numpy"
   ]
  },
  {
   "cell_type": "code",
   "execution_count": 2,
   "metadata": {},
   "outputs": [],
   "source": [
    "x = [100, 100, 200, 300, 300, 400, 500, 500, 600, 700, 800, 900]"
   ]
  },
  {
   "cell_type": "code",
   "execution_count": 3,
   "metadata": {},
   "outputs": [
    {
     "data": {
      "text/plain": [
       "450.0"
      ]
     },
     "execution_count": 3,
     "metadata": {},
     "output_type": "execute_result"
    }
   ],
   "source": [
    "numpy.mean(x)  # 평균"
   ]
  },
  {
   "cell_type": "code",
   "execution_count": 4,
   "metadata": {},
   "outputs": [
    {
     "data": {
      "text/plain": [
       "450.0"
      ]
     },
     "execution_count": 4,
     "metadata": {},
     "output_type": "execute_result"
    }
   ],
   "source": [
    "numpy.median(x)  # 중간값"
   ]
  },
  {
   "cell_type": "code",
   "execution_count": 5,
   "metadata": {},
   "outputs": [
    {
     "name": "stdout",
     "output_type": "stream",
     "text": [
      "Requirement already satisfied: scipy in c:\\python37\\lib\\site-packages (1.3.1)\n",
      "Requirement already satisfied: numpy>=1.13.3 in c:\\python37\\lib\\site-packages (from scipy) (1.17.0)\n"
     ]
    },
    {
     "name": "stderr",
     "output_type": "stream",
     "text": [
      "WARNING: You are using pip version 19.2.3, however version 19.3.1 is available.\n",
      "You should consider upgrading via the 'python -m pip install --upgrade pip' command.\n"
     ]
    }
   ],
   "source": [
    "!pip install scipy"
   ]
  },
  {
   "cell_type": "code",
   "execution_count": 6,
   "metadata": {},
   "outputs": [],
   "source": [
    "from scipy.stats import mode"
   ]
  },
  {
   "cell_type": "code",
   "execution_count": 7,
   "metadata": {},
   "outputs": [
    {
     "data": {
      "text/plain": [
       "ModeResult(mode=array([100]), count=array([2]))"
      ]
     },
     "execution_count": 7,
     "metadata": {},
     "output_type": "execute_result"
    }
   ],
   "source": [
    "mode(x)  # 최빈값"
   ]
  },
  {
   "cell_type": "markdown",
   "metadata": {},
   "source": [
    "## 산포도"
   ]
  },
  {
   "cell_type": "code",
   "execution_count": 8,
   "metadata": {},
   "outputs": [
    {
     "data": {
      "text/plain": [
       "100"
      ]
     },
     "execution_count": 8,
     "metadata": {},
     "output_type": "execute_result"
    }
   ],
   "source": [
    "numpy.min(x)  # 최소"
   ]
  },
  {
   "cell_type": "code",
   "execution_count": 9,
   "metadata": {},
   "outputs": [
    {
     "data": {
      "text/plain": [
       "900"
      ]
     },
     "execution_count": 9,
     "metadata": {},
     "output_type": "execute_result"
    }
   ],
   "source": [
    "numpy.max(x)  # 최대"
   ]
  },
  {
   "cell_type": "markdown",
   "metadata": {},
   "source": [
    "### 분산\n",
    "\n",
    "* 변수의 흩어진 정도를 계산하는 지표\n",
    "* 분산 = 편차^2 의 평균 (편차를 제곱하면 음수였던 일부 편차값들이 양수가 되어 모두 더해도 0 이 안됨 -> 이 원리를 이용하여 변수의 흩어진 정도를 계산)\n",
    "* 혹은 분산 = (x^2의 평균) - (평균)^2\n",
    "* 위의 예제 같은 경우 분산 = mean( (480-100)^2 + (480-100)^2 + (480-100)^2 + (480-120)^2 + ... + (480-800)^2 + (480-900)^2 )"
   ]
  },
  {
   "cell_type": "code",
   "execution_count": 10,
   "metadata": {},
   "outputs": [
    {
     "data": {
      "text/plain": [
       "64166.666666666664"
      ]
     },
     "execution_count": 10,
     "metadata": {},
     "output_type": "execute_result"
    }
   ],
   "source": [
    "numpy.var(x)  # 분산"
   ]
  },
  {
   "cell_type": "markdown",
   "metadata": {},
   "source": [
    "### 편차\n",
    "\n",
    "* 모든 편차의 합 = 0\n",
    "* 편차 = 변량 - 평균"
   ]
  },
  {
   "cell_type": "code",
   "execution_count": 11,
   "metadata": {},
   "outputs": [
    {
     "data": {
      "text/plain": [
       "253.31140255951107"
      ]
     },
     "execution_count": 11,
     "metadata": {},
     "output_type": "execute_result"
    }
   ],
   "source": [
    "numpy.std(x)  # 표준편차 = sqrt(분산)"
   ]
  },
  {
   "cell_type": "markdown",
   "metadata": {},
   "source": [
    "### 사분위수\n",
    "\n",
    "* 데이터 구성을 전체적으로 살펴보고자 할 때 사용\n",
    "* 자료를 크기순으로 배열 -> 4등분 -> 각 단면에 위치하는 값을 본다\n",
    "* 단면에 위치하는 값이 없을경우 (전체 집단이 짝수인 경우) 양옆의 수의 평균을 사용\n",
    "* 예) 1,2,2, 3,4,5, 6,7,8, 8,9,9 일 경우 1사반수위 = (2+3)/2\n",
    "\n",
    "\n",
    "* 일분위수와 사분위수 사이에 50% 이상의 데이터가 들어감\n",
    "* 매출의 경우 일분위수와 사분위수를 알면 50%이상의 소비자가 어느 만큼 돈을 사용하는지 알 수 있음"
   ]
  },
  {
   "cell_type": "code",
   "execution_count": 12,
   "metadata": {},
   "outputs": [
    {
     "data": {
      "text/plain": [
       "275.0"
      ]
     },
     "execution_count": 12,
     "metadata": {},
     "output_type": "execute_result"
    }
   ],
   "source": [
    "numpy.quantile(x, 0.25)"
   ]
  },
  {
   "cell_type": "code",
   "execution_count": 13,
   "metadata": {},
   "outputs": [
    {
     "data": {
      "text/plain": [
       "450.0"
      ]
     },
     "execution_count": 13,
     "metadata": {},
     "output_type": "execute_result"
    }
   ],
   "source": [
    "numpy.quantile(x, .5)"
   ]
  },
  {
   "cell_type": "code",
   "execution_count": 14,
   "metadata": {},
   "outputs": [
    {
     "data": {
      "text/plain": [
       "450.0"
      ]
     },
     "execution_count": 14,
     "metadata": {},
     "output_type": "execute_result"
    }
   ],
   "source": [
    "numpy.median(x)"
   ]
  },
  {
   "cell_type": "code",
   "execution_count": 15,
   "metadata": {},
   "outputs": [
    {
     "data": {
      "text/plain": [
       "625.0"
      ]
     },
     "execution_count": 15,
     "metadata": {},
     "output_type": "execute_result"
    }
   ],
   "source": [
    "numpy.quantile(x, .75)  # 3사분위수(75% 지점)"
   ]
  },
  {
   "cell_type": "code",
   "execution_count": 16,
   "metadata": {},
   "outputs": [],
   "source": [
    "x = [0, 0, 0, 0, 0, 0, 0, 0, 0, 100]"
   ]
  },
  {
   "cell_type": "markdown",
   "metadata": {},
   "source": [
    "## 이항분포 (Binomial Distribution)\n",
    "\n",
    "두가지 경우 존재\n",
    "* 한 경우의 확률 = p\n",
    "* 다른 경우의 확률 = 1-p\n",
    "\n",
    "n번했을때 몇 번 나오는가?"
   ]
  },
  {
   "cell_type": "code",
   "execution_count": 17,
   "metadata": {},
   "outputs": [],
   "source": [
    "from numpy.random import binomial"
   ]
  },
  {
   "cell_type": "code",
   "execution_count": 18,
   "metadata": {},
   "outputs": [],
   "source": [
    "# ex) 고객의 구매율이 30%일 때 100명의 고객이 방문. 몇 명이 구매? 30번 테스트한 결과\n",
    "# binomial(100명의 고객이 방문, 구매율 30%, 30번테스트)\n",
    "x = binomial(100, .3, 30)"
   ]
  },
  {
   "cell_type": "code",
   "execution_count": 19,
   "metadata": {},
   "outputs": [
    {
     "data": {
      "text/plain": [
       "17"
      ]
     },
     "execution_count": 19,
     "metadata": {},
     "output_type": "execute_result"
    }
   ],
   "source": [
    "min(x)"
   ]
  },
  {
   "cell_type": "code",
   "execution_count": 20,
   "metadata": {},
   "outputs": [
    {
     "data": {
      "text/plain": [
       "41"
      ]
     },
     "execution_count": 20,
     "metadata": {},
     "output_type": "execute_result"
    }
   ],
   "source": [
    "max(x)"
   ]
  },
  {
   "cell_type": "code",
   "execution_count": 21,
   "metadata": {},
   "outputs": [
    {
     "data": {
      "text/plain": [
       "array([32, 36, 25, 31, 36, 34, 34, 30, 34, 38, 34, 30, 30, 35, 29, 23, 19,\n",
       "       30, 37, 17, 28, 34, 23, 28, 28, 39, 41, 31, 28, 29])"
      ]
     },
     "execution_count": 21,
     "metadata": {},
     "output_type": "execute_result"
    }
   ],
   "source": [
    "x"
   ]
  },
  {
   "cell_type": "code",
   "execution_count": 22,
   "metadata": {},
   "outputs": [
    {
     "data": {
      "text/plain": [
       "556000"
      ]
     },
     "execution_count": 22,
     "metadata": {},
     "output_type": "execute_result"
    }
   ],
   "source": [
    "수익 = 0\n",
    "준비 = 20\n",
    "for 고객수 in x:\n",
    "    if 고객수 <= 준비:\n",
    "        수익 = 수익 + (준비 - 고객수) * -10000\n",
    "        수익 = 수익 + 고객수 * 1000\n",
    "    else:\n",
    "        수익 = 수익 + 준비 * 1000\n",
    "수익"
   ]
  },
  {
   "cell_type": "code",
   "execution_count": 23,
   "metadata": {},
   "outputs": [
    {
     "data": {
      "text/plain": [
       "20090.0"
      ]
     },
     "execution_count": 23,
     "metadata": {},
     "output_type": "execute_result"
    }
   ],
   "source": [
    "보험료 = 300\n",
    "지급액 = 1000\n",
    "고객 = 지급액 / 10\n",
    "장사 = 100\n",
    "사망자 = binomial(고객, .1, 장사)\n",
    "매출 = 보험료 * 고객\n",
    "지급 = 지급액 * 사망자\n",
    "numpy.mean(매출 - 지급)"
   ]
  },
  {
   "cell_type": "code",
   "execution_count": 24,
   "metadata": {},
   "outputs": [
    {
     "data": {
      "text/plain": [
       "30"
      ]
     },
     "execution_count": 24,
     "metadata": {},
     "output_type": "execute_result"
    }
   ],
   "source": [
    "binomial(100, .3)"
   ]
  },
  {
   "cell_type": "markdown",
   "metadata": {},
   "source": [
    "## 기하분포 (Geometric Distribution)\n",
    "\n",
    "* 성공률이 p 일때, 성공할때까지 시도를 해서 총 시도 횟수"
   ]
  },
  {
   "cell_type": "code",
   "execution_count": 25,
   "metadata": {},
   "outputs": [
    {
     "data": {
      "text/plain": [
       "73"
      ]
     },
     "execution_count": 25,
     "metadata": {},
     "output_type": "execute_result"
    }
   ],
   "source": [
    "이탈성공 = 0\n",
    "기간 = 0\n",
    "while 이탈성공 == 0:\n",
    "    이탈성공 = binomial(1, .05)\n",
    "    기간 = 기간 + 1\n",
    "기간"
   ]
  },
  {
   "cell_type": "code",
   "execution_count": 26,
   "metadata": {},
   "outputs": [],
   "source": [
    "from numpy.random import geometric"
   ]
  },
  {
   "cell_type": "code",
   "execution_count": 29,
   "metadata": {},
   "outputs": [],
   "source": [
    "# geometric(확률 p, 원하는 성공 횟수)\n",
    "기간 = geometric(.05, 100) # 이탈률 5%일 때 100명의 고객이 며칠 후 이탈하는지"
   ]
  },
  {
   "cell_type": "markdown",
   "metadata": {},
   "source": [
    "## 음이항 분포 (Negative Bionomial)\n",
    "\n",
    "* 기하분포의 일반화\n",
    "* 성공률이 p일 때 n번 성공할 때까지 시도했을 때 총 시도 횟수"
   ]
  },
  {
   "cell_type": "code",
   "execution_count": 31,
   "metadata": {},
   "outputs": [],
   "source": [
    "from numpy.random import negative_binomial"
   ]
  },
  {
   "cell_type": "code",
   "execution_count": 33,
   "metadata": {},
   "outputs": [
    {
     "data": {
      "text/plain": [
       "array([19, 17, 27, 29, 10, 58,  6, 23,  3, 20,  1,  5,  3,  6, 13, 39,  0,\n",
       "        1,  7,  2, 34,  1,  7, 19,  4,  5,  2, 21, 42, 14,  6, 26, 11, 34,\n",
       "       32, 29, 11, 43, 25, 12,  7,  2, 31, 34, 23,  2, 10, 52,  9,  9,  3,\n",
       "       58,  0, 13,  7,  9,  1, 14,  2, 31, 31,  5,  9, 66,  8,  4, 21,  2,\n",
       "        1,  6,  3, 11,  7, 37, 71,  8,  3, 20,  6,  8, 74,  3,  8,  0,  5,\n",
       "       49, 13, 10, 52, 46,  7,  5,  9, 39,  7, 44,  0, 58, 13, 11])"
      ]
     },
     "execution_count": 33,
     "metadata": {},
     "output_type": "execute_result"
    }
   ],
   "source": [
    "#negative_binomial(n번성공, 성공확률 p, 100번 테스트)\n",
    "negative_binomial(1, .05, 100)"
   ]
  },
  {
   "cell_type": "code",
   "execution_count": 34,
   "metadata": {},
   "outputs": [
    {
     "data": {
      "text/plain": [
       "-71.5"
      ]
     },
     "execution_count": 34,
     "metadata": {},
     "output_type": "execute_result"
    }
   ],
   "source": [
    "numpy.sum(기간 * 0.5 - 10)"
   ]
  },
  {
   "cell_type": "code",
   "execution_count": 35,
   "metadata": {},
   "outputs": [
    {
     "data": {
      "text/plain": [
       "-8143"
      ]
     },
     "execution_count": 35,
     "metadata": {},
     "output_type": "execute_result"
    }
   ],
   "source": [
    "numpy.sum(기간 * 1 - 100)"
   ]
  },
  {
   "cell_type": "code",
   "execution_count": 36,
   "metadata": {},
   "outputs": [
    {
     "data": {
      "text/plain": [
       "-71.5"
      ]
     },
     "execution_count": 36,
     "metadata": {},
     "output_type": "execute_result"
    }
   ],
   "source": [
    "numpy.sum(기간 * 0.5 - 10 )"
   ]
  },
  {
   "cell_type": "code",
   "execution_count": 37,
   "metadata": {},
   "outputs": [],
   "source": [
    "폭발 = []\n",
    "for i in range(100):\n",
    "    짜증 = 0\n",
    "    기간 = 0\n",
    "    while 짜증 < 3:             # 3번째는 못 참는다\n",
    "        사건 = binomial(1, .05) # 5%의 확률로 사건 발생\n",
    "        if 사건 == 1:           # 사건이 나면\n",
    "            짜증 = 짜증 + 1     # 짜증이 증가\n",
    "        기간 = 기간 + 1   \n",
    "    폭발.append(기간)"
   ]
  },
  {
   "cell_type": "code",
   "execution_count": 39,
   "metadata": {},
   "outputs": [
    {
     "data": {
      "text/plain": [
       "14"
      ]
     },
     "execution_count": 39,
     "metadata": {},
     "output_type": "execute_result"
    }
   ],
   "source": [
    "negative_binomial(3, .05)  # 5% 확률로 짜증이 나고 3번 나면 폭발\n",
    "                           # 할 때까지 기간"
   ]
  },
  {
   "cell_type": "code",
   "execution_count": 40,
   "metadata": {},
   "outputs": [
    {
     "data": {
      "text/plain": [
       "array([ 65,  58, 121,  24,  73,  28,  49,  43, 124,  14,  95,  48,  52,\n",
       "        82,  24,  57,  20,  37,  57,  13,   9,  33,  56,  53,  75,  25,\n",
       "        15, 121,  69,  57,  42,  80,  87,  73,  37,   9,  23,  60,  71,\n",
       "        27,  13, 102,  20,  11, 103,  59,  84, 189,  35,  35,  40,  49,\n",
       "        39,  32,  41,  51,  75,  36,  96, 112,  51,  33,  55, 127,  56,\n",
       "        10,  83, 127,  69,  40,  19,  74,  26,  23,  64,  38, 149,  50,\n",
       "        31,  18,  68,  45,  77,  98,  36,  46,  11,  77,  36,  81,  54,\n",
       "        71,  43,  95,  68, 102,  38,  48,  61,  14])"
      ]
     },
     "execution_count": 40,
     "metadata": {},
     "output_type": "execute_result"
    }
   ],
   "source": [
    "negative_binomial(3, .05, 100)  # 100마리 리트리버"
   ]
  },
  {
   "cell_type": "markdown",
   "metadata": {},
   "source": [
    "## 실습\n",
    "\n",
    "우리 리트리버는 10%의 확률로 짜증이 납니다. 이틀 연속으로 짜증이 나면 화를 냅니다. 리트리버가 화를 낼 때까지 기간을 시뮬레이션 해보세요."
   ]
  },
  {
   "cell_type": "code",
   "execution_count": 70,
   "metadata": {},
   "outputs": [
    {
     "data": {
      "text/plain": [
       "69"
      ]
     },
     "execution_count": 70,
     "metadata": {},
     "output_type": "execute_result"
    }
   ],
   "source": [
    "\n",
    "짜증 = 0\n",
    "기간 = 0\n",
    "\n",
    "while 짜증 < 3:               # 삼일은 못 참는다\n",
    "    사건 = binomial(1, 0.05)  # 5%의 확률로 사건 발생\n",
    "    if 사건 == 1:             # 사건이 발생하면\n",
    "        짜증 += 1             # 짜증 증가\n",
    "    기간 += 1\n",
    "기간"
   ]
  },
  {
   "cell_type": "markdown",
   "metadata": {},
   "source": [
    "## 포아송 분포\n",
    "\n",
    "* 어떤 시간 구간에서 특정 사건이 발생할 빈도에 관한것\n",
    "* 평균적으로 L번 일어나는 일어나는 일이 X번 일어날 확률의 분포\n",
    "* 이항 분포에서 n이 크고 p가 작으면 포아송 분포와 비슷해짐"
   ]
  },
  {
   "cell_type": "code",
   "execution_count": 43,
   "metadata": {},
   "outputs": [],
   "source": [
    "from numpy.random import poisson"
   ]
  },
  {
   "cell_type": "code",
   "execution_count": 44,
   "metadata": {},
   "outputs": [
    {
     "data": {
      "text/plain": [
       "array([38, 32, 28, 27, 31, 34, 31, 32, 30, 30, 28, 27, 34, 34, 26, 32, 22,\n",
       "       30, 28, 26, 33, 32, 38, 36, 34, 34, 23, 25, 25, 28, 27, 34, 38, 32,\n",
       "       37, 27, 30, 37, 25, 33, 30, 33, 25, 32, 33, 35, 26, 31, 30, 37])"
      ]
     },
     "execution_count": 44,
     "metadata": {},
     "output_type": "execute_result"
    }
   ],
   "source": [
    "#binomial(100명의 고객, 30% 확률, 50번 테스트)\n",
    "#여기서 100명 (n) 이 커지면 Poisson Distribution과 비슷해진다\n",
    "binomial(100, .3, 50) # 100명의 고객이 30%로 방문할 때"
   ]
  },
  {
   "cell_type": "code",
   "execution_count": 45,
   "metadata": {},
   "outputs": [
    {
     "data": {
      "text/plain": [
       "array([28, 28, 33, 30, 34, 29, 31, 29, 26, 34, 39, 28, 34, 36, 29, 41, 35,\n",
       "       33, 24, 36, 17, 34, 26, 33, 27, 33, 31, 27, 25, 32, 22, 33, 35, 25,\n",
       "       27, 31, 42, 34, 31, 32, 29, 31, 33, 29, 25, 31, 28, 28, 26, 42])"
      ]
     },
     "execution_count": 45,
     "metadata": {},
     "output_type": "execute_result"
    }
   ],
   "source": [
    "#poisson(평균적으로 30번 발생하는일이, 50번 일어날 확률의 분포)\n",
    "poisson(30, 50)  # 하루 평균 30명 방문할 때 50일간 방문인원 수 (시간은 고정되어 있음)"
   ]
  },
  {
   "cell_type": "markdown",
   "metadata": {},
   "source": [
    "## 균등 분포\n",
    "\n",
    "* 최소값에서 최대값까지 모든 사건의 확률이 균등"
   ]
  },
  {
   "cell_type": "code",
   "execution_count": 47,
   "metadata": {},
   "outputs": [],
   "source": [
    "from numpy.random import uniform"
   ]
  },
  {
   "cell_type": "code",
   "execution_count": 48,
   "metadata": {},
   "outputs": [
    {
     "data": {
      "text/plain": [
       "12.503595319848923"
      ]
     },
     "execution_count": 48,
     "metadata": {},
     "output_type": "execute_result"
    }
   ],
   "source": [
    "uniform(10, 20)  # 최소값 10에서 최대값 20까지 사이에서 균등한 확률로 숫자를 하나 뽑느다"
   ]
  },
  {
   "cell_type": "code",
   "execution_count": 49,
   "metadata": {},
   "outputs": [
    {
     "data": {
      "text/plain": [
       "5.696272241698017"
      ]
     },
     "execution_count": 49,
     "metadata": {},
     "output_type": "execute_result"
    }
   ],
   "source": [
    "uniform(1, 10)  # 최소값 10에서 최대값 20까지 사이에서 균등하게 "
   ]
  },
  {
   "cell_type": "code",
   "execution_count": 50,
   "metadata": {},
   "outputs": [
    {
     "data": {
      "text/plain": [
       "0.5323935015676315"
      ]
     },
     "execution_count": 50,
     "metadata": {},
     "output_type": "execute_result"
    }
   ],
   "source": [
    "uniform(0, 1)"
   ]
  },
  {
   "cell_type": "code",
   "execution_count": null,
   "metadata": {},
   "outputs": [],
   "source": [
    "# 1 에서 10까지의 숫자 중에 정수를 하나 뽑는다\n",
    "int(uniform(1, 10))"
   ]
  },
  {
   "cell_type": "code",
   "execution_count": 51,
   "metadata": {},
   "outputs": [],
   "source": [
    "# 원점을 둘러싼 한 변이 2인 정사각형 (+-1, +-1)\n",
    "# 원점을 둘러싼 대각선이 2인 마름모 (+-1, +-1)\n",
    "# 정사각형 안의 점을 하나 뽑았을때 마름모 안에 들어갈 확률 (1/2)\n",
    "\n",
    "x = uniform(-1, 1, 1000)\n",
    "y = uniform(-1, 1, 1000)"
   ]
  },
  {
   "cell_type": "code",
   "execution_count": 52,
   "metadata": {},
   "outputs": [
    {
     "data": {
      "text/plain": [
       "0.494"
      ]
     },
     "execution_count": 52,
     "metadata": {},
     "output_type": "execute_result"
    }
   ],
   "source": [
    "# |x| + |y| < 1\n",
    "numpy.mean(numpy.abs(x) + numpy.abs(y) < 1)"
   ]
  },
  {
   "cell_type": "code",
   "execution_count": 53,
   "metadata": {},
   "outputs": [],
   "source": [
    "# 원점을 둘러싼 한 변이 2인 정사각형(+-1, +-1)\n",
    "# 원점을 둘러싼 지름이 2(반지름이 1)인 원\n",
    "# 정사각형 안의 점을 하나 뽑았을 때 마름모 안에 들어갈 확률(3.14 / 4)\n",
    "\n",
    "x = uniform(-1, 1, 100000)\n",
    "y = uniform(-1, 1, 100000)"
   ]
  },
  {
   "cell_type": "code",
   "execution_count": 54,
   "metadata": {},
   "outputs": [
    {
     "data": {
      "text/plain": [
       "3.14832"
      ]
     },
     "execution_count": 54,
     "metadata": {},
     "output_type": "execute_result"
    }
   ],
   "source": [
    "numpy.mean(x ** 2 + y ** 2 < 1) * 4"
   ]
  },
  {
   "cell_type": "markdown",
   "metadata": {},
   "source": [
    "## 정규분포\n",
    "\n",
    "* 평균 m, 분산 s**(제곱) 을 모수로 하는 연속 확률 분포\n",
    "* 이항 분포에서 n이 커지면 정규 분포와 비슷해진다\n",
    "* 종 모양처럼 생김\n",
    "* 가장 솟아오른 부분이 평균\n",
    "* 분산이 작아지면 좁아지고, 분산이 커지면 완만해짐"
   ]
  },
  {
   "cell_type": "code",
   "execution_count": 55,
   "metadata": {},
   "outputs": [],
   "source": [
    "from numpy.random import normal"
   ]
  },
  {
   "cell_type": "code",
   "execution_count": 56,
   "metadata": {},
   "outputs": [],
   "source": [
    "기간 = geometric(.05, 100)"
   ]
  },
  {
   "cell_type": "code",
   "execution_count": 57,
   "metadata": {},
   "outputs": [],
   "source": [
    "하루매출 = normal(50, 20, 100)  # 고객 100명이 평균 50만원(표준편차 20만원)"
   ]
  },
  {
   "cell_type": "code",
   "execution_count": 58,
   "metadata": {},
   "outputs": [
    {
     "data": {
      "text/plain": [
       "array([ 324.05477538,  321.74743271,  829.60860878,  239.38317835,\n",
       "       1306.29663417, 7090.4776635 , 1719.23614466, 1591.26451164,\n",
       "        144.91781353, 1726.40985432,  617.8967318 ,  533.8068946 ,\n",
       "        750.6034092 ,  279.99540198,  535.39225233,  102.06294152,\n",
       "        656.2931418 ,  707.45492574, 2424.55316845,  491.25560263,\n",
       "        219.35034944,  333.92805633, 1378.75345327, 1588.4760376 ,\n",
       "        222.42085563,  163.02063915,  413.42016486,  128.58765553,\n",
       "        114.45338464, 3052.84603223, 1698.96607563,  108.69583417,\n",
       "        812.51225455, 2469.68420486,  102.65497416, 1196.35675382,\n",
       "        396.64974297,  911.09276589, 2695.27368356, 4197.20449548,\n",
       "       2161.4342597 , 3509.30950248, 1604.34532949,   43.38919563,\n",
       "        299.59726952,  717.71402464,  687.6205877 ,  290.78178004,\n",
       "       2651.05258311,  218.62766194,  367.76869732, 3310.7313314 ,\n",
       "        576.22746329,   49.00814651, 1255.73754855,  582.2260952 ,\n",
       "       1473.42219597, 1254.55818329, 1138.70579663, 1617.40822068,\n",
       "        615.17546013,  872.11131663,  310.30548232,  172.48836829,\n",
       "       1525.80755021,  919.86019819, 1284.62855876,  264.57612599,\n",
       "         81.58305949,  197.37596981,  598.59380838,  204.30794004,\n",
       "       1432.02908969,  934.84138424,  221.50159361,   46.10976549,\n",
       "       1452.32247817,  420.79507852, 2109.81622526,  117.93160924,\n",
       "        941.25888939,  918.41549069,  244.86154151, 1374.68943425,\n",
       "       1523.81572014,   79.45993094,  825.33406561,  614.03231948,\n",
       "        123.88052254,  430.00224851,  358.89642468, 2120.79506542,\n",
       "        132.47503621,  220.88087189,   39.2042106 , 1727.55433849,\n",
       "        108.45623527,  384.14504648,  908.02401996,   54.37022275])"
      ]
     },
     "execution_count": 58,
     "metadata": {},
     "output_type": "execute_result"
    }
   ],
   "source": [
    "기간 * 하루매출"
   ]
  },
  {
   "cell_type": "markdown",
   "metadata": {},
   "source": [
    "## 두 개의 정규분포가 섞여 있을 때"
   ]
  },
  {
   "cell_type": "code",
   "execution_count": 59,
   "metadata": {},
   "outputs": [],
   "source": [
    "유저집단 = binomial(1, .1, 100)  # 헤비유저 10%"
   ]
  },
  {
   "cell_type": "code",
   "execution_count": 60,
   "metadata": {},
   "outputs": [],
   "source": [
    "총매출 = []\n",
    "for 유저 in 유저집단:\n",
    "    if 유저 == 0: # 라이트 유저\n",
    "        매출 = normal(30, 10)\n",
    "    else:  # 헤비 유저\n",
    "        매출 = normal(100, 10)\n",
    "    총매출.append(매출)"
   ]
  },
  {
   "cell_type": "code",
   "execution_count": 61,
   "metadata": {},
   "outputs": [
    {
     "data": {
      "text/plain": [
       "9.873176863503112"
      ]
     },
     "execution_count": 61,
     "metadata": {},
     "output_type": "execute_result"
    }
   ],
   "source": [
    "numpy.mean(normal(10, 2, 100))"
   ]
  },
  {
   "cell_type": "code",
   "execution_count": 62,
   "metadata": {},
   "outputs": [
    {
     "data": {
      "text/plain": [
       "[44.06662138228465,\n",
       " 30.336204717688343,\n",
       " 98.24674567498613,\n",
       " 7.503653046582528,\n",
       " 32.846933865909634,\n",
       " 6.204378655716599,\n",
       " 26.847929139176117,\n",
       " 44.86605266383976,\n",
       " 21.228319888132262,\n",
       " 27.76985198840323,\n",
       " 100.43000372499378,\n",
       " 33.54768673032054,\n",
       " 21.759595445787,\n",
       " 32.10105874896994,\n",
       " 34.97539436650618,\n",
       " 21.122026120794658,\n",
       " 21.36039295311523,\n",
       " 18.388984026355033,\n",
       " 25.915952204257636,\n",
       " 39.807723193761376,\n",
       " 30.98186658143544,\n",
       " 34.0499232347393,\n",
       " 43.73357226203474,\n",
       " 36.57018008953184,\n",
       " 37.54459415741724,\n",
       " 31.577906392836383,\n",
       " 22.996193901266018,\n",
       " 33.87726092562654,\n",
       " 33.865314342471414,\n",
       " 38.2389940039579,\n",
       " 46.84805811851734,\n",
       " 21.183081437491705,\n",
       " 14.171489844373816,\n",
       " 13.574725802118802,\n",
       " 18.42657879877178,\n",
       " 25.38817602959507,\n",
       " 18.5969875226356,\n",
       " 28.871106654850763,\n",
       " 19.73483932192281,\n",
       " 18.16680563794293,\n",
       " 101.02455119453094,\n",
       " 34.06203813512064,\n",
       " 36.317769663812896,\n",
       " 14.800975860082143,\n",
       " 24.098049445463424,\n",
       " 34.525127136687345,\n",
       " 28.844666408171655,\n",
       " 28.145927806587054,\n",
       " 93.20279420805429,\n",
       " 16.97590357362713,\n",
       " 36.00771770392614,\n",
       " 104.82001264237807,\n",
       " 40.45033852686406,\n",
       " 41.4987107195071,\n",
       " 27.465166253107277,\n",
       " 19.746764734282934,\n",
       " 41.066452054202934,\n",
       " 43.04749676529339,\n",
       " 29.70055714748984,\n",
       " 20.20244777100158,\n",
       " 35.2553921750763,\n",
       " 14.875115392018849,\n",
       " 32.039123421068666,\n",
       " 44.114939359900504,\n",
       " 41.69544231328867,\n",
       " 56.25364187815852,\n",
       " 28.73916560082462,\n",
       " 30.36281302260861,\n",
       " 27.268197858996473,\n",
       " 106.43398122942286,\n",
       " 35.538625468956745,\n",
       " 29.212131541642783,\n",
       " 41.01289086428861,\n",
       " 24.522020118095895,\n",
       " 38.358602071054854,\n",
       " 26.925743808807002,\n",
       " 106.52183055015811,\n",
       " 20.86417215450802,\n",
       " 19.78290280087304,\n",
       " 35.134775305366134,\n",
       " 102.54938978326548,\n",
       " 40.72821712055882,\n",
       " 43.92825700068121,\n",
       " 16.571400126889124,\n",
       " 38.11072451501376,\n",
       " 45.333759133748714,\n",
       " 30.42274687651954,\n",
       " 50.442304458627774,\n",
       " 28.701586554437107,\n",
       " 57.83318126128539,\n",
       " 24.256932957332875,\n",
       " 15.053622946288115,\n",
       " 13.409911613386573,\n",
       " 18.269992564462605,\n",
       " 94.02161573097489,\n",
       " 27.952330738268547,\n",
       " 30.06054417199983,\n",
       " 104.49749191240642,\n",
       " 89.91861767857895,\n",
       " 43.77606323407263]"
      ]
     },
     "execution_count": 62,
     "metadata": {},
     "output_type": "execute_result"
    }
   ],
   "source": [
    "총매출"
   ]
  },
  {
   "cell_type": "markdown",
   "metadata": {},
   "source": [
    "## 다항분포\n",
    "\n",
    "* 여러가지 경우가 존재\n",
    "* 각각의 확률이 p(단, 합은 1)\n",
    "* n번했을 때 각 경우가 몇 번 나오는가?\n",
    "* 예) 명동의 한 식당에 100명이 방문한다. 한국,중국,일본 고객들이 각각 50%, 30%,20% 이 올 확률."
   ]
  },
  {
   "cell_type": "code",
   "execution_count": 63,
   "metadata": {},
   "outputs": [],
   "source": [
    "from numpy.random import multinomial"
   ]
  },
  {
   "cell_type": "code",
   "execution_count": 64,
   "metadata": {},
   "outputs": [
    {
     "data": {
      "text/plain": [
       "array([5, 1, 2, 2])"
      ]
     },
     "execution_count": 64,
     "metadata": {},
     "output_type": "execute_result"
    }
   ],
   "source": [
    "multinomial(10, [.5, .2, .2, .1])"
   ]
  },
  {
   "cell_type": "code",
   "execution_count": 65,
   "metadata": {},
   "outputs": [
    {
     "data": {
      "text/plain": [
       "array([2, 8])"
      ]
     },
     "execution_count": 65,
     "metadata": {},
     "output_type": "execute_result"
    }
   ],
   "source": [
    "multinomial(10, [.3, .7])"
   ]
  },
  {
   "cell_type": "code",
   "execution_count": 66,
   "metadata": {},
   "outputs": [
    {
     "data": {
      "text/plain": [
       "3"
      ]
     },
     "execution_count": 66,
     "metadata": {},
     "output_type": "execute_result"
    }
   ],
   "source": [
    "binomial(10, .3)"
   ]
  },
  {
   "cell_type": "code",
   "execution_count": 67,
   "metadata": {},
   "outputs": [
    {
     "data": {
      "text/plain": [
       "array([[49, 32, 19],\n",
       "       [47, 31, 22],\n",
       "       [47, 31, 22],\n",
       "       [57, 30, 13],\n",
       "       [50, 31, 19],\n",
       "       [49, 33, 18],\n",
       "       [54, 27, 19],\n",
       "       [55, 31, 14],\n",
       "       [56, 29, 15],\n",
       "       [48, 32, 20],\n",
       "       [53, 34, 13],\n",
       "       [52, 24, 24],\n",
       "       [54, 27, 19],\n",
       "       [55, 32, 13],\n",
       "       [53, 31, 16],\n",
       "       [52, 26, 22],\n",
       "       [44, 35, 21],\n",
       "       [52, 23, 25],\n",
       "       [58, 26, 16],\n",
       "       [52, 24, 24],\n",
       "       [57, 21, 22],\n",
       "       [51, 28, 21],\n",
       "       [48, 31, 21],\n",
       "       [55, 28, 17],\n",
       "       [45, 31, 24],\n",
       "       [49, 32, 19],\n",
       "       [42, 30, 28],\n",
       "       [43, 33, 24],\n",
       "       [55, 29, 16],\n",
       "       [57, 26, 17]])"
      ]
     },
     "execution_count": 67,
     "metadata": {},
     "output_type": "execute_result"
    }
   ],
   "source": [
    "# 100명의 고객 중, 50% 한국인, 50% 중국인, 20%일본인\n",
    "# 30일간의 결과는?\n",
    "multinomial(100, [.5, .3, .2], 30) "
   ]
  },
  {
   "cell_type": "markdown",
   "metadata": {},
   "source": [
    "* 위의 예시에서 한국인이 나올 확률 = 50% -> 50보다 큰수/작은수 둘다 존재\n",
    "* 더 큰 수가 나오면 그 다음날은 더 작은 수가 나온다\n",
    "* 큰 수가 나오면 그 수보다 큰 수가 나오기 어렵기 때문에 그 수보다 작은 수가 나온다\n",
    "* 결과적 = 오르락 내리락하는 패턴"
   ]
  },
  {
   "cell_type": "markdown",
   "metadata": {},
   "source": [
    "## 지수분포\n",
    "\n",
    "* 평균적으로 b시간마다 일어나는 일이 다음에 일어날 때까지 시간\n",
    "* 시간당 평균L번 일어나는 사건이 포아송 분포는 B=1/L 시간마다 일어나는 지수분포\n",
    "* 뭔가 도착하는 상황에서 쓰면 됨.( 다음 버스, 다음 지진, 다음 고객이 도착)"
   ]
  },
  {
   "cell_type": "code",
   "execution_count": 68,
   "metadata": {},
   "outputs": [],
   "source": [
    "from numpy.random import exponential"
   ]
  },
  {
   "cell_type": "code",
   "execution_count": 72,
   "metadata": {},
   "outputs": [
    {
     "data": {
      "text/plain": [
       "0.27"
      ]
     },
     "execution_count": 72,
     "metadata": {},
     "output_type": "execute_result"
    }
   ],
   "source": [
    "# 리드 타임: 고객이 도착할 때부터 서비스까지 걸리는 시간\n",
    "리드타임 = 10\n",
    "# 평균 30분 후에 고객 도착\n",
    "# 100 명의 고객\n",
    "numpy.mean(exponential(30, 100) < 리드타임) # 리드타임 내 추가 고객 도착 비율\n",
    "\n",
    "# 10명까지 대기할 수 있는 경우\n",
    "# 리드타임을 얼마로 해야 최적화되는가"
   ]
  },
  {
   "cell_type": "code",
   "execution_count": 73,
   "metadata": {},
   "outputs": [
    {
     "data": {
      "text/plain": [
       "0.031"
      ]
     },
     "execution_count": 73,
     "metadata": {},
     "output_type": "execute_result"
    }
   ],
   "source": [
    "알바 = 10\n",
    "리드타임 = 10 / 알바\n",
    "numpy.mean(exponential(30, 1000) < 리드타임) # 리드타임 이내 도착 고객 비율"
   ]
  },
  {
   "cell_type": "code",
   "execution_count": null,
   "metadata": {},
   "outputs": [],
   "source": []
  }
 ],
 "metadata": {
  "kernelspec": {
   "display_name": "Python 3",
   "language": "python",
   "name": "python3"
  },
  "language_info": {
   "codemirror_mode": {
    "name": "ipython",
    "version": 3
   },
   "file_extension": ".py",
   "mimetype": "text/x-python",
   "name": "python",
   "nbconvert_exporter": "python",
   "pygments_lexer": "ipython3",
   "version": "3.7.4"
  }
 },
 "nbformat": 4,
 "nbformat_minor": 2
}
