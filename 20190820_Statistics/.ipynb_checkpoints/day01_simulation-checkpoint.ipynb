{
 "cells": [
  {
   "cell_type": "markdown",
   "metadata": {},
   "source": [
    "## 아나콘다와 주피터의 관계\n",
    "\n",
    "Anaconda(하이마트)\n",
    "\n",
    " - Python을 설치하는 방법\n",
    " - Jupyter도 설치됨\n",
    " \n",
    "Jupyter(에어콘)\n",
    "\n",
    "- Python을 사용하는 방법"
   ]
  },
  {
   "cell_type": "markdown",
   "metadata": {},
   "source": [
    "## 대표값"
   ]
  },
  {
   "cell_type": "code",
   "execution_count": 1,
   "metadata": {},
   "outputs": [],
   "source": [
    "import numpy"
   ]
  },
  {
   "cell_type": "code",
   "execution_count": 54,
   "metadata": {},
   "outputs": [],
   "source": [
    "x = [100, 100, 100, 120, 200, 300, 300, 400, 500, 500, 600, 610, 700, 800, 900]"
   ]
  },
  {
   "cell_type": "code",
   "execution_count": 38,
   "metadata": {},
   "outputs": [
    {
     "data": {
      "text/plain": [
       "240.0"
      ]
     },
     "execution_count": 38,
     "metadata": {},
     "output_type": "execute_result"
    }
   ],
   "source": [
    "numpy.mean(x)  # 평균"
   ]
  },
  {
   "cell_type": "code",
   "execution_count": 25,
   "metadata": {},
   "outputs": [
    {
     "data": {
      "text/plain": [
       "200.0"
      ]
     },
     "execution_count": 25,
     "metadata": {},
     "output_type": "execute_result"
    }
   ],
   "source": [
    "numpy.median(x)  # 중간값"
   ]
  },
  {
   "cell_type": "code",
   "execution_count": 20,
   "metadata": {},
   "outputs": [
    {
     "name": "stdout",
     "output_type": "stream",
     "text": [
      "Requirement already satisfied: scipy in c:\\users\\eupho\\anaconda3\\lib\\site-packages (1.2.1)\n"
     ]
    }
   ],
   "source": [
    "!pip install scipy"
   ]
  },
  {
   "cell_type": "code",
   "execution_count": 21,
   "metadata": {},
   "outputs": [],
   "source": [
    "from scipy.stats import mode"
   ]
  },
  {
   "cell_type": "code",
   "execution_count": 28,
   "metadata": {},
   "outputs": [
    {
     "data": {
      "text/plain": [
       "ModeResult(mode=array([100]), count=array([2]))"
      ]
     },
     "execution_count": 28,
     "metadata": {},
     "output_type": "execute_result"
    }
   ],
   "source": [
    "mode(x)  # 최빈값"
   ]
  },
  {
   "cell_type": "markdown",
   "metadata": {},
   "source": [
    "## 산포도"
   ]
  },
  {
   "cell_type": "code",
   "execution_count": 32,
   "metadata": {},
   "outputs": [
    {
     "data": {
      "text/plain": [
       "100"
      ]
     },
     "execution_count": 32,
     "metadata": {},
     "output_type": "execute_result"
    }
   ],
   "source": [
    "numpy.min(x)  # 최소"
   ]
  },
  {
   "cell_type": "code",
   "execution_count": 33,
   "metadata": {},
   "outputs": [
    {
     "data": {
      "text/plain": [
       "500"
      ]
     },
     "execution_count": 33,
     "metadata": {},
     "output_type": "execute_result"
    }
   ],
   "source": [
    "numpy.max(x)  # 최대"
   ]
  },
  {
   "cell_type": "code",
   "execution_count": 42,
   "metadata": {},
   "outputs": [
    {
     "data": {
      "text/plain": [
       "22400.0"
      ]
     },
     "execution_count": 42,
     "metadata": {},
     "output_type": "execute_result"
    }
   ],
   "source": [
    "numpy.var(x)  # 분산"
   ]
  },
  {
   "cell_type": "code",
   "execution_count": 43,
   "metadata": {},
   "outputs": [
    {
     "data": {
      "text/plain": [
       "149.66629547095766"
      ]
     },
     "execution_count": 43,
     "metadata": {},
     "output_type": "execute_result"
    }
   ],
   "source": [
    "numpy.std(x)  # 표준편차"
   ]
  },
  {
   "cell_type": "code",
   "execution_count": 55,
   "metadata": {},
   "outputs": [
    {
     "data": {
      "text/plain": [
       "160.0"
      ]
     },
     "execution_count": 55,
     "metadata": {},
     "output_type": "execute_result"
    }
   ],
   "source": [
    "numpy.quantile(x, .25)  # 1사분위수(25% 지점)"
   ]
  },
  {
   "cell_type": "code",
   "execution_count": 51,
   "metadata": {},
   "outputs": [
    {
     "data": {
      "text/plain": [
       "400.0"
      ]
     },
     "execution_count": 51,
     "metadata": {},
     "output_type": "execute_result"
    }
   ],
   "source": [
    "numpy.quantile(x, .5)"
   ]
  },
  {
   "cell_type": "code",
   "execution_count": 52,
   "metadata": {},
   "outputs": [
    {
     "data": {
      "text/plain": [
       "400.0"
      ]
     },
     "execution_count": 52,
     "metadata": {},
     "output_type": "execute_result"
    }
   ],
   "source": [
    "numpy.median(x)"
   ]
  },
  {
   "cell_type": "code",
   "execution_count": 53,
   "metadata": {},
   "outputs": [
    {
     "data": {
      "text/plain": [
       "625.0"
      ]
     },
     "execution_count": 53,
     "metadata": {},
     "output_type": "execute_result"
    }
   ],
   "source": [
    "numpy.quantile(x, .75)  # 3사분위수(75% 지점)"
   ]
  },
  {
   "cell_type": "code",
   "execution_count": null,
   "metadata": {},
   "outputs": [],
   "source": [
    "x = [0, 0, 0, 0, 0, 0, 0, 0, 0, 100]"
   ]
  },
  {
   "cell_type": "markdown",
   "metadata": {},
   "source": [
    "## 이항분포"
   ]
  },
  {
   "cell_type": "code",
   "execution_count": 56,
   "metadata": {},
   "outputs": [],
   "source": [
    "from numpy.random import binomial"
   ]
  },
  {
   "cell_type": "code",
   "execution_count": 79,
   "metadata": {},
   "outputs": [],
   "source": [
    "x = binomial(100, .3, 30)"
   ]
  },
  {
   "cell_type": "code",
   "execution_count": 80,
   "metadata": {},
   "outputs": [
    {
     "data": {
      "text/plain": [
       "16"
      ]
     },
     "execution_count": 80,
     "metadata": {},
     "output_type": "execute_result"
    }
   ],
   "source": [
    "min(x)"
   ]
  },
  {
   "cell_type": "code",
   "execution_count": 81,
   "metadata": {},
   "outputs": [
    {
     "data": {
      "text/plain": [
       "42"
      ]
     },
     "execution_count": 81,
     "metadata": {},
     "output_type": "execute_result"
    }
   ],
   "source": [
    "max(x)"
   ]
  },
  {
   "cell_type": "code",
   "execution_count": 82,
   "metadata": {},
   "outputs": [
    {
     "data": {
      "text/plain": [
       "array([32, 33, 28, 24, 31, 24, 29, 34, 32, 34, 16, 27, 23, 33, 34, 38, 28,\n",
       "       27, 40, 24, 36, 36, 26, 26, 42, 29, 26, 22, 21, 28])"
      ]
     },
     "execution_count": 82,
     "metadata": {},
     "output_type": "execute_result"
    }
   ],
   "source": [
    "x"
   ]
  },
  {
   "cell_type": "code",
   "execution_count": 83,
   "metadata": {},
   "outputs": [
    {
     "data": {
      "text/plain": [
       "556000"
      ]
     },
     "execution_count": 83,
     "metadata": {},
     "output_type": "execute_result"
    }
   ],
   "source": [
    "수익 = 0\n",
    "준비 = 20\n",
    "for 고객수 in x:\n",
    "    if 고객수 <= 준비:\n",
    "        수익 = 수익 + (준비 - 고객수) * -10000\n",
    "        수익 = 수익 + 고객수 * 1000\n",
    "    else:\n",
    "        수익 = 수익 + 준비 * 1000\n",
    "수익"
   ]
  },
  {
   "cell_type": "code",
   "execution_count": 109,
   "metadata": {},
   "outputs": [
    {
     "data": {
      "text/plain": [
       "19790.0"
      ]
     },
     "execution_count": 109,
     "metadata": {},
     "output_type": "execute_result"
    }
   ],
   "source": [
    "보험료 = 300\n",
    "지급액 = 1000\n",
    "고객 = 지급액 / 10\n",
    "장사 = 100\n",
    "사망자 = binomial(고객, .1, 장사)\n",
    "매출 = 보험료 * 고객\n",
    "지급 = 지급액 * 사망자\n",
    "numpy.mean(매출 - 지급)"
   ]
  },
  {
   "cell_type": "code",
   "execution_count": 105,
   "metadata": {},
   "outputs": [
    {
     "data": {
      "text/plain": [
       "30"
      ]
     },
     "execution_count": 105,
     "metadata": {},
     "output_type": "execute_result"
    }
   ],
   "source": [
    "binomial(100, .3)"
   ]
  },
  {
   "cell_type": "markdown",
   "metadata": {},
   "source": [
    "## 기하분포"
   ]
  },
  {
   "cell_type": "code",
   "execution_count": 144,
   "metadata": {},
   "outputs": [
    {
     "data": {
      "text/plain": [
       "36"
      ]
     },
     "execution_count": 144,
     "metadata": {},
     "output_type": "execute_result"
    }
   ],
   "source": [
    "이탈성공 = 0\n",
    "기간 = 0\n",
    "while 이탈성공 == 0:\n",
    "    이탈성공 = binomial(1, .05)\n",
    "    기간 = 기간 + 1\n",
    "기간"
   ]
  },
  {
   "cell_type": "code",
   "execution_count": 145,
   "metadata": {},
   "outputs": [],
   "source": [
    "from numpy.random import geometric"
   ]
  },
  {
   "cell_type": "code",
   "execution_count": 160,
   "metadata": {},
   "outputs": [],
   "source": [
    "기간 = geometric(.05, 100) # 이탈률 5%일 때 100명의 고객이 며칠 후 이탈하는지"
   ]
  },
  {
   "cell_type": "markdown",
   "metadata": {},
   "source": [
    "## 음이항 분포"
   ]
  },
  {
   "cell_type": "code",
   "execution_count": null,
   "metadata": {},
   "outputs": [],
   "source": [
    "negative_binomial(1, .05, 100)"
   ]
  },
  {
   "cell_type": "code",
   "execution_count": 171,
   "metadata": {},
   "outputs": [
    {
     "data": {
      "text/plain": [
       "-130.0"
      ]
     },
     "execution_count": 171,
     "metadata": {},
     "output_type": "execute_result"
    }
   ],
   "source": [
    "numpy.sum(기간 * 0.5 - 10)"
   ]
  },
  {
   "cell_type": "code",
   "execution_count": 163,
   "metadata": {},
   "outputs": [
    {
     "data": {
      "text/plain": [
       "-8260"
      ]
     },
     "execution_count": 163,
     "metadata": {},
     "output_type": "execute_result"
    }
   ],
   "source": [
    "numpy.sum(기간 * 1 - 100)"
   ]
  },
  {
   "cell_type": "code",
   "execution_count": 167,
   "metadata": {},
   "outputs": [
    {
     "data": {
      "text/plain": [
       "-130.0"
      ]
     },
     "execution_count": 167,
     "metadata": {},
     "output_type": "execute_result"
    }
   ],
   "source": [
    "numpy.sum(기간 * 0.5 - 10 )"
   ]
  },
  {
   "cell_type": "code",
   "execution_count": 181,
   "metadata": {},
   "outputs": [],
   "source": [
    "폭발 = []\n",
    "for i in range(100):\n",
    "    짜증 = 0\n",
    "    기간 = 0\n",
    "    while 짜증 < 3:             # 3번째는 못 참는다\n",
    "        사건 = binomial(1, .05) # 5%의 확률로 사건 발생\n",
    "        if 사건 == 1:           # 사건이 나면\n",
    "            짜증 = 짜증 + 1     # 짜증이 증가\n",
    "        기간 = 기간 + 1   \n",
    "    폭발.append(기간)"
   ]
  },
  {
   "cell_type": "code",
   "execution_count": 178,
   "metadata": {},
   "outputs": [],
   "source": [
    "from numpy.random import negative_binomial"
   ]
  },
  {
   "cell_type": "code",
   "execution_count": 188,
   "metadata": {},
   "outputs": [
    {
     "data": {
      "text/plain": [
       "68"
      ]
     },
     "execution_count": 188,
     "metadata": {},
     "output_type": "execute_result"
    }
   ],
   "source": [
    "negative_binomial(3, .05)  # 5% 확률로 짜증이 나고 3번 나면 폭발\n",
    "                           # 할 때까지 기간"
   ]
  },
  {
   "cell_type": "code",
   "execution_count": 189,
   "metadata": {
    "collapsed": true
   },
   "outputs": [
    {
     "data": {
      "text/plain": [
       "array([169,  98,  91,  62,  41,  31,  48,  20, 134,  52,  10,  50, 102,\n",
       "        71,  34,  22,  40, 106,  24,  59,  45,  48,  19,  77,  24,  24,\n",
       "        34, 114,  24,  68,  16,  30,  37,  21, 180, 143,  49, 126,  15,\n",
       "        18,  66,  31,  56,  29,  76,  26,  16,  21,  39,  23, 105,  22,\n",
       "       141,  33,  14,  92,  30,  44,  46,  50,  21,  77,  24,  62,  41,\n",
       "        89,  31,  41,  66, 208,  12, 101,  35, 129,  76,  74,  58,  63,\n",
       "         9,  49, 205,  21,  45,   7,  72,  37,  97,  69,  31,  54,  42,\n",
       "        25,  95,  10,  85,  61,  51,  80,  80,  59])"
      ]
     },
     "execution_count": 189,
     "metadata": {},
     "output_type": "execute_result"
    }
   ],
   "source": [
    "negative_binomial(3, .05, 100)  # 100마리 리트리버"
   ]
  },
  {
   "cell_type": "markdown",
   "metadata": {},
   "source": [
    "## 실습\n",
    "\n",
    "우리 리트리버는 10%의 확률로 짜증이 납니다. 이틀 연속으로 짜증이 나면 화를 냅니다. 리트리버가 화를 낼 때까지 기간을 시뮬레이션 해보세요."
   ]
  },
  {
   "cell_type": "markdown",
   "metadata": {},
   "source": [
    "## 포아송 분포"
   ]
  },
  {
   "cell_type": "code",
   "execution_count": 183,
   "metadata": {},
   "outputs": [],
   "source": [
    "from numpy.random import poisson"
   ]
  },
  {
   "cell_type": "code",
   "execution_count": 187,
   "metadata": {
    "collapsed": true
   },
   "outputs": [
    {
     "data": {
      "text/plain": [
       "array([31, 26, 36, 35, 27, 34, 29, 29, 26, 28, 28, 33, 36, 36, 26, 24, 23,\n",
       "       25, 28, 34, 31, 29, 33, 30, 26, 27, 27, 30, 34, 27, 33, 29, 33, 29,\n",
       "       23, 31, 32, 29, 33, 35, 33, 25, 29, 40, 25, 26, 28, 28, 28, 38])"
      ]
     },
     "execution_count": 187,
     "metadata": {},
     "output_type": "execute_result"
    }
   ],
   "source": [
    "binomial(100, .3, 50) # 100명의 고객이 30%로 방문할 때"
   ]
  },
  {
   "cell_type": "code",
   "execution_count": 185,
   "metadata": {},
   "outputs": [
    {
     "data": {
      "text/plain": [
       "array([28, 28, 31, 30, 25, 28, 25, 33, 25, 26, 33, 25, 36, 35, 38, 33, 25,\n",
       "       18, 31, 36, 39, 35, 28, 27, 22, 29, 33, 29, 40, 22, 25, 20, 34, 35,\n",
       "       31, 26, 15, 26, 41, 24, 30, 34, 40, 25, 34, 28, 21, 27, 31, 33, 29,\n",
       "       28, 21, 25, 31, 40, 28, 31, 32, 28, 26, 24, 37, 25, 23, 27, 38, 29,\n",
       "       30, 36, 34, 25, 37, 24, 35, 30, 30, 30, 32, 25, 39, 36, 28, 36, 30,\n",
       "       28, 27, 25, 36, 27, 25, 30, 20, 25, 35, 33, 24, 29, 31, 28])"
      ]
     },
     "execution_count": 185,
     "metadata": {},
     "output_type": "execute_result"
    }
   ],
   "source": [
    "poisson(30, 50)  # 하루 평균 30명 방문할 때 50일간 방문인원 수"
   ]
  },
  {
   "cell_type": "markdown",
   "metadata": {},
   "source": [
    "## 균등 분포"
   ]
  },
  {
   "cell_type": "code",
   "execution_count": 190,
   "metadata": {},
   "outputs": [],
   "source": [
    "from numpy.random import uniform"
   ]
  },
  {
   "cell_type": "code",
   "execution_count": 212,
   "metadata": {},
   "outputs": [
    {
     "data": {
      "text/plain": [
       "12.60608129437608"
      ]
     },
     "execution_count": 212,
     "metadata": {},
     "output_type": "execute_result"
    }
   ],
   "source": [
    "uniform(10, 20)  # 최소값 10에서 최대값 20까지 사이에서 균등하게 "
   ]
  },
  {
   "cell_type": "code",
   "execution_count": 252,
   "metadata": {},
   "outputs": [
    {
     "data": {
      "text/plain": [
       "5.976454583975816"
      ]
     },
     "execution_count": 252,
     "metadata": {},
     "output_type": "execute_result"
    }
   ],
   "source": [
    "uniform(1, 10)  # 최소값 10에서 최대값 20까지 사이에서 균등하게 "
   ]
  },
  {
   "cell_type": "code",
   "execution_count": 221,
   "metadata": {},
   "outputs": [
    {
     "data": {
      "text/plain": [
       "0.21294424244455745"
      ]
     },
     "execution_count": 221,
     "metadata": {},
     "output_type": "execute_result"
    }
   ],
   "source": [
    "uniform(0, 1)"
   ]
  },
  {
   "cell_type": "code",
   "execution_count": 261,
   "metadata": {},
   "outputs": [],
   "source": [
    "x = uniform(-1, 1, 1000)\n",
    "y = uniform(-1, 1, 1000)"
   ]
  },
  {
   "cell_type": "code",
   "execution_count": 264,
   "metadata": {},
   "outputs": [
    {
     "data": {
      "text/plain": [
       "0.503"
      ]
     },
     "execution_count": 264,
     "metadata": {},
     "output_type": "execute_result"
    }
   ],
   "source": [
    "numpy.mean(numpy.abs(x) + numpy.abs(y) < 1)"
   ]
  },
  {
   "cell_type": "code",
   "execution_count": 268,
   "metadata": {},
   "outputs": [],
   "source": [
    "x = uniform(-1, 1, 100000)\n",
    "y = uniform(-1, 1, 100000)"
   ]
  },
  {
   "cell_type": "code",
   "execution_count": 271,
   "metadata": {},
   "outputs": [
    {
     "data": {
      "text/plain": [
       "3.14068"
      ]
     },
     "execution_count": 271,
     "metadata": {},
     "output_type": "execute_result"
    }
   ],
   "source": [
    "numpy.mean(x ** 2 + y ** 2 < 1) * 4"
   ]
  },
  {
   "cell_type": "markdown",
   "metadata": {},
   "source": [
    "## 정규분포"
   ]
  },
  {
   "cell_type": "code",
   "execution_count": 272,
   "metadata": {},
   "outputs": [],
   "source": [
    "from numpy.random import normal"
   ]
  },
  {
   "cell_type": "code",
   "execution_count": 325,
   "metadata": {},
   "outputs": [],
   "source": [
    "기간 = geometric(.05, 100)"
   ]
  },
  {
   "cell_type": "code",
   "execution_count": 326,
   "metadata": {},
   "outputs": [],
   "source": [
    "하루매출 = normal(50, 20, 100)  # 고객 100명이 평균 50만원(표준편차 20만원)"
   ]
  },
  {
   "cell_type": "code",
   "execution_count": 327,
   "metadata": {},
   "outputs": [
    {
     "data": {
      "text/plain": [
       "array([3212.5922976 , 4248.4194616 , 2667.76223606,  346.50680835,\n",
       "       2047.87437038,  128.79513117, 1627.60471072,  246.0554823 ,\n",
       "       2242.99825991,  409.36616026, 1719.654805  ,  917.58338778,\n",
       "         52.0397216 ,  172.15091072, 2606.05806636,  503.14428624,\n",
       "        329.00785213,  925.70555817, 1492.69856764,  751.09585656,\n",
       "        968.66889448,  593.2071448 ,  495.3166062 ,  829.94594958,\n",
       "       1116.4032001 , 1247.12070679,  211.85022547,  193.08130076,\n",
       "       2809.83924333, 1325.28861165,  816.70205597,  161.41544145,\n",
       "        661.55712627,  185.83329802,  209.74236507,  207.68920295,\n",
       "       1406.09668523,  232.22101683,  206.389655  , 1387.08098416,\n",
       "        980.1424612 ,  968.91910188, 1244.01098995,  542.51192673,\n",
       "        408.13439391, 3598.92292493, 1946.81554274,  809.52705318,\n",
       "        864.39801929,  345.0196083 ,  193.70173755, 1172.4019879 ,\n",
       "        718.14373441,  349.4346808 ,  175.65918693,  818.52634196,\n",
       "       1365.96918607, 1846.03693456,  336.96236638, 1689.51796794,\n",
       "        507.55107643,  908.54543378,  985.28901261,  940.67894591,\n",
       "       3552.8418552 ,  378.8291831 , 1225.97085525,  191.24437867,\n",
       "       3463.31469407,  339.69671128, 1964.84833081,   42.53498942,\n",
       "       3907.4305415 ,  532.43051736,  963.3110562 ,  364.55531362,\n",
       "       1149.97385391,  134.6535445 ,  310.75442577,  426.03920834,\n",
       "        593.12610607,  676.04493224, 1927.86828986,  222.12038205,\n",
       "        355.12571249,  527.68184947, 2204.41016867, 1384.94254118,\n",
       "       1469.88342574, 1254.7895182 ,  237.24108209,  210.76566472,\n",
       "         41.00606291,  202.08514921,  331.88444867,  100.34344771,\n",
       "         93.4819413 , 3272.30555871,  960.38476103, 1411.14870917])"
      ]
     },
     "execution_count": 327,
     "metadata": {},
     "output_type": "execute_result"
    }
   ],
   "source": [
    "기간 * 하루매출"
   ]
  },
  {
   "cell_type": "markdown",
   "metadata": {},
   "source": [
    "## 두 개의 정규분포가 섞여 있을 때"
   ]
  },
  {
   "cell_type": "code",
   "execution_count": 328,
   "metadata": {},
   "outputs": [],
   "source": [
    "유저집단 = binomial(1, .1, 100)  # 헤비유저 10%"
   ]
  },
  {
   "cell_type": "code",
   "execution_count": 330,
   "metadata": {},
   "outputs": [],
   "source": [
    "총매출 = []\n",
    "for 유저 in 유저집단:\n",
    "    if 유저 == 0: # 라이트 유저\n",
    "        매출 = normal(30, 10)\n",
    "    else:  # 헤비 유저\n",
    "        매출 = normal(100, 10)\n",
    "    총매출.append(매출)"
   ]
  },
  {
   "cell_type": "code",
   "execution_count": 366,
   "metadata": {},
   "outputs": [
    {
     "data": {
      "text/plain": [
       "10.073064672320486"
      ]
     },
     "execution_count": 366,
     "metadata": {},
     "output_type": "execute_result"
    }
   ],
   "source": [
    "numpy.mean(normal(10, 2, 100))"
   ]
  },
  {
   "cell_type": "code",
   "execution_count": 331,
   "metadata": {
    "collapsed": true
   },
   "outputs": [
    {
     "data": {
      "text/plain": [
       "[34.10522609161714,\n",
       " 120.33816743198119,\n",
       " 42.883225004792116,\n",
       " 111.88350189760868,\n",
       " 111.36904475890238,\n",
       " 24.880772504564227,\n",
       " 100.72139657925773,\n",
       " 101.69578399933533,\n",
       " 87.45315036823553,\n",
       " 27.898422720634613,\n",
       " 30.470700355717458,\n",
       " 27.331705860977983,\n",
       " 32.52020501786026,\n",
       " 23.349824589741637,\n",
       " 36.62608933555686,\n",
       " 29.372484498589493,\n",
       " 15.891155483013595,\n",
       " 28.10779850059054,\n",
       " 94.25239309287554,\n",
       " 25.614582598844343,\n",
       " 22.11840442682858,\n",
       " 24.35810595703015,\n",
       " 31.887185070168258,\n",
       " 131.62620291273447,\n",
       " 93.10077293727964,\n",
       " 34.72601496644473,\n",
       " 14.548222473249995,\n",
       " 24.51718495237473,\n",
       " 94.65414750003055,\n",
       " 34.97954796642996,\n",
       " 95.42985405178001,\n",
       " 78.85878925258261,\n",
       " 101.80149687585458,\n",
       " 17.542177087931584,\n",
       " 90.82178712421347,\n",
       " 41.62597144132264,\n",
       " 107.8150360415745,\n",
       " 85.46042241544652,\n",
       " 18.637451800844353,\n",
       " 97.44514382360236,\n",
       " 92.04072932343757,\n",
       " 103.98146104325475,\n",
       " 91.51285702739308,\n",
       " 34.13885208520713,\n",
       " 101.93039898130472,\n",
       " 83.54880519765608,\n",
       " 25.53672439380733,\n",
       " 108.34330777560379,\n",
       " 77.95386338478056,\n",
       " 28.405546688757553,\n",
       " 37.05080155696663,\n",
       " 103.23810724956019,\n",
       " 95.31167040967439,\n",
       " 98.97862654630624,\n",
       " 31.871874438637352,\n",
       " 98.40725697576917,\n",
       " 107.96435077343779,\n",
       " 52.07247315068927,\n",
       " 112.712536489316,\n",
       " 44.26285371060452,\n",
       " 103.38737052200378,\n",
       " 101.9109508200423,\n",
       " 97.3882882443583,\n",
       " 104.87164882010092,\n",
       " 92.22435496427983,\n",
       " 110.30521355617154,\n",
       " 34.32377344582473,\n",
       " 36.80356347030825,\n",
       " 93.69273013384796,\n",
       " 91.15283676962662,\n",
       " 122.95543809587252,\n",
       " 43.51595408044886,\n",
       " 45.57586291586167,\n",
       " 37.42366218671796,\n",
       " 80.57197822959377,\n",
       " 12.749792502406539,\n",
       " 35.56032120348458,\n",
       " 19.442609014144438,\n",
       " 107.25501539921153,\n",
       " 88.85707230198548,\n",
       " 29.195763608767486,\n",
       " 46.616479175986,\n",
       " 112.4531806055401,\n",
       " 116.33243519052449,\n",
       " 95.05947303137741,\n",
       " 108.7926256024008,\n",
       " 107.98684408708301,\n",
       " 126.97892516322037,\n",
       " 85.41094316551154,\n",
       " 45.044349986780624,\n",
       " 102.83858745670713,\n",
       " 36.542570539800344,\n",
       " 45.686727305892866,\n",
       " 30.752112317618153,\n",
       " 114.41363101651619,\n",
       " 53.6984992194947,\n",
       " 108.1009198840534,\n",
       " 30.531720697214297,\n",
       " 107.82888828719403,\n",
       " 39.71677190659332]"
      ]
     },
     "execution_count": 331,
     "metadata": {},
     "output_type": "execute_result"
    }
   ],
   "source": [
    "총매출"
   ]
  },
  {
   "cell_type": "markdown",
   "metadata": {},
   "source": [
    "## 다항분포"
   ]
  },
  {
   "cell_type": "code",
   "execution_count": 367,
   "metadata": {},
   "outputs": [],
   "source": [
    "from numpy.random import multinomial"
   ]
  },
  {
   "cell_type": "code",
   "execution_count": 377,
   "metadata": {},
   "outputs": [
    {
     "data": {
      "text/plain": [
       "array([7, 2, 1, 0])"
      ]
     },
     "execution_count": 377,
     "metadata": {},
     "output_type": "execute_result"
    }
   ],
   "source": [
    "multinomial(10, [.5, .2, .2, .1])"
   ]
  },
  {
   "cell_type": "code",
   "execution_count": 378,
   "metadata": {},
   "outputs": [
    {
     "data": {
      "text/plain": [
       "array([2, 8])"
      ]
     },
     "execution_count": 378,
     "metadata": {},
     "output_type": "execute_result"
    }
   ],
   "source": [
    "multinomial(10, [.3, .7])"
   ]
  },
  {
   "cell_type": "code",
   "execution_count": 379,
   "metadata": {},
   "outputs": [
    {
     "data": {
      "text/plain": [
       "3"
      ]
     },
     "execution_count": 379,
     "metadata": {},
     "output_type": "execute_result"
    }
   ],
   "source": [
    "binomial(10, .3)"
   ]
  },
  {
   "cell_type": "code",
   "execution_count": 390,
   "metadata": {},
   "outputs": [
    {
     "data": {
      "text/plain": [
       "array([[46, 34, 20],\n",
       "       [48, 29, 23],\n",
       "       [55, 30, 15],\n",
       "       [45, 35, 20],\n",
       "       [54, 30, 16],\n",
       "       [48, 27, 25],\n",
       "       [58, 23, 19],\n",
       "       [51, 27, 22],\n",
       "       [50, 28, 22],\n",
       "       [58, 28, 14],\n",
       "       [52, 29, 19],\n",
       "       [50, 25, 25],\n",
       "       [55, 26, 19],\n",
       "       [49, 27, 24],\n",
       "       [48, 30, 22],\n",
       "       [61, 23, 16],\n",
       "       [51, 24, 25],\n",
       "       [43, 31, 26],\n",
       "       [57, 23, 20],\n",
       "       [48, 31, 21],\n",
       "       [55, 30, 15],\n",
       "       [52, 34, 14],\n",
       "       [45, 29, 26],\n",
       "       [39, 34, 27],\n",
       "       [52, 27, 21],\n",
       "       [55, 33, 12],\n",
       "       [39, 34, 27],\n",
       "       [41, 38, 21],\n",
       "       [47, 32, 21],\n",
       "       [54, 28, 18]])"
      ]
     },
     "execution_count": 390,
     "metadata": {},
     "output_type": "execute_result"
    }
   ],
   "source": [
    "multinomial(100, [.5, .3, .2], 30) # 하루에 100명의 고객을 30일치"
   ]
  },
  {
   "cell_type": "markdown",
   "metadata": {},
   "source": [
    "## 지수분포"
   ]
  },
  {
   "cell_type": "code",
   "execution_count": 391,
   "metadata": {},
   "outputs": [],
   "source": [
    "from numpy.random import exponential"
   ]
  },
  {
   "cell_type": "code",
   "execution_count": 436,
   "metadata": {},
   "outputs": [
    {
     "data": {
      "text/plain": [
       "0.033"
      ]
     },
     "execution_count": 436,
     "metadata": {},
     "output_type": "execute_result"
    }
   ],
   "source": [
    "알바 = 10\n",
    "리드타임 = 10 / 알바\n",
    "numpy.mean(exponential(30, 1000) < 리드타임) # 리드타임 이내 도착 고객 비율"
   ]
  }
 ],
 "metadata": {
  "kernelspec": {
   "display_name": "Python 3",
   "language": "python",
   "name": "python3"
  },
  "language_info": {
   "codemirror_mode": {
    "name": "ipython",
    "version": 3
   },
   "file_extension": ".py",
   "mimetype": "text/x-python",
   "name": "python",
   "nbconvert_exporter": "python",
   "pygments_lexer": "ipython3",
   "version": "3.7.4"
  }
 },
 "nbformat": 4,
 "nbformat_minor": 2
}
