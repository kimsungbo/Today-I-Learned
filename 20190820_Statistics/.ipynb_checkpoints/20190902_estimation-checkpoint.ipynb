{
 "cells": [
  {
   "cell_type": "markdown",
   "metadata": {},
   "source": [
    "# 추정"
   ]
  },
  {
   "cell_type": "markdown",
   "metadata": {},
   "source": [
    "## 이항 분포 데이터 만들기\n",
    "\n",
    "* A를 할때 B일 확률 = p\n",
    "* A를 N번 했을때 B가 X번 발생할 확률은?"
   ]
  },
  {
   "cell_type": "code",
   "execution_count": 1,
   "metadata": {},
   "outputs": [],
   "source": [
    "from numpy.random import binomial"
   ]
  },
  {
   "cell_type": "code",
   "execution_count": 2,
   "metadata": {},
   "outputs": [],
   "source": [
    "# A = 정수기에 얼음을 뜨러갈때\n",
    "# B = 얼음이 나올 확률\n",
    "# P = 50%\n",
    "# N = 정수기 3대\n",
    "# X = 1\n",
    "data = binomial(100, 0.3, 50) # N=100, p=.3에서 50번 데이터를 추출"
   ]
  },
  {
   "cell_type": "code",
   "execution_count": 3,
   "metadata": {},
   "outputs": [
    {
     "data": {
      "text/plain": [
       "array([32, 26, 31, 30, 35, 26, 32, 23, 34, 30, 31, 35, 29, 26, 33, 33, 32,\n",
       "       38, 33, 29, 38, 24, 34, 25, 33, 22, 29, 32, 33, 25, 24, 33, 24, 29,\n",
       "       33, 38, 29, 27, 31, 30, 33, 30, 32, 34, 28, 32, 25, 28, 32, 36])"
      ]
     },
     "execution_count": 3,
     "metadata": {},
     "output_type": "execute_result"
    }
   ],
   "source": [
    "data"
   ]
  },
  {
   "cell_type": "code",
   "execution_count": 4,
   "metadata": {},
   "outputs": [],
   "source": [
    "import seaborn"
   ]
  },
  {
   "cell_type": "code",
   "execution_count": 16,
   "metadata": {},
   "outputs": [
    {
     "data": {
      "text/plain": [
       "<matplotlib.axes._subplots.AxesSubplot at 0x246917c6cc0>"
      ]
     },
     "execution_count": 16,
     "metadata": {},
     "output_type": "execute_result"
    },
    {
     "data": {
      "image/png": "[encoded data removed]",
      "text/plain": [
       "<Figure size 432x288 with 1 Axes>"
      ]
     },
     "metadata": {
      "needs_background": "light"
     },
     "output_type": "display_data"
    }
   ],
   "source": [
    "seaborn.distplot(data)"
   ]
  },
  {
   "cell_type": "markdown",
   "metadata": {},
   "source": [
    "## 최적화를 이요한 파라미터 추정\n",
    "\n",
    "### 최적화\n",
    "* 제약조건 아래서 목표함수를 최대/최소화 하는것\n",
    "* y = a(p) 일때 y 가 최대/최소가 되는 p값을 찾는것\n",
    "\n",
    "### 파라미터 추정\n",
    "* 분포 / 모형의 파라미터를 추정하는 것\n",
    "* 오차가 가장 작아지는 파라미터를 찾는것\n",
    "\n",
    "### How? Mean Square Error (평균 오차 제곱)\n",
    "* 가장 많이 쓰임\n",
    "* 연속변수를 예측할때 (이항분포 X)\n",
    "* 오차 = 예측과 실제의 차이\n",
    "* 평균 오차 제곱이 최소화 되도록 파라미터를 추정\n",
    "* 모든 예측을 평균으로 하면 MSE = 분산\n",
    "    * 분산이 큼 = 전체를 평균값으로 예측한 경우 오차가 큼\n",
    "    * 분산이 작음 = 전체를 평균값으로 예측한 경우 오차가 작음"
   ]
  },
  {
   "cell_type": "markdown",
   "metadata": {},
   "source": [
    "## 정규분포 데이터 만들기"
   ]
  },
  {
   "cell_type": "code",
   "execution_count": 9,
   "metadata": {},
   "outputs": [],
   "source": [
    "from numpy.random import normal"
   ]
  },
  {
   "cell_type": "code",
   "execution_count": 10,
   "metadata": {},
   "outputs": [],
   "source": [
    "data = normal(50, 15, 100)"
   ]
  },
  {
   "cell_type": "code",
   "execution_count": 11,
   "metadata": {},
   "outputs": [
    {
     "data": {
      "text/plain": [
       "<matplotlib.axes._subplots.AxesSubplot at 0x2072909e4c8>"
      ]
     },
     "execution_count": 11,
     "metadata": {},
     "output_type": "execute_result"
    },
    {
     "data": {
      "image/png": "[encoded data removed]",
      "text/plain": [
       "<Figure size 432x288 with 1 Axes>"
      ]
     },
     "metadata": {
      "needs_background": "light"
     },
     "output_type": "display_data"
    }
   ],
   "source": [
    "seaborn.distplot(data)"
   ]
  },
  {
   "cell_type": "markdown",
   "metadata": {},
   "source": [
    "## 추정한 평균에 따라 MSE 구하기"
   ]
  },
  {
   "cell_type": "code",
   "execution_count": 12,
   "metadata": {},
   "outputs": [],
   "source": [
    "import numpy"
   ]
  },
  {
   "cell_type": "code",
   "execution_count": 13,
   "metadata": {},
   "outputs": [],
   "source": [
    "평균 = 99"
   ]
  },
  {
   "cell_type": "code",
   "execution_count": 14,
   "metadata": {},
   "outputs": [
    {
     "data": {
      "text/plain": [
       "2700.8117279266025"
      ]
     },
     "execution_count": 14,
     "metadata": {},
     "output_type": "execute_result"
    }
   ],
   "source": [
    "numpy.mean((data - 평균) ** 2)  # MSE"
   ]
  },
  {
   "cell_type": "markdown",
   "metadata": {},
   "source": [
    "정규분포에서 나온 데이터가 있을 때 모분포의 평균을 어떻게 추정하나?\n",
    "MSE가 가장 작아지는 예측값을 모분포의 평균으로 추정\n",
    "(수학적인 이유로 데이터의 평균이 MSE가 가장 작음)\n",
    "(그래서 데이터의 평균이 모분포의 평균에 대한 가장 좋은 추정치가 됨)"
   ]
  },
  {
   "cell_type": "markdown",
   "metadata": {},
   "source": [
    "## MSE를 최소화하는 예측값 구하기"
   ]
  },
  {
   "cell_type": "code",
   "execution_count": 16,
   "metadata": {},
   "outputs": [],
   "source": [
    "from scipy.optimize import minimize"
   ]
  },
  {
   "cell_type": "code",
   "execution_count": 17,
   "metadata": {},
   "outputs": [],
   "source": [
    "# 예측에 평균값을 넣으면 MSE가 가장 작아짐\n",
    "\n",
    "def mse(m):\n",
    "    return numpy.mean((data - m) ** 2)"
   ]
  },
  {
   "cell_type": "code",
   "execution_count": 18,
   "metadata": {},
   "outputs": [
    {
     "data": {
      "text/plain": [
       "      fun: 227.4992648640425\n",
       " hess_inv: array([[0.49999993]])\n",
       "      jac: array([-5.7220459e-06])\n",
       "  message: 'Optimization terminated successfully.'\n",
       "     nfev: 18\n",
       "      nit: 3\n",
       "     njev: 6\n",
       "   status: 0\n",
       "  success: True\n",
       "        x: array([49.26758916])"
      ]
     },
     "execution_count": 18,
     "metadata": {},
     "output_type": "execute_result"
    }
   ],
   "source": [
    "# 추정한 최적값 = minimize(함수, 초기값)\n",
    "minimize(mse, 100)"
   ]
  },
  {
   "cell_type": "code",
   "execution_count": 20,
   "metadata": {},
   "outputs": [
    {
     "data": {
      "text/plain": [
       "49.267591421060594"
      ]
     },
     "execution_count": 20,
     "metadata": {},
     "output_type": "execute_result"
    }
   ],
   "source": [
    "# 수학적인 최적값\n",
    "numpy.mean(data)"
   ]
  },
  {
   "cell_type": "markdown",
   "metadata": {},
   "source": [
    "## MAE를 최소화하는 예측값 구하기\n",
    "\n",
    "하지만 MAE의 추정값은 여러개가 될 수 있음 -> MSE 를 더 많이 씀"
   ]
  },
  {
   "cell_type": "code",
   "execution_count": 21,
   "metadata": {},
   "outputs": [],
   "source": [
    "def mae(m):\n",
    "    return numpy.mean(numpy.abs(data - m))"
   ]
  },
  {
   "cell_type": "code",
   "execution_count": 22,
   "metadata": {},
   "outputs": [
    {
     "data": {
      "text/plain": [
       "      fun: 12.466960604820374\n",
       " hess_inv: array([[50.80821112]])\n",
       "      jac: array([0.])\n",
       "  message: 'Optimization terminated successfully.'\n",
       "     nfev: 24\n",
       "      nit: 2\n",
       "     njev: 8\n",
       "   status: 0\n",
       "  success: True\n",
       "        x: array([49.69987051])"
      ]
     },
     "execution_count": 22,
     "metadata": {},
     "output_type": "execute_result"
    }
   ],
   "source": [
    "minimize(mae, 100)"
   ]
  },
  {
   "cell_type": "markdown",
   "metadata": {},
   "source": [
    "## 선형 모형의 파라미터 구하기"
   ]
  },
  {
   "cell_type": "code",
   "execution_count": 106,
   "metadata": {},
   "outputs": [],
   "source": [
    "연기력 = numpy.array([4, 4, 3, 5, 2])"
   ]
  },
  {
   "cell_type": "code",
   "execution_count": 86,
   "metadata": {},
   "outputs": [],
   "source": [
    "흥행 = numpy.array([5, 4, 3, 5, 1])"
   ]
  },
  {
   "cell_type": "code",
   "execution_count": 93,
   "metadata": {},
   "outputs": [],
   "source": [
    "def mse(param):\n",
    "    a, b = param\n",
    "    예측 = 연기력 * a + b\n",
    "    return numpy.mean((흥행 - 예측) ** 2)"
   ]
  },
  {
   "cell_type": "code",
   "execution_count": 107,
   "metadata": {},
   "outputs": [
    {
     "data": {
      "text/plain": [
       "      fun: 0.24615384615384853\n",
       " hess_inv: array([[ 0.48076926, -1.73076933],\n",
       "       [-1.73076933,  6.7307696 ]])\n",
       "      jac: array([ 9.31322575e-09, -1.49011612e-08])\n",
       "  message: 'Optimization terminated successfully.'\n",
       "     nfev: 24\n",
       "      nit: 4\n",
       "     njev: 6\n",
       "   status: 0\n",
       "  success: True\n",
       "        x: array([ 1.38461534, -1.38461524])"
      ]
     },
     "execution_count": 107,
     "metadata": {},
     "output_type": "execute_result"
    }
   ],
   "source": [
    "minimize(mse, [1, 2])"
   ]
  },
  {
   "cell_type": "code",
   "execution_count": 90,
   "metadata": {},
   "outputs": [
    {
     "data": {
      "text/plain": [
       "21.8"
      ]
     },
     "execution_count": 90,
     "metadata": {},
     "output_type": "execute_result"
    }
   ],
   "source": [
    "mse(2, 1)"
   ]
  },
  {
   "cell_type": "markdown",
   "metadata": {},
   "source": [
    "### 실습: 배달식당의 배달속도와 맛에 따른 별점 예측"
   ]
  },
  {
   "cell_type": "code",
   "execution_count": 24,
   "metadata": {},
   "outputs": [
    {
     "data": {
      "text/plain": [
       "97.4"
      ]
     },
     "execution_count": 24,
     "metadata": {},
     "output_type": "execute_result"
    }
   ],
   "source": [
    "배달속도 = numpy.array([1, 2, 3, 4, 5])\n",
    "맛 = numpy.array([5, 2, 5, 2, 3])\n",
    "별점 = numpy.array([4, 1, 5, 2, 3])\n",
    "\n",
    "def mse(param):\n",
    "    a, b, c = param\n",
    "    예측 = 배달속도 * a + 맛 * b + c\n",
    "    return numpy.mean((별점 - 예측) ** 2)\n",
    "\n",
    "mse((1, 2, 3))"
   ]
  },
  {
   "cell_type": "code",
   "execution_count": 25,
   "metadata": {},
   "outputs": [
    {
     "data": {
      "text/plain": [
       "      fun: 0.03368421052644218\n",
       " hess_inv: array([[ 0.30261666,  0.13153178, -1.35472174],\n",
       "       [ 0.13153178,  0.32879919, -1.51146053],\n",
       "       [-1.35472174, -1.51146053,  9.69109502]])\n",
       "      jac: array([-2.08243728e-06, -2.18814239e-06, -6.88713044e-07])\n",
       "  message: 'Optimization terminated successfully.'\n",
       "     nfev: 60\n",
       "      nit: 10\n",
       "     njev: 12\n",
       "   status: 0\n",
       "  success: True\n",
       "        x: array([ 0.35263154,  1.13157893, -1.90526333])"
      ]
     },
     "execution_count": 25,
     "metadata": {},
     "output_type": "execute_result"
    }
   ],
   "source": [
    "minimize(mse, (1, 1, 1))"
   ]
  },
  {
   "cell_type": "markdown",
   "metadata": {},
   "source": [
    "## 독립변수가 2개인 선형 모형"
   ]
  },
  {
   "cell_type": "code",
   "execution_count": 26,
   "metadata": {},
   "outputs": [],
   "source": [
    "내가_상대를 = numpy.array([3,5,3,5,5,2,5,4,0,5]) \n",
    "상대가_나를 = numpy.array([3,2,5,5,5,5,5,4,5,0])\n",
    "연애가_잘 = numpy.array([0,1,4,3,0,0,5,3,0,0])"
   ]
  },
  {
   "cell_type": "code",
   "execution_count": 27,
   "metadata": {},
   "outputs": [],
   "source": [
    "def mse(param):\n",
    "    a, b, c = param\n",
    "    예측 = a * 내가_상대를 + b*상대가_나를 + c\n",
    "    return numpy.mean((연애가_잘 - 예측) ** 2)"
   ]
  },
  {
   "cell_type": "code",
   "execution_count": 28,
   "metadata": {},
   "outputs": [
    {
     "data": {
      "text/plain": [
       "      fun: 2.1063515269661615\n",
       " hess_inv: array([[ 0.21862405,  0.07527722, -1.10245981],\n",
       "       [ 0.07527722,  0.21247388, -1.10723072],\n",
       "       [-1.10245981, -1.10723072,  8.89741746]])\n",
       "      jac: array([ 1.96695328e-06, -1.96695328e-06,  5.96046448e-08])\n",
       "  message: 'Optimization terminated successfully.'\n",
       "     nfev: 35\n",
       "      nit: 5\n",
       "     njev: 7\n",
       "   status: 0\n",
       "  success: True\n",
       "        x: array([ 0.60347644,  0.63986315, -3.12832911])"
      ]
     },
     "execution_count": 28,
     "metadata": {},
     "output_type": "execute_result"
    }
   ],
   "source": [
    "minimize(mse, [0,0,3])"
   ]
  },
  {
   "cell_type": "markdown",
   "metadata": {},
   "source": [
    "## 우도 (Likelihood)\n",
    "\n",
    "* 모형과 파라미터를 가정했을 때 현재 데이터 D가 관찰될 확률\n",
    "* P(D|M)\n",
    "* 특정한 경우, 확률 중에서도 특정 데이터가 관찰될 확률\n",
    "\n",
    "### 최대우도법 (Maximum Likelihood)\n",
    "\n",
    "우도를 최대로 하는 파라미터를 찾는 방법"
   ]
  },
  {
   "cell_type": "markdown",
   "metadata": {},
   "source": [
    "## ML로 이항분포의 파라미터 구하기"
   ]
  },
  {
   "cell_type": "code",
   "execution_count": 29,
   "metadata": {},
   "outputs": [],
   "source": [
    "from scipy.stats import binom"
   ]
  },
  {
   "cell_type": "code",
   "execution_count": 30,
   "metadata": {},
   "outputs": [],
   "source": [
    "# ex) 앞면이 나올 확률이 20% 인 동전을 두번 던졌을때 앞면이 나올 확률은?\n",
    "data = binomial(2, .2, 100)"
   ]
  },
  {
   "cell_type": "code",
   "execution_count": 31,
   "metadata": {},
   "outputs": [
    {
     "data": {
      "text/plain": [
       "array([1, 0, 0, 0, 0, 0, 0, 0, 0, 0, 0, 1, 0, 0, 1, 1, 1, 0, 0, 0, 0, 0,\n",
       "       0, 0, 0, 1, 0, 1, 1, 0, 0, 1, 0, 0, 0, 0, 1, 0, 0, 1, 0, 0, 0, 1,\n",
       "       1, 1, 0, 0, 0, 0, 1, 0, 0, 1, 0, 1, 1, 0, 0, 0, 0, 1, 1, 1, 0, 1,\n",
       "       0, 1, 1, 0, 0, 1, 1, 0, 1, 0, 0, 0, 0, 0, 0, 0, 1, 1, 0, 0, 0, 1,\n",
       "       1, 0, 0, 0, 0, 0, 0, 0, 0, 0, 0, 0])"
      ]
     },
     "execution_count": 31,
     "metadata": {},
     "output_type": "execute_result"
    }
   ],
   "source": [
    "data"
   ]
  },
  {
   "cell_type": "code",
   "execution_count": 32,
   "metadata": {},
   "outputs": [
    {
     "data": {
      "text/plain": [
       "0.25"
      ]
     },
     "execution_count": 32,
     "metadata": {},
     "output_type": "execute_result"
    }
   ],
   "source": [
    "# 앞면이 나올 확률이 50%인 동전 2개를 던졌을때 앞면이 0개 나올 확률은?\n",
    "binom.pmf(0, 2, 0.5)"
   ]
  },
  {
   "cell_type": "code",
   "execution_count": 33,
   "metadata": {},
   "outputs": [
    {
     "data": {
      "text/plain": [
       "array([0.25, 0.5 , 0.25])"
      ]
     },
     "execution_count": 33,
     "metadata": {},
     "output_type": "execute_result"
    }
   ],
   "source": [
    "binom.pmf([0, 1, 2], 2, 0.5)"
   ]
  },
  {
   "cell_type": "markdown",
   "metadata": {},
   "source": [
    "### 로그 우도 (Log Likelihood)\n",
    "\n",
    "* 많은 우도를 곱할 경우 뒷자리가 떨어져 나가서 정확하지 않음\n",
    "* 로그 우도를 쓰면 계산이 더 정확하고 간편함"
   ]
  },
  {
   "cell_type": "code",
   "execution_count": 35,
   "metadata": {},
   "outputs": [],
   "source": [
    "data = binomial(2, .2, 100)\n",
    "p = 0.5"
   ]
  },
  {
   "cell_type": "code",
   "execution_count": 37,
   "metadata": {},
   "outputs": [
    {
     "data": {
      "text/plain": [
       "-106.74466580623158"
      ]
     },
     "execution_count": 37,
     "metadata": {},
     "output_type": "execute_result"
    }
   ],
   "source": [
    "# 우도의 로그의 합 = 우도의 곱의 로그\n",
    "\n",
    "likelihood = binom.pmf(data, 2, p)\n",
    "numpy.sum(numpy.log(likelihood))"
   ]
  },
  {
   "cell_type": "code",
   "execution_count": 39,
   "metadata": {},
   "outputs": [],
   "source": [
    "def lk(p):\n",
    "    like = binom.pmf(data, 2, p)\n",
    "    return -numpy.sum(numpy.log(like))  # 우도의 로그의 합 = 우도의 곱의 로그"
   ]
  },
  {
   "cell_type": "code",
   "execution_count": 40,
   "metadata": {},
   "outputs": [
    {
     "data": {
      "text/plain": [
       "      fun: 82.72661312052674\n",
       " hess_inv: <1x1 LbfgsInvHessProduct with dtype=float64>\n",
       "      jac: array([-1.56319402e-05])\n",
       "  message: b'CONVERGENCE: REL_REDUCTION_OF_F_<=_FACTR*EPSMCH'\n",
       "     nfev: 14\n",
       "      nit: 5\n",
       "   status: 0\n",
       "  success: True\n",
       "        x: array([0.25999999])"
      ]
     },
     "execution_count": 40,
     "metadata": {},
     "output_type": "execute_result"
    }
   ],
   "source": [
    "minimize(lk, .5, bounds=[(0.01, 0.99)])"
   ]
  },
  {
   "cell_type": "markdown",
   "metadata": {},
   "source": [
    "## ML로 로지스틱 선형 모형 파라미터 구하기"
   ]
  },
  {
   "cell_type": "code",
   "execution_count": 41,
   "metadata": {},
   "outputs": [],
   "source": [
    "from scipy.special import expit  # 로지스틱"
   ]
  },
  {
   "cell_type": "markdown",
   "metadata": {},
   "source": [
    "### 예시 1"
   ]
  },
  {
   "cell_type": "code",
   "execution_count": 47,
   "metadata": {},
   "outputs": [],
   "source": [
    "찌개 = numpy.array([5, 1, 3, 4, 5, 3]) # 김치찌개 5 4 3 2 1 된장찌개\n",
    "커피 = numpy.array([0, 1, 0, 1, 1, 1]) # 아메리카노: 1, 라떼 = 0"
   ]
  },
  {
   "cell_type": "code",
   "execution_count": 48,
   "metadata": {},
   "outputs": [
    {
     "data": {
      "text/plain": [
       "array([0.84553473, 0.62245933, 0.75026011, 0.80218389, 0.84553473,\n",
       "       0.75026011])"
      ]
     },
     "execution_count": 48,
     "metadata": {},
     "output_type": "execute_result"
    }
   ],
   "source": [
    "a = 0.3\n",
    "b = 0.2\n",
    "\n",
    "예측 = expit(찌개 * a + b)\n",
    "예측"
   ]
  },
  {
   "cell_type": "code",
   "execution_count": 49,
   "metadata": {},
   "outputs": [
    {
     "data": {
      "text/plain": [
       "[0.16, 0.62, 0.25, 0.8, 0.84, 0.75]"
      ]
     },
     "execution_count": 49,
     "metadata": {},
     "output_type": "execute_result"
    }
   ],
   "source": [
    "# 커피 예측 결과에 대한 우도\n",
    "# 아메리카노(1) 인 경우 예측갑 그대로\n",
    "# 라떼(0)인 경우 (1-예측값)\n",
    "\n",
    "[0.16, 0.62, 0.25, 0.80, 0.84, 0.75]"
   ]
  },
  {
   "cell_type": "markdown",
   "metadata": {},
   "source": [
    "### 예시 2"
   ]
  },
  {
   "cell_type": "code",
   "execution_count": 42,
   "metadata": {},
   "outputs": [],
   "source": [
    "실력 = numpy.array([1, 5, 3, 4, 5, 3])  \n",
    "합격 = numpy.array([0, 1, 0, 0, 1, 1]) # 합격 1, 불합격 0"
   ]
  },
  {
   "cell_type": "code",
   "execution_count": 50,
   "metadata": {},
   "outputs": [
    {
     "data": {
      "text/plain": [
       "array([0.62245933, 0.84553473, 0.75026011, 0.80218389, 0.84553473,\n",
       "       0.75026011])"
      ]
     },
     "execution_count": 50,
     "metadata": {},
     "output_type": "execute_result"
    }
   ],
   "source": [
    "예측 = expit(실력 * a + b)\n",
    "예측"
   ]
  },
  {
   "cell_type": "code",
   "execution_count": 52,
   "metadata": {},
   "outputs": [
    {
     "data": {
      "text/plain": [
       "array([-0.        , -0.16778603, -0.        , -0.        , -0.16778603,\n",
       "       -0.28733533])"
      ]
     },
     "execution_count": 52,
     "metadata": {},
     "output_type": "execute_result"
    }
   ],
   "source": [
    "# 탈락한 사람의 우도만 보기\n",
    "합격자우도 = numpy.log(예측) * 합격\n",
    "합격자우도"
   ]
  },
  {
   "cell_type": "code",
   "execution_count": 54,
   "metadata": {},
   "outputs": [
    {
     "data": {
      "text/plain": [
       "array([-0.97407698, -0.        , -1.38733533, -1.62041741, -0.        ,\n",
       "       -0.        ])"
      ]
     },
     "execution_count": 54,
     "metadata": {},
     "output_type": "execute_result"
    }
   ],
   "source": [
    "# 탈락한 사람의 우도만 보기\n",
    "탈락자우도 = numpy.log(1 - 예측)*(1 - 합격)\n",
    "탈락자우도"
   ]
  },
  {
   "cell_type": "code",
   "execution_count": 55,
   "metadata": {},
   "outputs": [
    {
     "data": {
      "text/plain": [
       "array([-0.97407698, -0.16778603, -1.38733533, -1.62041741, -0.16778603,\n",
       "       -0.28733533])"
      ]
     },
     "execution_count": 55,
     "metadata": {},
     "output_type": "execute_result"
    }
   ],
   "source": [
    "우도 = 합격자우도 + 탈락자우도\n",
    "우도"
   ]
  },
  {
   "cell_type": "code",
   "execution_count": 56,
   "metadata": {},
   "outputs": [],
   "source": [
    "def lk(param):\n",
    "    a, b = param\n",
    "    합격확률 = expit(a * 실력 + b)  # 로지스틱 선형 모형\n",
    "    \n",
    "    합격자우도 = numpy.log(합격확률) * 합격\n",
    "    탈락자우도 = numpy.log(1-합격확률) * (1-합격)\n",
    "    우도 = 합격자우도 + 탈락자우도\n",
    "    return -numpy.sum(우도)"
   ]
  },
  {
   "cell_type": "code",
   "execution_count": 57,
   "metadata": {},
   "outputs": [
    {
     "data": {
      "text/plain": [
       "      fun: 2.8550135317560628\n",
       " hess_inv: array([[ 1.08423602, -3.96722068],\n",
       "       [-3.96722068, 15.55616106]])\n",
       "      jac: array([-2.86102295e-06, -1.25169754e-06])\n",
       "  message: 'Optimization terminated successfully.'\n",
       "     nfev: 48\n",
       "      nit: 10\n",
       "     njev: 12\n",
       "   status: 0\n",
       "  success: True\n",
       "        x: array([ 1.30380162, -4.70457229])"
      ]
     },
     "execution_count": 57,
     "metadata": {},
     "output_type": "execute_result"
    }
   ],
   "source": [
    "minimize(lk, [0,0])"
   ]
  },
  {
   "cell_type": "markdown",
   "metadata": {},
   "source": [
    "## MSE로 로지스틱 선형 모형 파라미터 구하기"
   ]
  },
  {
   "cell_type": "code",
   "execution_count": 58,
   "metadata": {},
   "outputs": [],
   "source": [
    "def mse(param):\n",
    "    a, b = param\n",
    "    합격확률 = expit(a * 실력 + b)  # 로지스틱 선형 모형\n",
    "    \n",
    "    return numpy.mean((합격확률 - 합격) ** 2)"
   ]
  },
  {
   "cell_type": "code",
   "execution_count": 59,
   "metadata": {},
   "outputs": [
    {
     "data": {
      "text/plain": [
       "      fun: 0.16364995295643134\n",
       " hess_inv: array([[ 12.63181536, -49.86185941],\n",
       "       [-49.86185941, 210.55609665]])\n",
       "      jac: array([-9.39518213e-06, -3.57255340e-06])\n",
       "  message: 'Optimization terminated successfully.'\n",
       "     nfev: 60\n",
       "      nit: 13\n",
       "     njev: 15\n",
       "   status: 0\n",
       "  success: True\n",
       "        x: array([ 1.03872501, -3.84403032])"
      ]
     },
     "execution_count": 59,
     "metadata": {},
     "output_type": "execute_result"
    }
   ],
   "source": [
    "minimize(mse, [0, 0])"
   ]
  },
  {
   "cell_type": "markdown",
   "metadata": {},
   "source": [
    "## 자동차 데이터에 선형 모형 적용\n",
    "\n",
    "데이터: https://archive.ics.uci.edu/ml/machine-learning-databases/autos/imports-85.data"
   ]
  },
  {
   "cell_type": "code",
   "execution_count": 60,
   "metadata": {},
   "outputs": [],
   "source": [
    "import pandas"
   ]
  },
  {
   "cell_type": "code",
   "execution_count": 64,
   "metadata": {},
   "outputs": [],
   "source": [
    "df = pandas.read_csv('imports-85.data', header=None)"
   ]
  },
  {
   "cell_type": "code",
   "execution_count": 65,
   "metadata": {},
   "outputs": [],
   "source": [
    "안전등급 = df[0]\n",
    "연비 = df[24]"
   ]
  },
  {
   "cell_type": "code",
   "execution_count": 66,
   "metadata": {},
   "outputs": [],
   "source": [
    "def mse(param):\n",
    "    a, b = param\n",
    "    예측 = a * 연비 + b \n",
    "    return numpy.mean((안전등급 - 예측)**2)"
   ]
  },
  {
   "cell_type": "code",
   "execution_count": 67,
   "metadata": {},
   "outputs": [
    {
     "data": {
      "text/plain": [
       "      fun: 1.5413761440213387\n",
       " hess_inv: array([[ 0.01059507, -0.32581132],\n",
       "       [-0.32581132, 10.51909557]])\n",
       "      jac: array([0.00000000e+00, 1.49011612e-08])\n",
       "  message: 'Optimization terminated successfully.'\n",
       "     nfev: 24\n",
       "      nit: 3\n",
       "     njev: 6\n",
       "   status: 0\n",
       "  success: True\n",
       "        x: array([0.00625781, 0.6417112 ])"
      ]
     },
     "execution_count": 67,
     "metadata": {},
     "output_type": "execute_result"
    }
   ],
   "source": [
    "minimize(mse, [0, 0])"
   ]
  },
  {
   "cell_type": "markdown",
   "metadata": {},
   "source": [
    "## Scikit-Learn의 선형 모형 함수로 파라미터 구하기"
   ]
  },
  {
   "cell_type": "code",
   "execution_count": 68,
   "metadata": {},
   "outputs": [],
   "source": [
    "from sklearn.linear_model import LinearRegression"
   ]
  },
  {
   "cell_type": "code",
   "execution_count": 69,
   "metadata": {},
   "outputs": [],
   "source": [
    "m = LinearRegression().fit(df[[23, 24]], 안전등급)"
   ]
  },
  {
   "cell_type": "code",
   "execution_count": 70,
   "metadata": {},
   "outputs": [
    {
     "data": {
      "text/plain": [
       "array([-0.23391805,  0.22211124])"
      ]
     },
     "execution_count": 70,
     "metadata": {},
     "output_type": "execute_result"
    }
   ],
   "source": [
    "m.coef_"
   ]
  },
  {
   "cell_type": "code",
   "execution_count": null,
   "metadata": {},
   "outputs": [],
   "source": []
  }
 ],
 "metadata": {
  "kernelspec": {
   "display_name": "Python 3",
   "language": "python",
   "name": "python3"
  },
  "language_info": {
   "codemirror_mode": {
    "name": "ipython",
    "version": 3
   },
   "file_extension": ".py",
   "mimetype": "text/x-python",
   "name": "python",
   "nbconvert_exporter": "python",
   "pygments_lexer": "ipython3",
   "version": "3.7.4"
  }
 },
 "nbformat": 4,
 "nbformat_minor": 2
}
