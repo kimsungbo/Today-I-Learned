{
 "cells": [
  {
   "cell_type": "markdown",
   "metadata": {},
   "source": [
    "# Prediction (예측)"
   ]
  },
  {
   "cell_type": "markdown",
   "metadata": {},
   "source": [
    "## Correlation (상관)\n",
    "* Two variables are interrelated (두 변수가 서로 관련이 있음)"
   ]
  },
  {
   "cell_type": "markdown",
   "metadata": {},
   "source": [
    "### Scatterplot (산점도)\n",
    "* Visualization of the relationship between two continuous variables (두 연속 변수의 관계를 시각화)\n",
    "* Single dot represents a single data (한 건의 데이터를 점으로 표시)"
   ]
  },
  {
   "cell_type": "markdown",
   "metadata": {},
   "source": [
    "### Covariance (공분산)\n",
    "* 두 연속변수의 관계를 수치화\n",
    "* 두 변수가 같은 방향으로 변하면 +, 반대 방향으로 변하면 -\n",
    "* 함께 변하는 경향이 강할 수록 절대적 크기가 커짐"
   ]
  },
  {
   "cell_type": "markdown",
   "metadata": {},
   "source": [
    "### Correlation Coefficient (상관계수)\n",
    "* 공분산을 두 변수의 표준편차로 나눈 것\n",
    "* 항상 -1 ~ +1 범위\n",
    "\n",
    "* +1: 완벽하게 같은 방향으로 움직임\n",
    "* 0: 아무 관계 없음\n",
    "* -1: 완벽하게 반대 방향으로 움직임"
   ]
  },
  {
   "cell_type": "markdown",
   "metadata": {},
   "source": [
    "### Spurious Correlation (허위 상관관계)\n",
    "* 두 변수 사이에 실제로는 관계가 없어도 상관관계가 나타나는 경우\n",
    "* 데이터가 적을수록 나타나기 쉬움\n",
    "* 해답 - 상관계수의 신뢰구간을 확인"
   ]
  },
  {
   "cell_type": "code",
   "execution_count": 2,
   "metadata": {},
   "outputs": [],
   "source": [
    "import pandas as pd"
   ]
  },
  {
   "cell_type": "code",
   "execution_count": 3,
   "metadata": {},
   "outputs": [],
   "source": [
    "cars = pd.read_csv('./cars.csv')"
   ]
  },
  {
   "cell_type": "code",
   "execution_count": 4,
   "metadata": {},
   "outputs": [
    {
     "data": {
      "text/html": [
       "<div>\n",
       "<style scoped>\n",
       "    .dataframe tbody tr th:only-of-type {\n",
       "        vertical-align: middle;\n",
       "    }\n",
       "\n",
       "    .dataframe tbody tr th {\n",
       "        vertical-align: top;\n",
       "    }\n",
       "\n",
       "    .dataframe thead th {\n",
       "        text-align: right;\n",
       "    }\n",
       "</style>\n",
       "<table border=\"1\" class=\"dataframe\">\n",
       "  <thead>\n",
       "    <tr style=\"text-align: right;\">\n",
       "      <th></th>\n",
       "      <th>Unnamed: 0</th>\n",
       "      <th>speed</th>\n",
       "      <th>dist</th>\n",
       "    </tr>\n",
       "  </thead>\n",
       "  <tbody>\n",
       "    <tr>\n",
       "      <th>0</th>\n",
       "      <td>1</td>\n",
       "      <td>4</td>\n",
       "      <td>2</td>\n",
       "    </tr>\n",
       "    <tr>\n",
       "      <th>1</th>\n",
       "      <td>2</td>\n",
       "      <td>4</td>\n",
       "      <td>10</td>\n",
       "    </tr>\n",
       "    <tr>\n",
       "      <th>2</th>\n",
       "      <td>3</td>\n",
       "      <td>7</td>\n",
       "      <td>4</td>\n",
       "    </tr>\n",
       "    <tr>\n",
       "      <th>3</th>\n",
       "      <td>4</td>\n",
       "      <td>7</td>\n",
       "      <td>22</td>\n",
       "    </tr>\n",
       "    <tr>\n",
       "      <th>4</th>\n",
       "      <td>5</td>\n",
       "      <td>8</td>\n",
       "      <td>16</td>\n",
       "    </tr>\n",
       "  </tbody>\n",
       "</table>\n",
       "</div>"
      ],
      "text/plain": [
       "   Unnamed: 0  speed  dist\n",
       "0           1      4     2\n",
       "1           2      4    10\n",
       "2           3      7     4\n",
       "3           4      7    22\n",
       "4           5      8    16"
      ]
     },
     "execution_count": 4,
     "metadata": {},
     "output_type": "execute_result"
    }
   ],
   "source": [
    "cars.head()"
   ]
  },
  {
   "cell_type": "markdown",
   "metadata": {},
   "source": [
    "### 상관계수 확인"
   ]
  },
  {
   "cell_type": "code",
   "execution_count": 6,
   "metadata": {},
   "outputs": [],
   "source": [
    "from scipy.stats import pearsonr"
   ]
  },
  {
   "cell_type": "code",
   "execution_count": 8,
   "metadata": {},
   "outputs": [
    {
     "data": {
      "text/plain": [
       "(0.8068949006892105, 1.4898364962950763e-12)"
      ]
     },
     "execution_count": 8,
     "metadata": {},
     "output_type": "execute_result"
    }
   ],
   "source": [
    "pearsonr(cars['speed'], cars['dist'])"
   ]
  },
  {
   "cell_type": "markdown",
   "metadata": {},
   "source": [
    "해석\n",
    "* 신뢰구간 99.99999999999999999999% 안에 포함됨"
   ]
  },
  {
   "cell_type": "code",
   "execution_count": 18,
   "metadata": {},
   "outputs": [],
   "source": [
    "from sklearn.utils import resample"
   ]
  },
  {
   "cell_type": "code",
   "execution_count": null,
   "metadata": {},
   "outputs": [],
   "source": [
    "df = resample(cars)"
   ]
  },
  {
   "cell_type": "code",
   "execution_count": 19,
   "metadata": {},
   "outputs": [],
   "source": [
    "cors = []                                                # 빈 리스트를 만든다\n",
    "for _ in range(10000):                                   # 1만번 반복\n",
    "    df = resample(cars)                                  # 리샘플링\n",
    "    res = pearsonr(df['speed'], df['dist'])              # 상관계수를 구한다\n",
    "    cors.append(res[0])                                  # 상관계수를 리스트에 추가 [0]은 상관계수, [1]은 p값"
   ]
  },
  {
   "cell_type": "code",
   "execution_count": 20,
   "metadata": {},
   "outputs": [],
   "source": [
    "import numpy"
   ]
  },
  {
   "cell_type": "code",
   "execution_count": 21,
   "metadata": {},
   "outputs": [
    {
     "data": {
      "text/plain": [
       "array([0.69981158, 0.74387962])"
      ]
     },
     "execution_count": 21,
     "metadata": {},
     "output_type": "execute_result"
    }
   ],
   "source": [
    "numpy.quantile(cors, [0.025, 0.0975]) # 상관계수의 95% 신뢰구간\n",
    "# 해석: 내가 95% 장담하는데 p 값은 0.8069에서 0.6998까지밖에 안내려감"
   ]
  },
  {
   "cell_type": "code",
   "execution_count": 23,
   "metadata": {},
   "outputs": [
    {
     "data": {
      "text/plain": [
       "array([0.69981158, 0.74387962])"
      ]
     },
     "execution_count": 23,
     "metadata": {},
     "output_type": "execute_result"
    }
   ],
   "source": [
    "numpy.quantile(cors, [0.025, 0.0975]) # 상관계수의 95% 신뢰구간\n",
    "# 해석: 내가 95% 장담하는데 p 값은 0.8069에서 0.6998까지밖에 안내려감"
   ]
  },
  {
   "cell_type": "markdown",
   "metadata": {},
   "source": [
    "### Pearson 상관계수\n",
    "\n",
    "### Spearman 상관계수\n",
    "* 실제 변수 값 대신 그 서열을 사용하여 피어슨 상관계수를 계싼\n",
    "* 한 변수의 서열이 높아지면 다른 변수의 서열도 높아지는지를 나타냄\n",
    "\n",
    "### Kendall 상관계수\n",
    "* 스피어만 상관계수와 비슷하게 서열의 관계를 수치화, 계산 방법이 다름\n",
    "* 데이터가 작고, 동점이 많을 때 사용"
   ]
  },
  {
   "cell_type": "code",
   "execution_count": 25,
   "metadata": {},
   "outputs": [],
   "source": [
    "liar = pd.read_csv('./liar.csv')"
   ]
  },
  {
   "cell_type": "code",
   "execution_count": 26,
   "metadata": {},
   "outputs": [
    {
     "data": {
      "text/html": [
       "<div>\n",
       "<style scoped>\n",
       "    .dataframe tbody tr th:only-of-type {\n",
       "        vertical-align: middle;\n",
       "    }\n",
       "\n",
       "    .dataframe tbody tr th {\n",
       "        vertical-align: top;\n",
       "    }\n",
       "\n",
       "    .dataframe thead th {\n",
       "        text-align: right;\n",
       "    }\n",
       "</style>\n",
       "<table border=\"1\" class=\"dataframe\">\n",
       "  <thead>\n",
       "    <tr style=\"text-align: right;\">\n",
       "      <th></th>\n",
       "      <th>Creativity</th>\n",
       "      <th>Position</th>\n",
       "      <th>Novice</th>\n",
       "    </tr>\n",
       "  </thead>\n",
       "  <tbody>\n",
       "    <tr>\n",
       "      <th>0</th>\n",
       "      <td>53</td>\n",
       "      <td>1</td>\n",
       "      <td>0</td>\n",
       "    </tr>\n",
       "    <tr>\n",
       "      <th>1</th>\n",
       "      <td>36</td>\n",
       "      <td>3</td>\n",
       "      <td>1</td>\n",
       "    </tr>\n",
       "    <tr>\n",
       "      <th>2</th>\n",
       "      <td>31</td>\n",
       "      <td>4</td>\n",
       "      <td>0</td>\n",
       "    </tr>\n",
       "    <tr>\n",
       "      <th>3</th>\n",
       "      <td>43</td>\n",
       "      <td>2</td>\n",
       "      <td>0</td>\n",
       "    </tr>\n",
       "    <tr>\n",
       "      <th>4</th>\n",
       "      <td>30</td>\n",
       "      <td>4</td>\n",
       "      <td>1</td>\n",
       "    </tr>\n",
       "  </tbody>\n",
       "</table>\n",
       "</div>"
      ],
      "text/plain": [
       "   Creativity  Position  Novice\n",
       "0          53         1       0\n",
       "1          36         3       1\n",
       "2          31         4       0\n",
       "3          43         2       0\n",
       "4          30         4       1"
      ]
     },
     "execution_count": 26,
     "metadata": {},
     "output_type": "execute_result"
    }
   ],
   "source": [
    "liar.head()"
   ]
  },
  {
   "cell_type": "code",
   "execution_count": 27,
   "metadata": {},
   "outputs": [],
   "source": [
    "from scipy.stats import spearmanr, kendalltau"
   ]
  },
  {
   "cell_type": "markdown",
   "metadata": {},
   "source": [
    "창의성과 거짓말 등수 사이에 역상관 --> 창의성이 높을수록 거짓말을 잘한다"
   ]
  },
  {
   "cell_type": "code",
   "execution_count": 28,
   "metadata": {},
   "outputs": [
    {
     "data": {
      "text/plain": [
       "SpearmanrResult(correlation=-0.37321838128767815, pvalue=0.0017204168895658578)"
      ]
     },
     "execution_count": 28,
     "metadata": {},
     "output_type": "execute_result"
    }
   ],
   "source": [
    "spearmanr(liar['Creativity'], liar['Position'])"
   ]
  },
  {
   "cell_type": "code",
   "execution_count": 29,
   "metadata": {},
   "outputs": [
    {
     "data": {
      "text/plain": [
       "KendalltauResult(correlation=-0.3002413080651747, pvalue=0.001258802279346817)"
      ]
     },
     "execution_count": 29,
     "metadata": {},
     "output_type": "execute_result"
    }
   ],
   "source": [
    "kendalltau(liar['Creativity'], liar['Position'])"
   ]
  },
  {
   "cell_type": "code",
   "execution_count": 30,
   "metadata": {},
   "outputs": [
    {
     "data": {
      "text/plain": [
       "(-0.30603143483570205, 0.01114802877289378)"
      ]
     },
     "execution_count": 30,
     "metadata": {},
     "output_type": "execute_result"
    }
   ],
   "source": [
    "pearsonr(liar['Creativity'], liar['Position'])"
   ]
  },
  {
   "cell_type": "markdown",
   "metadata": {},
   "source": [
    "## Regression (회기분석)\n",
    "* 가장 넓은 의미: x -> y 예측\n",
    "* 중간의미: y가 연속인경우 (y가 범주형인 경우는 분류)\n",
    "* 좁은의미: 선형 회기 분석(선형 모형을 이용한 회기분석)"
   ]
  },
  {
   "cell_type": "markdown",
   "metadata": {},
   "source": [
    "### 자동차 데이터로 회귀분석"
   ]
  },
  {
   "cell_type": "code",
   "execution_count": 33,
   "metadata": {},
   "outputs": [],
   "source": [
    "from statsmodels.formula.api import ols"
   ]
  },
  {
   "cell_type": "code",
   "execution_count": 34,
   "metadata": {},
   "outputs": [],
   "source": [
    "res = ols('speed ~ dist', data = cars).fit()"
   ]
  },
  {
   "cell_type": "code",
   "execution_count": 35,
   "metadata": {},
   "outputs": [
    {
     "data": {
      "text/html": [
       "<table class=\"simpletable\">\n",
       "<caption>OLS Regression Results</caption>\n",
       "<tr>\n",
       "  <th>Dep. Variable:</th>          <td>speed</td>      <th>  R-squared:         </th> <td>   0.651</td>\n",
       "</tr>\n",
       "<tr>\n",
       "  <th>Model:</th>                   <td>OLS</td>       <th>  Adj. R-squared:    </th> <td>   0.644</td>\n",
       "</tr>\n",
       "<tr>\n",
       "  <th>Method:</th>             <td>Least Squares</td>  <th>  F-statistic:       </th> <td>   89.57</td>\n",
       "</tr>\n",
       "<tr>\n",
       "  <th>Date:</th>             <td>Mon, 16 Sep 2019</td> <th>  Prob (F-statistic):</th> <td>1.49e-12</td>\n",
       "</tr>\n",
       "<tr>\n",
       "  <th>Time:</th>                 <td>13:51:44</td>     <th>  Log-Likelihood:    </th> <td> -127.39</td>\n",
       "</tr>\n",
       "<tr>\n",
       "  <th>No. Observations:</th>      <td>    50</td>      <th>  AIC:               </th> <td>   258.8</td>\n",
       "</tr>\n",
       "<tr>\n",
       "  <th>Df Residuals:</th>          <td>    48</td>      <th>  BIC:               </th> <td>   262.6</td>\n",
       "</tr>\n",
       "<tr>\n",
       "  <th>Df Model:</th>              <td>     1</td>      <th>                     </th>     <td> </td>   \n",
       "</tr>\n",
       "<tr>\n",
       "  <th>Covariance Type:</th>      <td>nonrobust</td>    <th>                     </th>     <td> </td>   \n",
       "</tr>\n",
       "</table>\n",
       "<table class=\"simpletable\">\n",
       "<tr>\n",
       "      <td></td>         <th>coef</th>     <th>std err</th>      <th>t</th>      <th>P>|t|</th>  <th>[0.025</th>    <th>0.975]</th>  \n",
       "</tr>\n",
       "<tr>\n",
       "  <th>Intercept</th> <td>    8.2839</td> <td>    0.874</td> <td>    9.474</td> <td> 0.000</td> <td>    6.526</td> <td>   10.042</td>\n",
       "</tr>\n",
       "<tr>\n",
       "  <th>dist</th>      <td>    0.1656</td> <td>    0.017</td> <td>    9.464</td> <td> 0.000</td> <td>    0.130</td> <td>    0.201</td>\n",
       "</tr>\n",
       "</table>\n",
       "<table class=\"simpletable\">\n",
       "<tr>\n",
       "  <th>Omnibus:</th>       <td> 0.720</td> <th>  Durbin-Watson:     </th> <td>   1.195</td>\n",
       "</tr>\n",
       "<tr>\n",
       "  <th>Prob(Omnibus):</th> <td> 0.698</td> <th>  Jarque-Bera (JB):  </th> <td>   0.827</td>\n",
       "</tr>\n",
       "<tr>\n",
       "  <th>Skew:</th>          <td>-0.207</td> <th>  Prob(JB):          </th> <td>   0.661</td>\n",
       "</tr>\n",
       "<tr>\n",
       "  <th>Kurtosis:</th>      <td> 2.526</td> <th>  Cond. No.          </th> <td>    98.0</td>\n",
       "</tr>\n",
       "</table><br/><br/>Warnings:<br/>[1] Standard Errors assume that the covariance matrix of the errors is correctly specified."
      ],
      "text/plain": [
       "<class 'statsmodels.iolib.summary.Summary'>\n",
       "\"\"\"\n",
       "                            OLS Regression Results                            \n",
       "==============================================================================\n",
       "Dep. Variable:                  speed   R-squared:                       0.651\n",
       "Model:                            OLS   Adj. R-squared:                  0.644\n",
       "Method:                 Least Squares   F-statistic:                     89.57\n",
       "Date:                Mon, 16 Sep 2019   Prob (F-statistic):           1.49e-12\n",
       "Time:                        13:51:44   Log-Likelihood:                -127.39\n",
       "No. Observations:                  50   AIC:                             258.8\n",
       "Df Residuals:                      48   BIC:                             262.6\n",
       "Df Model:                           1                                         \n",
       "Covariance Type:            nonrobust                                         \n",
       "==============================================================================\n",
       "                 coef    std err          t      P>|t|      [0.025      0.975]\n",
       "------------------------------------------------------------------------------\n",
       "Intercept      8.2839      0.874      9.474      0.000       6.526      10.042\n",
       "dist           0.1656      0.017      9.464      0.000       0.130       0.201\n",
       "==============================================================================\n",
       "Omnibus:                        0.720   Durbin-Watson:                   1.195\n",
       "Prob(Omnibus):                  0.698   Jarque-Bera (JB):                0.827\n",
       "Skew:                          -0.207   Prob(JB):                        0.661\n",
       "Kurtosis:                       2.526   Cond. No.                         98.0\n",
       "==============================================================================\n",
       "\n",
       "Warnings:\n",
       "[1] Standard Errors assume that the covariance matrix of the errors is correctly specified.\n",
       "\"\"\""
      ]
     },
     "execution_count": 35,
     "metadata": {},
     "output_type": "execute_result"
    }
   ],
   "source": [
    "res.summary()"
   ]
  },
  {
   "cell_type": "code",
   "execution_count": 37,
   "metadata": {},
   "outputs": [],
   "source": [
    "child = pd.read_csv('./child.csv')"
   ]
  },
  {
   "cell_type": "code",
   "execution_count": 38,
   "metadata": {},
   "outputs": [
    {
     "data": {
      "text/html": [
       "<div>\n",
       "<style scoped>\n",
       "    .dataframe tbody tr th:only-of-type {\n",
       "        vertical-align: middle;\n",
       "    }\n",
       "\n",
       "    .dataframe tbody tr th {\n",
       "        vertical-align: top;\n",
       "    }\n",
       "\n",
       "    .dataframe thead th {\n",
       "        text-align: right;\n",
       "    }\n",
       "</style>\n",
       "<table border=\"1\" class=\"dataframe\">\n",
       "  <thead>\n",
       "    <tr style=\"text-align: right;\">\n",
       "      <th></th>\n",
       "      <th>Aggression</th>\n",
       "      <th>Television</th>\n",
       "      <th>Computer_Games</th>\n",
       "      <th>Sibling_Aggression</th>\n",
       "      <th>Diet</th>\n",
       "      <th>Parenting_Style</th>\n",
       "    </tr>\n",
       "  </thead>\n",
       "  <tbody>\n",
       "    <tr>\n",
       "      <th>0</th>\n",
       "      <td>0.374160</td>\n",
       "      <td>0.172671</td>\n",
       "      <td>0.141907</td>\n",
       "      <td>-0.328216</td>\n",
       "      <td>-0.110303</td>\n",
       "      <td>-0.279034</td>\n",
       "    </tr>\n",
       "    <tr>\n",
       "      <th>1</th>\n",
       "      <td>0.771153</td>\n",
       "      <td>-0.032872</td>\n",
       "      <td>0.709918</td>\n",
       "      <td>0.576837</td>\n",
       "      <td>-0.022990</td>\n",
       "      <td>-1.248167</td>\n",
       "    </tr>\n",
       "    <tr>\n",
       "      <th>2</th>\n",
       "      <td>-0.097728</td>\n",
       "      <td>-0.074460</td>\n",
       "      <td>-0.390141</td>\n",
       "      <td>-0.217184</td>\n",
       "      <td>0.280301</td>\n",
       "      <td>-0.328063</td>\n",
       "    </tr>\n",
       "    <tr>\n",
       "      <th>3</th>\n",
       "      <td>0.015935</td>\n",
       "      <td>-0.004427</td>\n",
       "      <td>-0.408080</td>\n",
       "      <td>0.046223</td>\n",
       "      <td>-0.263479</td>\n",
       "      <td>-1.005119</td>\n",
       "    </tr>\n",
       "    <tr>\n",
       "      <th>4</th>\n",
       "      <td>-0.275385</td>\n",
       "      <td>-0.675239</td>\n",
       "      <td>-0.277778</td>\n",
       "      <td>-0.891045</td>\n",
       "      <td>0.226581</td>\n",
       "      <td>0.489478</td>\n",
       "    </tr>\n",
       "  </tbody>\n",
       "</table>\n",
       "</div>"
      ],
      "text/plain": [
       "   Aggression  Television  Computer_Games  Sibling_Aggression      Diet  \\\n",
       "0    0.374160    0.172671        0.141907           -0.328216 -0.110303   \n",
       "1    0.771153   -0.032872        0.709918            0.576837 -0.022990   \n",
       "2   -0.097728   -0.074460       -0.390141           -0.217184  0.280301   \n",
       "3    0.015935   -0.004427       -0.408080            0.046223 -0.263479   \n",
       "4   -0.275385   -0.675239       -0.277778           -0.891045  0.226581   \n",
       "\n",
       "   Parenting_Style  \n",
       "0        -0.279034  \n",
       "1        -1.248167  \n",
       "2        -0.328063  \n",
       "3        -1.005119  \n",
       "4         0.489478  "
      ]
     },
     "execution_count": 38,
     "metadata": {},
     "output_type": "execute_result"
    }
   ],
   "source": [
    "child.head()"
   ]
  },
  {
   "cell_type": "code",
   "execution_count": 40,
   "metadata": {},
   "outputs": [],
   "source": [
    "res = ols('Aggression ~ Computer_Games', child).fit()"
   ]
  },
  {
   "cell_type": "code",
   "execution_count": 41,
   "metadata": {},
   "outputs": [
    {
     "data": {
      "text/html": [
       "<table class=\"simpletable\">\n",
       "<caption>OLS Regression Results</caption>\n",
       "<tr>\n",
       "  <th>Dep. Variable:</th>       <td>Aggression</td>    <th>  R-squared:         </th> <td>   0.035</td>\n",
       "</tr>\n",
       "<tr>\n",
       "  <th>Model:</th>                   <td>OLS</td>       <th>  Adj. R-squared:    </th> <td>   0.033</td>\n",
       "</tr>\n",
       "<tr>\n",
       "  <th>Method:</th>             <td>Least Squares</td>  <th>  F-statistic:       </th> <td>   23.90</td>\n",
       "</tr>\n",
       "<tr>\n",
       "  <th>Date:</th>             <td>Mon, 16 Sep 2019</td> <th>  Prob (F-statistic):</th> <td>1.27e-06</td>\n",
       "</tr>\n",
       "<tr>\n",
       "  <th>Time:</th>                 <td>14:58:42</td>     <th>  Log-Likelihood:    </th> <td> -172.63</td>\n",
       "</tr>\n",
       "<tr>\n",
       "  <th>No. Observations:</th>      <td>   666</td>      <th>  AIC:               </th> <td>   349.3</td>\n",
       "</tr>\n",
       "<tr>\n",
       "  <th>Df Residuals:</th>          <td>   664</td>      <th>  BIC:               </th> <td>   358.3</td>\n",
       "</tr>\n",
       "<tr>\n",
       "  <th>Df Model:</th>              <td>     1</td>      <th>                     </th>     <td> </td>   \n",
       "</tr>\n",
       "<tr>\n",
       "  <th>Covariance Type:</th>      <td>nonrobust</td>    <th>                     </th>     <td> </td>   \n",
       "</tr>\n",
       "</table>\n",
       "<table class=\"simpletable\">\n",
       "<tr>\n",
       "         <td></td>           <th>coef</th>     <th>std err</th>      <th>t</th>      <th>P>|t|</th>  <th>[0.025</th>    <th>0.975]</th>  \n",
       "</tr>\n",
       "<tr>\n",
       "  <th>Intercept</th>      <td>   -0.0068</td> <td>    0.012</td> <td>   -0.560</td> <td> 0.576</td> <td>   -0.031</td> <td>    0.017</td>\n",
       "</tr>\n",
       "<tr>\n",
       "  <th>Computer_Games</th> <td>    0.1742</td> <td>    0.036</td> <td>    4.889</td> <td> 0.000</td> <td>    0.104</td> <td>    0.244</td>\n",
       "</tr>\n",
       "</table>\n",
       "<table class=\"simpletable\">\n",
       "<tr>\n",
       "  <th>Omnibus:</th>       <td>25.478</td> <th>  Durbin-Watson:     </th> <td>   1.929</td>\n",
       "</tr>\n",
       "<tr>\n",
       "  <th>Prob(Omnibus):</th> <td> 0.000</td> <th>  Jarque-Bera (JB):  </th> <td>  66.334</td>\n",
       "</tr>\n",
       "<tr>\n",
       "  <th>Skew:</th>          <td>-0.011</td> <th>  Prob(JB):          </th> <td>3.94e-15</td>\n",
       "</tr>\n",
       "<tr>\n",
       "  <th>Kurtosis:</th>      <td> 4.546</td> <th>  Cond. No.          </th> <td>    2.93</td>\n",
       "</tr>\n",
       "</table><br/><br/>Warnings:<br/>[1] Standard Errors assume that the covariance matrix of the errors is correctly specified."
      ],
      "text/plain": [
       "<class 'statsmodels.iolib.summary.Summary'>\n",
       "\"\"\"\n",
       "                            OLS Regression Results                            \n",
       "==============================================================================\n",
       "Dep. Variable:             Aggression   R-squared:                       0.035\n",
       "Model:                            OLS   Adj. R-squared:                  0.033\n",
       "Method:                 Least Squares   F-statistic:                     23.90\n",
       "Date:                Mon, 16 Sep 2019   Prob (F-statistic):           1.27e-06\n",
       "Time:                        14:58:42   Log-Likelihood:                -172.63\n",
       "No. Observations:                 666   AIC:                             349.3\n",
       "Df Residuals:                     664   BIC:                             358.3\n",
       "Df Model:                           1                                         \n",
       "Covariance Type:            nonrobust                                         \n",
       "==================================================================================\n",
       "                     coef    std err          t      P>|t|      [0.025      0.975]\n",
       "----------------------------------------------------------------------------------\n",
       "Intercept         -0.0068      0.012     -0.560      0.576      -0.031       0.017\n",
       "Computer_Games     0.1742      0.036      4.889      0.000       0.104       0.244\n",
       "==============================================================================\n",
       "Omnibus:                       25.478   Durbin-Watson:                   1.929\n",
       "Prob(Omnibus):                  0.000   Jarque-Bera (JB):               66.334\n",
       "Skew:                          -0.011   Prob(JB):                     3.94e-15\n",
       "Kurtosis:                       4.546   Cond. No.                         2.93\n",
       "==============================================================================\n",
       "\n",
       "Warnings:\n",
       "[1] Standard Errors assume that the covariance matrix of the errors is correctly specified.\n",
       "\"\"\""
      ]
     },
     "execution_count": 41,
     "metadata": {},
     "output_type": "execute_result"
    }
   ],
   "source": [
    "res.summary()"
   ]
  },
  {
   "cell_type": "code",
   "execution_count": 42,
   "metadata": {},
   "outputs": [],
   "source": [
    "res2 = ols('Aggression ~ Television', child).fit()"
   ]
  },
  {
   "cell_type": "code",
   "execution_count": 43,
   "metadata": {},
   "outputs": [
    {
     "data": {
      "text/html": [
       "<table class=\"simpletable\">\n",
       "<caption>OLS Regression Results</caption>\n",
       "<tr>\n",
       "  <th>Dep. Variable:</th>       <td>Aggression</td>    <th>  R-squared:         </th> <td>   0.025</td>\n",
       "</tr>\n",
       "<tr>\n",
       "  <th>Model:</th>                   <td>OLS</td>       <th>  Adj. R-squared:    </th> <td>   0.024</td>\n",
       "</tr>\n",
       "<tr>\n",
       "  <th>Method:</th>             <td>Least Squares</td>  <th>  F-statistic:       </th> <td>   17.11</td>\n",
       "</tr>\n",
       "<tr>\n",
       "  <th>Date:</th>             <td>Mon, 16 Sep 2019</td> <th>  Prob (F-statistic):</th> <td>3.98e-05</td>\n",
       "</tr>\n",
       "<tr>\n",
       "  <th>Time:</th>                 <td>15:12:22</td>     <th>  Log-Likelihood:    </th> <td> -175.93</td>\n",
       "</tr>\n",
       "<tr>\n",
       "  <th>No. Observations:</th>      <td>   666</td>      <th>  AIC:               </th> <td>   355.9</td>\n",
       "</tr>\n",
       "<tr>\n",
       "  <th>Df Residuals:</th>          <td>   664</td>      <th>  BIC:               </th> <td>   364.9</td>\n",
       "</tr>\n",
       "<tr>\n",
       "  <th>Df Model:</th>              <td>     1</td>      <th>                     </th>     <td> </td>   \n",
       "</tr>\n",
       "<tr>\n",
       "  <th>Covariance Type:</th>      <td>nonrobust</td>    <th>                     </th>     <td> </td>   \n",
       "</tr>\n",
       "</table>\n",
       "<table class=\"simpletable\">\n",
       "<tr>\n",
       "       <td></td>         <th>coef</th>     <th>std err</th>      <th>t</th>      <th>P>|t|</th>  <th>[0.025</th>    <th>0.975]</th>  \n",
       "</tr>\n",
       "<tr>\n",
       "  <th>Intercept</th>  <td>   -0.0005</td> <td>    0.012</td> <td>   -0.041</td> <td> 0.967</td> <td>   -0.025</td> <td>    0.024</td>\n",
       "</tr>\n",
       "<tr>\n",
       "  <th>Television</th> <td>    0.1634</td> <td>    0.040</td> <td>    4.137</td> <td> 0.000</td> <td>    0.086</td> <td>    0.241</td>\n",
       "</tr>\n",
       "</table>\n",
       "<table class=\"simpletable\">\n",
       "<tr>\n",
       "  <th>Omnibus:</th>       <td>24.471</td> <th>  Durbin-Watson:     </th> <td>   1.931</td>\n",
       "</tr>\n",
       "<tr>\n",
       "  <th>Prob(Omnibus):</th> <td> 0.000</td> <th>  Jarque-Bera (JB):  </th> <td>  58.038</td>\n",
       "</tr>\n",
       "<tr>\n",
       "  <th>Skew:</th>          <td> 0.108</td> <th>  Prob(JB):          </th> <td>2.50e-13</td>\n",
       "</tr>\n",
       "<tr>\n",
       "  <th>Kurtosis:</th>      <td> 4.430</td> <th>  Cond. No.          </th> <td>    3.23</td>\n",
       "</tr>\n",
       "</table><br/><br/>Warnings:<br/>[1] Standard Errors assume that the covariance matrix of the errors is correctly specified."
      ],
      "text/plain": [
       "<class 'statsmodels.iolib.summary.Summary'>\n",
       "\"\"\"\n",
       "                            OLS Regression Results                            \n",
       "==============================================================================\n",
       "Dep. Variable:             Aggression   R-squared:                       0.025\n",
       "Model:                            OLS   Adj. R-squared:                  0.024\n",
       "Method:                 Least Squares   F-statistic:                     17.11\n",
       "Date:                Mon, 16 Sep 2019   Prob (F-statistic):           3.98e-05\n",
       "Time:                        15:12:22   Log-Likelihood:                -175.93\n",
       "No. Observations:                 666   AIC:                             355.9\n",
       "Df Residuals:                     664   BIC:                             364.9\n",
       "Df Model:                           1                                         \n",
       "Covariance Type:            nonrobust                                         \n",
       "==============================================================================\n",
       "                 coef    std err          t      P>|t|      [0.025      0.975]\n",
       "------------------------------------------------------------------------------\n",
       "Intercept     -0.0005      0.012     -0.041      0.967      -0.025       0.024\n",
       "Television     0.1634      0.040      4.137      0.000       0.086       0.241\n",
       "==============================================================================\n",
       "Omnibus:                       24.471   Durbin-Watson:                   1.931\n",
       "Prob(Omnibus):                  0.000   Jarque-Bera (JB):               58.038\n",
       "Skew:                           0.108   Prob(JB):                     2.50e-13\n",
       "Kurtosis:                       4.430   Cond. No.                         3.23\n",
       "==============================================================================\n",
       "\n",
       "Warnings:\n",
       "[1] Standard Errors assume that the covariance matrix of the errors is correctly specified.\n",
       "\"\"\""
      ]
     },
     "execution_count": 43,
     "metadata": {},
     "output_type": "execute_result"
    }
   ],
   "source": [
    "res2.summary()"
   ]
  },
  {
   "cell_type": "markdown",
   "metadata": {},
   "source": [
    "해석:\n",
    "\n",
    "* 95% 신뢰구간이 둘다 양수이면 p값은 0.05보다 낮다\n",
    "* R-squared : 아이들의 공격성의 3.5%는 컴퓨터 게임으로 설명된다\n",
    "* F-statistic -> Prob(F-statistics) < 0.05 : 데이터가 충분하다\n",
    "* AIC, BIC : 작을수록 좋다 (Computer-Games 가 더 좋음)\n",
    "* Adjusted R-squred: 클수록 좋다 (Computer Games 가 더 좋음)\n",
    "* AIC & BIC vs Adjusted R-squred가 엇갈린다면 데이터를 더 모아라"
   ]
  },
  {
   "cell_type": "code",
   "execution_count": 49,
   "metadata": {},
   "outputs": [
    {
     "data": {
      "text/html": [
       "<div>\n",
       "<style scoped>\n",
       "    .dataframe tbody tr th:only-of-type {\n",
       "        vertical-align: middle;\n",
       "    }\n",
       "\n",
       "    .dataframe tbody tr th {\n",
       "        vertical-align: top;\n",
       "    }\n",
       "\n",
       "    .dataframe thead th {\n",
       "        text-align: right;\n",
       "    }\n",
       "</style>\n",
       "<table border=\"1\" class=\"dataframe\">\n",
       "  <thead>\n",
       "    <tr style=\"text-align: right;\">\n",
       "      <th></th>\n",
       "      <th>Aggression</th>\n",
       "      <th>Television</th>\n",
       "      <th>Computer_Games</th>\n",
       "      <th>Sibling_Aggression</th>\n",
       "      <th>Diet</th>\n",
       "      <th>Parenting_Style</th>\n",
       "    </tr>\n",
       "  </thead>\n",
       "  <tbody>\n",
       "    <tr>\n",
       "      <th>0</th>\n",
       "      <td>0.374160</td>\n",
       "      <td>0.172671</td>\n",
       "      <td>0.141907</td>\n",
       "      <td>-0.328216</td>\n",
       "      <td>-0.110303</td>\n",
       "      <td>-0.279034</td>\n",
       "    </tr>\n",
       "    <tr>\n",
       "      <th>1</th>\n",
       "      <td>0.771153</td>\n",
       "      <td>-0.032872</td>\n",
       "      <td>0.709918</td>\n",
       "      <td>0.576837</td>\n",
       "      <td>-0.022990</td>\n",
       "      <td>-1.248167</td>\n",
       "    </tr>\n",
       "    <tr>\n",
       "      <th>2</th>\n",
       "      <td>-0.097728</td>\n",
       "      <td>-0.074460</td>\n",
       "      <td>-0.390141</td>\n",
       "      <td>-0.217184</td>\n",
       "      <td>0.280301</td>\n",
       "      <td>-0.328063</td>\n",
       "    </tr>\n",
       "    <tr>\n",
       "      <th>3</th>\n",
       "      <td>0.015935</td>\n",
       "      <td>-0.004427</td>\n",
       "      <td>-0.408080</td>\n",
       "      <td>0.046223</td>\n",
       "      <td>-0.263479</td>\n",
       "      <td>-1.005119</td>\n",
       "    </tr>\n",
       "    <tr>\n",
       "      <th>4</th>\n",
       "      <td>-0.275385</td>\n",
       "      <td>-0.675239</td>\n",
       "      <td>-0.277778</td>\n",
       "      <td>-0.891045</td>\n",
       "      <td>0.226581</td>\n",
       "      <td>0.489478</td>\n",
       "    </tr>\n",
       "  </tbody>\n",
       "</table>\n",
       "</div>"
      ],
      "text/plain": [
       "   Aggression  Television  Computer_Games  Sibling_Aggression      Diet  \\\n",
       "0    0.374160    0.172671        0.141907           -0.328216 -0.110303   \n",
       "1    0.771153   -0.032872        0.709918            0.576837 -0.022990   \n",
       "2   -0.097728   -0.074460       -0.390141           -0.217184  0.280301   \n",
       "3    0.015935   -0.004427       -0.408080            0.046223 -0.263479   \n",
       "4   -0.275385   -0.675239       -0.277778           -0.891045  0.226581   \n",
       "\n",
       "   Parenting_Style  \n",
       "0        -0.279034  \n",
       "1        -1.248167  \n",
       "2        -0.328063  \n",
       "3        -1.005119  \n",
       "4         0.489478  "
      ]
     },
     "execution_count": 49,
     "metadata": {},
     "output_type": "execute_result"
    }
   ],
   "source": [
    "child.head()"
   ]
  },
  {
   "cell_type": "code",
   "execution_count": 57,
   "metadata": {},
   "outputs": [
    {
     "data": {
      "text/html": [
       "<table class=\"simpletable\">\n",
       "<caption>OLS Regression Results</caption>\n",
       "<tr>\n",
       "  <th>Dep. Variable:</th>       <td>Aggression</td>    <th>  R-squared:         </th> <td>   0.051</td>\n",
       "</tr>\n",
       "<tr>\n",
       "  <th>Model:</th>                   <td>OLS</td>       <th>  Adj. R-squared:    </th> <td>   0.049</td>\n",
       "</tr>\n",
       "<tr>\n",
       "  <th>Method:</th>             <td>Least Squares</td>  <th>  F-statistic:       </th> <td>   17.99</td>\n",
       "</tr>\n",
       "<tr>\n",
       "  <th>Date:</th>             <td>Mon, 16 Sep 2019</td> <th>  Prob (F-statistic):</th> <td>2.45e-08</td>\n",
       "</tr>\n",
       "<tr>\n",
       "  <th>Time:</th>                 <td>15:30:26</td>     <th>  Log-Likelihood:    </th> <td> -166.81</td>\n",
       "</tr>\n",
       "<tr>\n",
       "  <th>No. Observations:</th>      <td>   666</td>      <th>  AIC:               </th> <td>   339.6</td>\n",
       "</tr>\n",
       "<tr>\n",
       "  <th>Df Residuals:</th>          <td>   663</td>      <th>  BIC:               </th> <td>   353.1</td>\n",
       "</tr>\n",
       "<tr>\n",
       "  <th>Df Model:</th>              <td>     2</td>      <th>                     </th>     <td> </td>   \n",
       "</tr>\n",
       "<tr>\n",
       "  <th>Covariance Type:</th>      <td>nonrobust</td>    <th>                     </th>     <td> </td>   \n",
       "</tr>\n",
       "</table>\n",
       "<table class=\"simpletable\">\n",
       "<tr>\n",
       "         <td></td>           <th>coef</th>     <th>std err</th>      <th>t</th>      <th>P>|t|</th>  <th>[0.025</th>    <th>0.975]</th>  \n",
       "</tr>\n",
       "<tr>\n",
       "  <th>Intercept</th>      <td>   -0.0029</td> <td>    0.012</td> <td>   -0.237</td> <td> 0.813</td> <td>   -0.027</td> <td>    0.021</td>\n",
       "</tr>\n",
       "<tr>\n",
       "  <th>Television</th>     <td>    0.1353</td> <td>    0.040</td> <td>    3.420</td> <td> 0.001</td> <td>    0.058</td> <td>    0.213</td>\n",
       "</tr>\n",
       "<tr>\n",
       "  <th>Computer_Games</th> <td>    0.1539</td> <td>    0.036</td> <td>    4.293</td> <td> 0.000</td> <td>    0.083</td> <td>    0.224</td>\n",
       "</tr>\n",
       "</table>\n",
       "<table class=\"simpletable\">\n",
       "<tr>\n",
       "  <th>Omnibus:</th>       <td>24.166</td> <th>  Durbin-Watson:     </th> <td>   1.934</td>\n",
       "</tr>\n",
       "<tr>\n",
       "  <th>Prob(Omnibus):</th> <td> 0.000</td> <th>  Jarque-Bera (JB):  </th> <td>  57.964</td>\n",
       "</tr>\n",
       "<tr>\n",
       "  <th>Skew:</th>          <td> 0.091</td> <th>  Prob(JB):          </th> <td>2.59e-13</td>\n",
       "</tr>\n",
       "<tr>\n",
       "  <th>Kurtosis:</th>      <td> 4.434</td> <th>  Cond. No.          </th> <td>    3.42</td>\n",
       "</tr>\n",
       "</table><br/><br/>Warnings:<br/>[1] Standard Errors assume that the covariance matrix of the errors is correctly specified."
      ],
      "text/plain": [
       "<class 'statsmodels.iolib.summary.Summary'>\n",
       "\"\"\"\n",
       "                            OLS Regression Results                            \n",
       "==============================================================================\n",
       "Dep. Variable:             Aggression   R-squared:                       0.051\n",
       "Model:                            OLS   Adj. R-squared:                  0.049\n",
       "Method:                 Least Squares   F-statistic:                     17.99\n",
       "Date:                Mon, 16 Sep 2019   Prob (F-statistic):           2.45e-08\n",
       "Time:                        15:30:26   Log-Likelihood:                -166.81\n",
       "No. Observations:                 666   AIC:                             339.6\n",
       "Df Residuals:                     663   BIC:                             353.1\n",
       "Df Model:                           2                                         \n",
       "Covariance Type:            nonrobust                                         \n",
       "==================================================================================\n",
       "                     coef    std err          t      P>|t|      [0.025      0.975]\n",
       "----------------------------------------------------------------------------------\n",
       "Intercept         -0.0029      0.012     -0.237      0.813      -0.027       0.021\n",
       "Television         0.1353      0.040      3.420      0.001       0.058       0.213\n",
       "Computer_Games     0.1539      0.036      4.293      0.000       0.083       0.224\n",
       "==============================================================================\n",
       "Omnibus:                       24.166   Durbin-Watson:                   1.934\n",
       "Prob(Omnibus):                  0.000   Jarque-Bera (JB):               57.964\n",
       "Skew:                           0.091   Prob(JB):                     2.59e-13\n",
       "Kurtosis:                       4.434   Cond. No.                         3.42\n",
       "==============================================================================\n",
       "\n",
       "Warnings:\n",
       "[1] Standard Errors assume that the covariance matrix of the errors is correctly specified.\n",
       "\"\"\""
      ]
     },
     "execution_count": 57,
     "metadata": {},
     "output_type": "execute_result"
    }
   ],
   "source": [
    "res3 = ols('Aggression ~ Television + Computer_Games', child).fit()\n",
    "res3.summary()"
   ]
  },
  {
   "cell_type": "code",
   "execution_count": null,
   "metadata": {},
   "outputs": [],
   "source": []
  }
 ],
 "metadata": {
  "kernelspec": {
   "display_name": "Python 3",
   "language": "python",
   "name": "python3"
  },
  "language_info": {
   "codemirror_mode": {
    "name": "ipython",
    "version": 3
   },
   "file_extension": ".py",
   "mimetype": "text/x-python",
   "name": "python",
   "nbconvert_exporter": "python",
   "pygments_lexer": "ipython3",
   "version": "3.7.4"
  }
 },
 "nbformat": 4,
 "nbformat_minor": 2
}
